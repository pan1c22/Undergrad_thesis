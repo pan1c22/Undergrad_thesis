{
 "cells": [
  {
   "cell_type": "markdown",
   "metadata": {},
   "source": [
    "## Import Default packages"
   ]
  },
  {
   "cell_type": "code",
   "execution_count": 1,
   "metadata": {},
   "outputs": [],
   "source": [
    "import numpy as np\n",
    "import pandas as pd\n",
    "import matplotlib.pyplot as plt\n",
    "%matplotlib inline"
   ]
  },
  {
   "cell_type": "markdown",
   "metadata": {},
   "source": [
    "## Import COSMIC Packages"
   ]
  },
  {
   "cell_type": "code",
   "execution_count": 2,
   "metadata": {},
   "outputs": [],
   "source": [
    "import cosmic\n",
    "from cosmic.sample.initialbinarytable import InitialBinaryTable\n",
    "from cosmic.evolve import Evolve\n",
    "from cosmic.sample.sampler import independent"
   ]
  },
  {
   "cell_type": "markdown",
   "metadata": {},
   "source": [
    "## Set Initial Binaries parameters"
   ]
  },
  {
   "cell_type": "code",
   "execution_count": 3,
   "metadata": {},
   "outputs": [
    {
     "name": "stdout",
     "output_type": "stream",
     "text": [
      "     kstar_1  kstar_2    mass_1    mass_2           porb       ecc  \\\n",
      "0        1.0      1.0  2.640018  0.809036     343.136258  0.006665   \n",
      "1        1.0      1.0  7.251293  4.628699       2.139354  0.129599   \n",
      "2        1.0      0.0  0.844233  0.662983    4198.957221  0.484594   \n",
      "3        1.0      0.0  0.759405  0.552814       8.659069  0.486679   \n",
      "4        0.0      0.0  0.575718  0.524620  108338.951211  0.083406   \n",
      "..       ...      ...       ...       ...            ...       ...   \n",
      "100      1.0      1.0  1.315719  0.843196    9142.249676  0.295743   \n",
      "101      1.0      1.0  1.447060  1.220988   43432.013165  0.001760   \n",
      "102      1.0      1.0  2.007188  1.108032      14.996697  0.391232   \n",
      "103      1.0      1.0  0.979857  0.744904     390.963110  0.322162   \n",
      "104      1.0      1.0  1.174827  0.732420       2.247962  0.183086   \n",
      "\n",
      "     metallicity   tphysf   mass0_1   mass0_2  ...  tacc_1  tacc_2  epoch_1  \\\n",
      "0           0.02  13700.0  2.640018  0.809036  ...     0.0     0.0      0.0   \n",
      "1           0.02  13700.0  7.251293  4.628699  ...     0.0     0.0      0.0   \n",
      "2           0.02  13700.0  0.844233  0.662983  ...     0.0     0.0      0.0   \n",
      "3           0.02  13700.0  0.759405  0.552814  ...     0.0     0.0      0.0   \n",
      "4           0.02  13700.0  0.575718  0.524620  ...     0.0     0.0      0.0   \n",
      "..           ...      ...       ...       ...  ...     ...     ...      ...   \n",
      "100         0.02  13700.0  1.315719  0.843196  ...     0.0     0.0      0.0   \n",
      "101         0.02  13700.0  1.447060  1.220988  ...     0.0     0.0      0.0   \n",
      "102         0.02  13700.0  2.007188  1.108032  ...     0.0     0.0      0.0   \n",
      "103         0.02  13700.0  0.979857  0.744904  ...     0.0     0.0      0.0   \n",
      "104         0.02  13700.0  1.174827  0.732420  ...     0.0     0.0      0.0   \n",
      "\n",
      "     epoch_2  tms_1  tms_2  bhspin_1  bhspin_2  tphys  binfrac  \n",
      "0        0.0    0.0    0.0       0.0       0.0    0.0      0.5  \n",
      "1        0.0    0.0    0.0       0.0       0.0    0.0      0.5  \n",
      "2        0.0    0.0    0.0       0.0       0.0    0.0      0.5  \n",
      "3        0.0    0.0    0.0       0.0       0.0    0.0      0.5  \n",
      "4        0.0    0.0    0.0       0.0       0.0    0.0      0.5  \n",
      "..       ...    ...    ...       ...       ...    ...      ...  \n",
      "100      0.0    0.0    0.0       0.0       0.0    0.0      0.5  \n",
      "101      0.0    0.0    0.0       0.0       0.0    0.0      0.5  \n",
      "102      0.0    0.0    0.0       0.0       0.0    0.0      0.5  \n",
      "103      0.0    0.0    0.0       0.0       0.0    0.0      0.5  \n",
      "104      0.0    0.0    0.0       0.0       0.0    0.0      0.5  \n",
      "\n",
      "[105 rows x 38 columns]\n"
     ]
    }
   ],
   "source": [
    "#Setting what evolution types are allowed\n",
    "final_kstar1 = [10,11,12]\n",
    "final_kstar2 = [10,11,12]\n",
    "\n",
    "#Set the initial binary population parameters\n",
    "InitialBinaries, mass_singles, mass_binaries, n_singles, n_binaries = \\\n",
    "     InitialBinaryTable.sampler('independent', final_kstar1, final_kstar2, binfrac_model=0.5,\n",
    "                                primary_model='kroupa01', ecc_model='sana12', porb_model='sana12',\n",
    "                                qmin=-1, SF_start=13700.0, SF_duration=0.0, met=0.02, size=100)\n",
    "\n",
    "print(InitialBinaries)"
   ]
  },
  {
   "cell_type": "code",
   "execution_count": 4,
   "metadata": {},
   "outputs": [
    {
     "name": "stderr",
     "output_type": "stream",
     "text": [
      "/Users/noahbungart/opt/anaconda3/lib/python3.8/site-packages/cosmic/evolve.py:258: UserWarning: The value for dtp in initial binary table is being overwritten by the value of dtp from either the params file or the BSEDict.\n",
      "  warnings.warn(\"The value for {0} in initial binary table is being \"\n"
     ]
    },
    {
     "name": "stdout",
     "output_type": "stream",
     "text": [
      "     tphys  kstar_1   mass0_1    mass_1        lum_1     rad_1        teff_1  \\\n",
      "0      0.0      1.0  2.640018  2.640018    46.208762  1.942960  10844.729403   \n",
      "0  13700.0     11.0  0.591952  0.591952     0.000003  0.012888   2094.767482   \n",
      "1      0.0      1.0  7.251293  7.251293  1940.125967  3.444631  20732.693902   \n",
      "1  13700.0     15.0  0.580548  0.000000    35.348147  0.136225  38303.013843   \n",
      "2      0.0      1.0  0.844233  0.844233     0.275220  0.762371   4809.570941   \n",
      "2  13700.0      1.0  0.844233  0.844233     0.467164  0.874007   5127.192052   \n",
      "3      0.0      1.0  0.759405  0.759405     0.166860  0.701864   4423.146990   \n",
      "3  13700.0      1.0  0.759405  0.759405     0.231967  0.755507   4629.212318   \n",
      "4      0.0      0.0  0.575718  0.575718     0.054738  0.531893   3845.293112   \n",
      "4  13700.0      0.0  0.575718  0.575718     0.059620  0.547216   3872.913189   \n",
      "\n",
      "    massc_1    radc_1        menv_1  ...           porb          sep  \\\n",
      "0  0.000000  0.000000  1.000000e-10  ...     343.136258   311.527426   \n",
      "0  0.591952  0.012888  1.000000e-10  ...       2.064339     7.632529   \n",
      "1  0.000000  0.000000  1.000000e-10  ...       2.139354    15.937215   \n",
      "1  0.000000  0.000000  5.805481e-01  ...       0.000000     0.000000   \n",
      "2  0.000000  0.000000  5.011239e-02  ...    4198.957221  1255.368770   \n",
      "2  0.000000  0.000000  4.983844e-02  ...    4198.957221  1255.368770   \n",
      "3  0.000000  0.000000  6.086773e-02  ...       8.659069    19.420844   \n",
      "3  0.000000  0.000000  6.091695e-02  ...       8.505902    19.191145   \n",
      "4  0.000000  0.000000  1.065101e-01  ...  108338.951211  9869.995597   \n",
      "4  0.000000  0.000000  1.065102e-01  ...  108338.951211  9869.995597   \n",
      "\n",
      "        ecc  B_1           B_2  SN_1  SN_2  bin_state  merger_type  bin_num  \n",
      "0  0.006665  0.0  0.000000e+00   0.0   0.0          0         -001        0  \n",
      "0  0.000000  0.0  0.000000e+00   0.0   0.0          0         -001        0  \n",
      "1  0.129599  0.0  0.000000e+00   0.0   0.0          0         -001        1  \n",
      "1 -1.000000  0.0  4.690861e+11   0.0   1.0          1         0207        1  \n",
      "2  0.484594  0.0  0.000000e+00   0.0   0.0          0         -001        2  \n",
      "2  0.484594  0.0  0.000000e+00   0.0   0.0          0         -001        2  \n",
      "3  0.486679  0.0  0.000000e+00   0.0   0.0          0         -001        3  \n",
      "3  0.479986  0.0  0.000000e+00   0.0   0.0          0         -001        3  \n",
      "4  0.083406  0.0  0.000000e+00   0.0   0.0          0         -001        4  \n",
      "4  0.083406  0.0  0.000000e+00   0.0   0.0          0         -001        4  \n",
      "\n",
      "[10 rows x 39 columns]\n"
     ]
    }
   ],
   "source": [
    "#Set the BSEDict\n",
    "BSEDict = {'xi': 1.0, 'bhflag': 1, 'neta': 0.5, 'windflag': 3, 'wdflag': 1, 'alpha1': 1.0, 'pts1': 0.001, 'pts3': 0.02, 'pts2': 0.01, 'epsnov': 0.001, 'hewind': 0.5, 'ck': 1000, 'bwind': 0.0, 'lambdaf': 0.0, 'mxns': 3.0, 'beta': -1.0, 'tflag': 1, 'acc2': 1.5, 'grflag' : 1, 'remnantflag': 4, 'ceflag': 0, 'eddfac': 1.0, 'ifflag': 0, 'bconst': 3000, 'sigma': 265.0, 'gamma': -2.0, 'pisn': 45.0, 'natal_kick_array' : [[-100.0,-100.0,-100.0,-100.0,0.0], [-100.0,-100.0,-100.0,-100.0,0.0]], 'bhsigmafrac' : 1.0, 'polar_kick_angle' : 90, 'qcrit_array' : [0.0,0.0,0.0,0.0,0.0,0.0,0.0,0.0,0.0,0.0,0.0,0.0,0.0,0.0,0.0,0.0], 'cekickflag' : 2, 'cehestarflag' : 0, 'cemergeflag' : 0, 'ecsn' : 2.25, 'ecsn_mlow' : 1.6, 'aic' : 1, 'ussn' : 0, 'sigmadiv' :-20.0, 'qcflag' : 1, 'eddlimflag' : 0, 'fprimc_array' : [2.0/21.0,2.0/21.0,2.0/21.0,2.0/21.0,2.0/21.0,2.0/21.0,2.0/21.0,2.0/21.0,2.0/21.0,2.0/21.0,2.0/21.0,2.0/21.0,2.0/21.0,2.0/21.0,2.0/21.0,2.0/21.0], 'bhspinflag' : 0, 'bhspinmag' : 0.0, 'rejuv_fac' : 1.0, 'rejuvflag' : 0, 'htpmb' : 1, 'ST_cr' : 1, 'ST_tide' : 1, 'bdecayfac' : 1, 'rembar_massloss' : 0.5, 'kickflag' : 0, 'zsun' : 0.014, 'bhms_coll_flag' : 0, 'don_lim' : -1, 'acc_lim' : -1, 'dtp' : 13700.0}\n",
    "\n",
    "#Evolve the system\n",
    "bpp, bcm, initC, kick_info  = Evolve.evolve(initialbinarytable=InitialBinaries, BSEDict=BSEDict)\n",
    "\n",
    "print(bcm.iloc[:10])"
   ]
  },
  {
   "cell_type": "code",
   "execution_count": 5,
   "metadata": {},
   "outputs": [],
   "source": [
    "#print(bpp.iloc[:10])"
   ]
  },
  {
   "cell_type": "markdown",
   "metadata": {},
   "source": [
    "## Get all parameters wanted/needed\n",
    "## (mass1, mass2, period, ecc, semi-major(a), sini, rv_variability)\n",
    "### sini is not calculated so create artificial data"
   ]
  },
  {
   "cell_type": "code",
   "execution_count": 6,
   "metadata": {},
   "outputs": [],
   "source": [
    "mass1 = bcm.mass_1[bcm.tphys == 13700.0]\n",
    "#print(mass1)\n",
    "mass2 = bcm.mass_2[bcm.tphys == 13700.0]\n",
    "#print(mass2)\n",
    "period = bcm.porb[bcm.tphys == 13700.0]\n",
    "#print(period)\n",
    "ecc = bcm.ecc[bcm.tphys == 13700.0]\n",
    "#print(ecc)\n",
    "a = bcm.sep[bcm.tphys == 13700.0]\n",
    "#print(a)"
   ]
  },
  {
   "cell_type": "code",
   "execution_count": 7,
   "metadata": {},
   "outputs": [
    {
     "name": "stdout",
     "output_type": "stream",
     "text": [
      "105\n",
      "105\n",
      "105\n",
      "105\n",
      "105\n"
     ]
    }
   ],
   "source": [
    "#Checking to make sure all initial dataframes are the \n",
    "#same length\n",
    "print(len(mass1))\n",
    "print(len(mass2))\n",
    "print(len(period))\n",
    "print(len(ecc))\n",
    "print(len(a))"
   ]
  },
  {
   "cell_type": "code",
   "execution_count": 8,
   "metadata": {},
   "outputs": [
    {
     "name": "stdout",
     "output_type": "stream",
     "text": [
      "105\n"
     ]
    }
   ],
   "source": [
    "#Create artificial sini data\n",
    "sin_i = np.random.uniform(0, 1, len(mass1))\n",
    "print(len(sin_i))"
   ]
  },
  {
   "cell_type": "code",
   "execution_count": 9,
   "metadata": {},
   "outputs": [],
   "source": [
    "#Define rv_variability function\n",
    "def rv_variable(m1, m2, a, period, ecc, sin_i):\n",
    "    \"\"\"\n",
    "    Function to calculate readial velocity variability\n",
    "    \n",
    "    m1: Mass 1\n",
    "    m2: Mass 2\n",
    "    period: Period\n",
    "    ecc: Eccentricity\n",
    "    a: amplitude\n",
    "    \"\"\"\n",
    "    var = (2*np.pi*a*m2*sin_i)/(period*(m1+m2)*(1-ecc**2)**(1/2))\n",
    "    return var"
   ]
  },
  {
   "cell_type": "markdown",
   "metadata": {},
   "source": [
    "## Problems occur past here:\n",
    "1.Periods of 0 and -1 and inf\n",
    "\n",
    "2.Semi-major axis(a) of 0 and -1\n",
    "\n",
    "3.Eccentricity of -1\n",
    "\n",
    "4.Might be hidden 'inf' values\n",
    "\n",
    "5.Check to make sure all rv_var values are positive and non-zero"
   ]
  },
  {
   "cell_type": "code",
   "execution_count": 10,
   "metadata": {},
   "outputs": [
    {
     "name": "stdout",
     "output_type": "stream",
     "text": [
      "0      0.000000e+00\n",
      "1     -1.000000e+00\n",
      "2      4.845943e-01\n",
      "3      4.799859e-01\n",
      "4      8.340614e-02\n",
      "5     -1.000000e+00\n",
      "6      4.913440e-01\n",
      "7      3.828193e-02\n",
      "8      2.897976e-02\n",
      "9     -1.000000e+00\n",
      "10    -1.000000e+00\n",
      "11    -1.000000e+00\n",
      "12    -1.000000e+00\n",
      "13    -1.000000e+00\n",
      "14    -1.000000e+00\n",
      "15    -1.000000e+00\n",
      "16    -1.000000e+00\n",
      "17     0.000000e+00\n",
      "18    -1.000000e+00\n",
      "19    -1.000000e+00\n",
      "20    -1.000000e+00\n",
      "21    -1.000000e+00\n",
      "22     0.000000e+00\n",
      "23    -1.000000e+00\n",
      "24    -1.000000e+00\n",
      "25     3.506704e-02\n",
      "26     2.337700e-01\n",
      "27    -1.000000e+00\n",
      "28     0.000000e+00\n",
      "29     3.580047e-01\n",
      "30    -1.000000e+00\n",
      "31    -1.000000e+00\n",
      "32     3.636614e-01\n",
      "33    -1.000000e+00\n",
      "34     0.000000e+00\n",
      "35    -1.000000e+00\n",
      "36    -1.000000e+00\n",
      "37    -1.000000e+00\n",
      "38    -1.000000e+00\n",
      "39     5.365124e-01\n",
      "40    -1.000000e+00\n",
      "41     8.110938e-01\n",
      "42    -1.000000e+00\n",
      "43    -1.000000e+00\n",
      "44     2.247349e-01\n",
      "45     0.000000e+00\n",
      "46     4.726231e-02\n",
      "47    -1.000000e+00\n",
      "48     3.478533e-01\n",
      "49    -1.000000e+00\n",
      "50    -1.000000e+00\n",
      "51    -1.000000e+00\n",
      "52     4.435567e-01\n",
      "53    -1.000000e+00\n",
      "54     1.237650e-01\n",
      "55     5.174332e-01\n",
      "56    -1.000000e+00\n",
      "57     2.504755e-01\n",
      "58     4.531195e-03\n",
      "59     0.000000e+00\n",
      "60     1.840800e-02\n",
      "61     6.154749e-01\n",
      "62     0.000000e+00\n",
      "63    -1.000000e+00\n",
      "64     7.909927e-02\n",
      "65     0.000000e+00\n",
      "66     3.851637e-02\n",
      "67     1.175466e-01\n",
      "68    -1.000000e+00\n",
      "69     0.000000e+00\n",
      "70     5.666068e-01\n",
      "71    -1.000000e+00\n",
      "72    -1.000000e+00\n",
      "73    -1.000000e+00\n",
      "74    -1.000000e+00\n",
      "75    -1.000000e+00\n",
      "76     0.000000e+00\n",
      "77     0.000000e+00\n",
      "78     0.000000e+00\n",
      "79    -1.000000e+00\n",
      "80     4.177841e-01\n",
      "81    -1.000000e+00\n",
      "82     2.928362e-01\n",
      "83     0.000000e+00\n",
      "84    -1.000000e+00\n",
      "85    -1.000000e+00\n",
      "86    -1.000000e+00\n",
      "87     2.062463e-02\n",
      "88     3.052483e-01\n",
      "89     7.322769e-08\n",
      "90    -1.000000e+00\n",
      "91     8.866976e-02\n",
      "92     0.000000e+00\n",
      "93    -1.000000e+00\n",
      "94    -1.000000e+00\n",
      "95     0.000000e+00\n",
      "96    -1.000000e+00\n",
      "97     0.000000e+00\n",
      "98     0.000000e+00\n",
      "99    -1.000000e+00\n",
      "100    2.779558e-01\n",
      "101    1.736570e-03\n",
      "102   -1.000000e+00\n",
      "103    3.221620e-01\n",
      "104   -1.000000e+00\n",
      "Name: ecc, dtype: float64\n"
     ]
    }
   ],
   "source": [
    "#Here you can manually check\n",
    "#What values you'd want to remove\n",
    "pd.set_option(\"display.max_rows\", None, \"display.max_columns\", None)\n",
    "print(ecc)"
   ]
  },
  {
   "cell_type": "code",
   "execution_count": 11,
   "metadata": {},
   "outputs": [
    {
     "name": "stdout",
     "output_type": "stream",
     "text": [
      "51\n"
     ]
    }
   ],
   "source": [
    "p = period[period != 0]\n",
    "p = p[p != -1]\n",
    "p = p[p != np.inf]\n",
    "print(len(p))"
   ]
  },
  {
   "cell_type": "code",
   "execution_count": 12,
   "metadata": {},
   "outputs": [
    {
     "name": "stdout",
     "output_type": "stream",
     "text": [
      "52\n"
     ]
    }
   ],
   "source": [
    "semi = a[a != 0]\n",
    "semi = semi[semi != -1]\n",
    "print(len(semi))"
   ]
  },
  {
   "cell_type": "code",
   "execution_count": 13,
   "metadata": {},
   "outputs": [
    {
     "name": "stdout",
     "output_type": "stream",
     "text": [
      "53\n"
     ]
    }
   ],
   "source": [
    "e = ecc[ecc != -1]\n",
    "print(len(e))"
   ]
  },
  {
   "cell_type": "markdown",
   "metadata": {},
   "source": [
    "## Now we have new filtered dataframes:\n",
    " But they are different lengths so can't pass through function, so must make them all the same length\n",
    " Find the indecies of all unwanted values to remove"
   ]
  },
  {
   "cell_type": "code",
   "execution_count": 14,
   "metadata": {},
   "outputs": [
    {
     "name": "stdout",
     "output_type": "stream",
     "text": [
      "48 5 1\n",
      "51\n"
     ]
    }
   ],
   "source": [
    "#Period indecies\n",
    "x = period.index[period == 0]\n",
    "y = period.index[period == -1]\n",
    "z = period.index[period == np.inf]\n",
    "print(len(x), len(y), len(z))\n",
    "print(len(period) - (len(x) + len(y) + len(z)))"
   ]
  },
  {
   "cell_type": "code",
   "execution_count": 15,
   "metadata": {},
   "outputs": [
    {
     "name": "stdout",
     "output_type": "stream",
     "text": [
      "Int64Index([  1,   5,   9,  10,  11,  12,  13,  14,  15,  16,  18,  19,  20,\n",
      "             21,  23,  27,  30,  31,  33,  35,  37,  38,  40,  42,  47,  49,\n",
      "             50,  51,  53,  56,  63,  68,  71,  72,  73,  74,  75,  79,  81,\n",
      "             84,  85,  86,  90,  93,  94,  96, 102, 104,  24,  43,  59,  62,\n",
      "             65,  97],\n",
      "           dtype='int64')\n",
      "54\n"
     ]
    }
   ],
   "source": [
    "#Create the delete dataframe\n",
    "del_arr = x\n",
    "del_arr = del_arr.append(y)\n",
    "del_arr = del_arr.append(z)\n",
    "print(del_arr)\n",
    "print(len(del_arr))"
   ]
  },
  {
   "cell_type": "code",
   "execution_count": 16,
   "metadata": {},
   "outputs": [
    {
     "name": "stdout",
     "output_type": "stream",
     "text": [
      "48 5 53\n"
     ]
    }
   ],
   "source": [
    "#Semi major axis indecies\n",
    "x = a.index[a == 0]\n",
    "y = a.index[a == -1]\n",
    "ind = x.append(y)\n",
    "print(len(x), len(y), len(ind))"
   ]
  },
  {
   "cell_type": "code",
   "execution_count": 17,
   "metadata": {},
   "outputs": [
    {
     "name": "stdout",
     "output_type": "stream",
     "text": [
      "<class 'pandas.core.indexes.numeric.Int64Index'> <class 'pandas.core.indexes.numeric.Int64Index'>\n"
     ]
    }
   ],
   "source": [
    "print(type(del_arr), type(ind))\n",
    "\n",
    "#Update del_arr\n",
    "for i in range(len(ind)):\n",
    "    for j in range(len(del_arr)):\n",
    "        if (del_arr[j] != ind[i]):\n",
    "#             print(ind[i], type(ind[i]))\n",
    "#             del_arr.append(ind[i])\n",
    "            del_arr.append(pd.Index([ind[i]]))\n",
    "        "
   ]
  },
  {
   "cell_type": "code",
   "execution_count": 18,
   "metadata": {},
   "outputs": [
    {
     "name": "stdout",
     "output_type": "stream",
     "text": [
      "Int64Index([  1,   5,   9,  10,  11,  12,  13,  14,  15,  16,  18,  19,  20,\n",
      "             21,  23,  27,  30,  31,  33,  35,  37,  38,  40,  42,  47,  49,\n",
      "             50,  51,  53,  56,  63,  68,  71,  72,  73,  74,  75,  79,  81,\n",
      "             84,  85,  86,  90,  93,  94,  96, 102, 104,  24,  43,  59,  62,\n",
      "             65,  97],\n",
      "           dtype='int64')\n"
     ]
    }
   ],
   "source": [
    "print(del_arr)"
   ]
  },
  {
   "cell_type": "code",
   "execution_count": 19,
   "metadata": {},
   "outputs": [
    {
     "name": "stdout",
     "output_type": "stream",
     "text": [
      "52\n"
     ]
    }
   ],
   "source": [
    "#Eccentricity indecies\n",
    "x = ecc.index[ecc == -1]\n",
    "print(len(x))"
   ]
  },
  {
   "cell_type": "code",
   "execution_count": 20,
   "metadata": {},
   "outputs": [],
   "source": [
    "#Final del_arr update\n",
    "\n",
    "for i in range(len(x)):\n",
    "    for j in range(len(del_arr)):\n",
    "        if (del_arr[j] != x[i]):\n",
    "            del_arr.append(pd.Index([x[i]]))"
   ]
  },
  {
   "cell_type": "code",
   "execution_count": 21,
   "metadata": {},
   "outputs": [
    {
     "name": "stdout",
     "output_type": "stream",
     "text": [
      "Int64Index([  1,   5,   9,  10,  11,  12,  13,  14,  15,  16,  18,  19,  20,\n",
      "             21,  23,  27,  30,  31,  33,  35,  37,  38,  40,  42,  47,  49,\n",
      "             50,  51,  53,  56,  63,  68,  71,  72,  73,  74,  75,  79,  81,\n",
      "             84,  85,  86,  90,  93,  94,  96, 102, 104,  24,  43,  59,  62,\n",
      "             65,  97],\n",
      "           dtype='int64')\n",
      "54\n"
     ]
    }
   ],
   "source": [
    "print(del_arr)\n",
    "print(len(del_arr))"
   ]
  },
  {
   "cell_type": "markdown",
   "metadata": {},
   "source": [
    "#Delete Items from dataframes\n",
    "test = ecc\n",
    "print(test)\n",
    "for i in range(len(del_arr)):\n",
    "    test.drop(index=[i])\n",
    "print(test)"
   ]
  },
  {
   "cell_type": "code",
   "execution_count": 22,
   "metadata": {},
   "outputs": [],
   "source": [
    "#Method 2: Create new series, not delete from previous\n",
    "test2 = []\n",
    "for i in range(len(ecc)):\n",
    "    if ecc.index[i] not in del_arr:\n",
    "        test2.append(ecc[i])\n",
    "    "
   ]
  },
  {
   "cell_type": "code",
   "execution_count": 23,
   "metadata": {},
   "outputs": [
    {
     "name": "stdout",
     "output_type": "stream",
     "text": [
      "105\n",
      "51\n"
     ]
    }
   ],
   "source": [
    "print(len(ecc))\n",
    "print(len(test2))"
   ]
  },
  {
   "cell_type": "code",
   "execution_count": 24,
   "metadata": {},
   "outputs": [],
   "source": [
    "test3 = []\n",
    "for i in range(len(period)):\n",
    "    if period.index[i] not in del_arr:\n",
    "        test3.append(period[i])"
   ]
  },
  {
   "cell_type": "code",
   "execution_count": 25,
   "metadata": {},
   "outputs": [],
   "source": [
    "test4 = []\n",
    "for i in range(len(a)):\n",
    "    if a.index[i] not in del_arr:\n",
    "        test4.append(a[i])"
   ]
  },
  {
   "cell_type": "code",
   "execution_count": 26,
   "metadata": {},
   "outputs": [
    {
     "name": "stdout",
     "output_type": "stream",
     "text": [
      "[0.0, 0.48459425165214143, 0.47998588404780046, 0.08340614297853104, 0.49134399142138413, 0.038281931618264674, 0.028979763154337743, 0.0, 0.0, 0.03506703683480897, 0.23377002634486008, 0.0, 0.35800467776295813, 0.3636614169991965, 0.0, -1.0, 0.5365124139083762, 0.8110938363707534, 0.2247348836877355, 0.0, 0.04726231203016882, 0.3478532926142437, 0.4435567243701977, 0.12376495199891956, 0.5174332203335246, 0.250475457595567, 0.004531194985400554, 0.01840799858787523, 0.6154749029403671, 0.07909927009985537, 0.038516370450894295, 0.1175465509613034, 0.0, 0.5666068468832547, 0.0, 0.0, 0.0, 0.4177841039806341, 0.2928361573688817, 0.0, 0.020624627371091227, 0.30524832245000155, 7.322769450509546e-08, 0.08866976178198133, 0.0, 0.0, 0.0, -1.0, 0.2779557627782157, 0.00173656958226175, 0.3221620464184737]\n",
      "[2.0643391896481136, 4198.957220788026, 8.505902257265873, 108338.95121107555, 59.79874578414541, 811.5250157758643, 27.9974541369813, 28.483811857508464, 24.73574661498331, 12137.756155008676, 126118.63381156574, 0.33628240897420425, 3795.198230332714, 1098.701169225664, 1.2521263648762158, 0.017677570299920866, 37.7895501126835, 164037.1043307155, 16073.428629030102, 0.828481047671904, 3444855.1656881133, 1.3799134977400047, 231075.23547090334, 615477.5677086124, 1574.2674148351934, 21267.82596215816, 19660.248434868627, 4.07706683978291, 23372.087193026426, 160.95878447472074, 1024.6907874919175, 801543.8243908023, 1.6539694144026618, 4611181.2156119635, 0.8621682917621207, 1.506203539524131, 0.3838059030622676, 78945.29398443493, 86842.76906592606, 0.08022118226657479, 163155.31351843785, 7.093758558902759, 7562.116782851454, 6862.597642413717, 6.52271099474961, 19.98978238990419, 0.020969185481189787, 0.03610096724583567, 18914.907357070922, 272045.41166913783, 391.1373599321491]\n",
      "[7.632528520415612, 1255.3687698513077, 19.191144887933167, 9869.995597096453, 73.34384891801314, 427.26577476439763, 40.03675386880125, 39.972246819126674, 36.74541783138031, 2360.996274642256, 11007.085300175713, 1.8641472023279277, 1171.2734475765385, 525.1437491717479, 5.479140072574321, 0.12105577329715463, 52.25560796114463, 14220.529746795739, 3291.1383988760167, 3.613439791941858, 110220.01431149879, 5.2796976624006335, 19251.203565764274, 32099.699580093118, 665.1013995524372, 3697.493359587415, 3251.299488724837, 11.727748094034048, 3767.5839585108347, 149.5816274282793, 531.8149306365011, 47995.91328315291, 6.374263390588573, 150834.09746417298, 3.9749177003653893, 5.704746195908794, 2.5462780196889696, 8589.826681743309, 9130.984045324152, 0.8610081584857109, 13776.699503921564, 15.777324931013718, 1706.982360032563, 1594.379659295347, 16.24800031111529, 34.365295986254196, 0.2678764705331253, 0.17214332533575347, 3340.1028165951407, 17958.54103689692, 269.804230877668]\n"
     ]
    }
   ],
   "source": [
    "print(test2)\n",
    "print(test3)\n",
    "print(test4)"
   ]
  },
  {
   "cell_type": "markdown",
   "metadata": {},
   "source": [
    "## Possible dummy stupid simple method"
   ]
  },
  {
   "cell_type": "code",
   "execution_count": 27,
   "metadata": {},
   "outputs": [],
   "source": [
    "#period indecies\n",
    "x = period.index[period == 0]\n",
    "y = period.index[period == -1]\n",
    "z = period.index[period == np.inf]\n",
    "\n",
    "#Update del_arr\n",
    "del_arr = x\n",
    "del_arr = del_arr.append(y)\n",
    "del_arr = del_arr.append(z)\n",
    "\n",
    "#Semi major indecies\n",
    "x_2 = a.index[a == 0]\n",
    "y_2 = a.index[a == -1]\n",
    "ind = x.append(y_2)\n",
    "\n",
    "#Update del_arr\n",
    "del_arr.append(ind)\n",
    "\n",
    "#Ecc indecies\n",
    "x_3 = ecc.index[ecc == -1]\n",
    "\n",
    "#Update del_arr\n",
    "del_arr.append(x_3)\n",
    "\n",
    "#Create final array and remove dupplicates\n",
    "delete_arr=[]\n",
    "for i in del_arr:\n",
    "    if i not in delete_arr:\n",
    "        delete_arr.append(i)"
   ]
  },
  {
   "cell_type": "code",
   "execution_count": 28,
   "metadata": {},
   "outputs": [
    {
     "name": "stdout",
     "output_type": "stream",
     "text": [
      "Int64Index([  1,   5,   9,  10,  11,  12,  13,  14,  15,  16,  18,  19,  20,\n",
      "             21,  23,  24,  27,  30,  31,  33,  35,  36,  37,  38,  40,  42,\n",
      "             43,  47,  49,  50,  51,  53,  56,  63,  68,  71,  72,  73,  74,\n",
      "             75,  79,  81,  84,  85,  86,  90,  93,  94,  96,  99, 102, 104],\n",
      "           dtype='int64')\n"
     ]
    }
   ],
   "source": [
    "#print(ecc)\n",
    "print(x_3)"
   ]
  },
  {
   "cell_type": "code",
   "execution_count": 29,
   "metadata": {},
   "outputs": [
    {
     "name": "stdout",
     "output_type": "stream",
     "text": [
      "Int64Index([  1,   5,   9,  10,  11,  12,  13,  14,  15,  16,  18,  19,  20,\n",
      "             21,  23,  27,  30,  31,  33,  35,  37,  38,  40,  42,  47,  49,\n",
      "             50,  51,  53,  56,  63,  68,  71,  72,  73,  74,  75,  79,  81,\n",
      "             84,  85,  86,  90,  93,  94,  96, 102, 104,  24,  43,  59,  62,\n",
      "             65,  97],\n",
      "           dtype='int64')\n",
      "[1, 5, 9, 10, 11, 12, 13, 14, 15, 16, 18, 19, 20, 21, 23, 27, 30, 31, 33, 35, 37, 38, 40, 42, 47, 49, 50, 51, 53, 56, 63, 68, 71, 72, 73, 74, 75, 79, 81, 84, 85, 86, 90, 93, 94, 96, 102, 104, 24, 43, 59, 62, 65, 97]\n"
     ]
    }
   ],
   "source": [
    "print(del_arr)\n",
    "print(delete_arr)"
   ]
  },
  {
   "cell_type": "code",
   "execution_count": 30,
   "metadata": {},
   "outputs": [
    {
     "name": "stdout",
     "output_type": "stream",
     "text": [
      "[0.0, 0.48459425165214143, 0.47998588404780046, 0.08340614297853104, 0.49134399142138413, 0.038281931618264674, 0.028979763154337743, 0.0, 0.0, 0.03506703683480897, 0.23377002634486008, 0.0, 0.35800467776295813, 0.3636614169991965, 0.0, -1.0, 0.5365124139083762, 0.8110938363707534, 0.2247348836877355, 0.0, 0.04726231203016882, 0.3478532926142437, 0.4435567243701977, 0.12376495199891956, 0.5174332203335246, 0.250475457595567, 0.004531194985400554, 0.01840799858787523, 0.6154749029403671, 0.07909927009985537, 0.038516370450894295, 0.1175465509613034, 0.0, 0.5666068468832547, 0.0, 0.0, 0.0, 0.4177841039806341, 0.2928361573688817, 0.0, 0.020624627371091227, 0.30524832245000155, 7.322769450509546e-08, 0.08866976178198133, 0.0, 0.0, 0.0, -1.0, 0.2779557627782157, 0.00173656958226175, 0.3221620464184737]\n",
      "[2.0643391896481136, 4198.957220788026, 8.505902257265873, 108338.95121107555, 59.79874578414541, 811.5250157758643, 27.9974541369813, 28.483811857508464, 24.73574661498331, 12137.756155008676, 126118.63381156574, 0.33628240897420425, 3795.198230332714, 1098.701169225664, 1.2521263648762158, 0.017677570299920866, 37.7895501126835, 164037.1043307155, 16073.428629030102, 0.828481047671904, 3444855.1656881133, 1.3799134977400047, 231075.23547090334, 615477.5677086124, 1574.2674148351934, 21267.82596215816, 19660.248434868627, 4.07706683978291, 23372.087193026426, 160.95878447472074, 1024.6907874919175, 801543.8243908023, 1.6539694144026618, 4611181.2156119635, 0.8621682917621207, 1.506203539524131, 0.3838059030622676, 78945.29398443493, 86842.76906592606, 0.08022118226657479, 163155.31351843785, 7.093758558902759, 7562.116782851454, 6862.597642413717, 6.52271099474961, 19.98978238990419, 0.020969185481189787, 0.03610096724583567, 18914.907357070922, 272045.41166913783, 391.1373599321491]\n",
      "[7.632528520415612, 1255.3687698513077, 19.191144887933167, 9869.995597096453, 73.34384891801314, 427.26577476439763, 40.03675386880125, 39.972246819126674, 36.74541783138031, 2360.996274642256, 11007.085300175713, 1.8641472023279277, 1171.2734475765385, 525.1437491717479, 5.479140072574321, 0.12105577329715463, 52.25560796114463, 14220.529746795739, 3291.1383988760167, 3.613439791941858, 110220.01431149879, 5.2796976624006335, 19251.203565764274, 32099.699580093118, 665.1013995524372, 3697.493359587415, 3251.299488724837, 11.727748094034048, 3767.5839585108347, 149.5816274282793, 531.8149306365011, 47995.91328315291, 6.374263390588573, 150834.09746417298, 3.9749177003653893, 5.704746195908794, 2.5462780196889696, 8589.826681743309, 9130.984045324152, 0.8610081584857109, 13776.699503921564, 15.777324931013718, 1706.982360032563, 1594.379659295347, 16.24800031111529, 34.365295986254196, 0.2678764705331253, 0.17214332533575347, 3340.1028165951407, 17958.54103689692, 269.804230877668]\n"
     ]
    }
   ],
   "source": [
    "test2 = []\n",
    "for i in range(len(ecc)):\n",
    "    if ecc.index[i] not in delete_arr:\n",
    "        test2.append(ecc[i])\n",
    "test3 = []\n",
    "for i in range(len(period)):\n",
    "    if period.index[i] not in delete_arr:\n",
    "        test3.append(period[i])\n",
    "test4 = []\n",
    "for i in range(len(a)):\n",
    "    if a.index[i] not in delete_arr:\n",
    "        test4.append(a[i])\n",
    "print(test2)\n",
    "print(test3)\n",
    "print(test4)"
   ]
  },
  {
   "cell_type": "code",
   "execution_count": null,
   "metadata": {},
   "outputs": [],
   "source": []
  }
 ],
 "metadata": {
  "kernelspec": {
   "display_name": "Python 3",
   "language": "python",
   "name": "python3"
  },
  "language_info": {
   "codemirror_mode": {
    "name": "ipython",
    "version": 3
   },
   "file_extension": ".py",
   "mimetype": "text/x-python",
   "name": "python",
   "nbconvert_exporter": "python",
   "pygments_lexer": "ipython3",
   "version": "3.8.5"
  }
 },
 "nbformat": 4,
 "nbformat_minor": 4
}
