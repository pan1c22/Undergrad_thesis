{
 "cells": [
  {
   "cell_type": "code",
   "execution_count": 4,
   "metadata": {},
   "outputs": [],
   "source": [
    "import numpy as np\n",
    "import pandas as pd\n",
    "import matplotlib.pyplot as plt\n",
    "%matplotlib inline"
   ]
  },
  {
   "cell_type": "code",
   "execution_count": 5,
   "metadata": {},
   "outputs": [],
   "source": [
    "import cosmic\n",
    "from cosmic.sample.initialbinarytable import InitialBinaryTable\n",
    "from cosmic.evolve import Evolve\n",
    "from cosmic.sample.sampler import independent"
   ]
  },
  {
   "cell_type": "code",
   "execution_count": 6,
   "metadata": {},
   "outputs": [
    {
     "name": "stdout",
     "output_type": "stream",
     "text": [
      "     kstar_1  kstar_2     mass_1     mass_2          porb       ecc  \\\n",
      "0        1.0      1.0  11.459316  11.215023   2729.524564  0.016790   \n",
      "1        1.0      1.0   2.010216   1.994213      5.474044  0.197660   \n",
      "2        1.0      0.0   1.364924   0.654868     17.622132  0.131686   \n",
      "3        1.0      0.0   1.611619   0.686942      1.648124  0.344973   \n",
      "4        1.0      1.0   1.745018   0.978982     11.023013  0.110922   \n",
      "..       ...      ...        ...        ...           ...       ...   \n",
      "96       1.0      1.0   3.901656   2.606842     67.119980  0.106291   \n",
      "97       1.0      0.0   0.804463   0.644167     23.769878  0.009385   \n",
      "98       1.0      1.0   5.255314   1.097742  47655.188964  0.622757   \n",
      "99       1.0      1.0   3.857409   1.139149     18.283536  0.114057   \n",
      "100      1.0      0.0   0.801751   0.628162     16.293404  0.487440   \n",
      "\n",
      "     metallicity   tphysf    mass0_1    mass0_2  ...  tacc_1  tacc_2  epoch_1  \\\n",
      "0           0.02  13700.0  11.459316  11.215023  ...     0.0     0.0      0.0   \n",
      "1           0.02  13700.0   2.010216   1.994213  ...     0.0     0.0      0.0   \n",
      "2           0.02  13700.0   1.364924   0.654868  ...     0.0     0.0      0.0   \n",
      "3           0.02  13700.0   1.611619   0.686942  ...     0.0     0.0      0.0   \n",
      "4           0.02  13700.0   1.745018   0.978982  ...     0.0     0.0      0.0   \n",
      "..           ...      ...        ...        ...  ...     ...     ...      ...   \n",
      "96          0.02  13700.0   3.901656   2.606842  ...     0.0     0.0      0.0   \n",
      "97          0.02  13700.0   0.804463   0.644167  ...     0.0     0.0      0.0   \n",
      "98          0.02  13700.0   5.255314   1.097742  ...     0.0     0.0      0.0   \n",
      "99          0.02  13700.0   3.857409   1.139149  ...     0.0     0.0      0.0   \n",
      "100         0.02  13700.0   0.801751   0.628162  ...     0.0     0.0      0.0   \n",
      "\n",
      "     epoch_2  tms_1  tms_2  bhspin_1  bhspin_2  tphys  binfrac  \n",
      "0        0.0    0.0    0.0       0.0       0.0    0.0      0.5  \n",
      "1        0.0    0.0    0.0       0.0       0.0    0.0      0.5  \n",
      "2        0.0    0.0    0.0       0.0       0.0    0.0      0.5  \n",
      "3        0.0    0.0    0.0       0.0       0.0    0.0      0.5  \n",
      "4        0.0    0.0    0.0       0.0       0.0    0.0      0.5  \n",
      "..       ...    ...    ...       ...       ...    ...      ...  \n",
      "96       0.0    0.0    0.0       0.0       0.0    0.0      0.5  \n",
      "97       0.0    0.0    0.0       0.0       0.0    0.0      0.5  \n",
      "98       0.0    0.0    0.0       0.0       0.0    0.0      0.5  \n",
      "99       0.0    0.0    0.0       0.0       0.0    0.0      0.5  \n",
      "100      0.0    0.0    0.0       0.0       0.0    0.0      0.5  \n",
      "\n",
      "[101 rows x 38 columns]\n"
     ]
    }
   ],
   "source": [
    "final_kstar1 = [11, 12]\n",
    "final_kstar2 = [10]\n",
    "\n",
    "InitialBinaries, mass_singles, mass_binaries, n_singles, n_binaries = InitialBinaryTable.sampler('independent', final_kstar1, final_kstar2, binfrac_model=0.5, primary_model='kroupa01', ecc_model='sana12', porb_model='sana12', qmin=-1, SF_start=13700.0, SF_duration=0.0, met=0.02, size=100)\n",
    "\n",
    "print(InitialBinaries)"
   ]
  },
  {
   "cell_type": "code",
   "execution_count": 7,
   "metadata": {},
   "outputs": [
    {
     "name": "stderr",
     "output_type": "stream",
     "text": [
      "/Users/noahbungart/opt/anaconda3/lib/python3.8/site-packages/cosmic/evolve.py:258: UserWarning: The value for dtp in initial binary table is being overwritten by the value of dtp from either the params file or the BSEDict.\n",
      "  warnings.warn(\"The value for {0} in initial binary table is being \"\n"
     ]
    },
    {
     "name": "stdout",
     "output_type": "stream",
     "text": [
      "     tphys  kstar_1    mass0_1     mass_1         lum_1     rad_1  \\\n",
      "0      0.0      1.0  11.459316  11.459316  8.764128e+03  4.518182   \n",
      "0  13700.0     13.0  18.551784   2.329348  1.883546e-10  0.000014   \n",
      "1      0.0      1.0   2.010216   2.010216  1.517655e+01  1.689061   \n",
      "1  13700.0     11.0   0.838474   0.838474  5.387678e-06  0.009871   \n",
      "2      0.0      1.0   1.364924   1.364924  2.770050e+00  1.350757   \n",
      "2  13700.0     11.0   0.513311   0.513311  2.401116e-05  0.014020   \n",
      "3      0.0      1.0   1.611619   1.611619  5.861833e+00  1.526486   \n",
      "3  13700.0     15.0   0.196776   0.000000  5.393716e-04  0.021527   \n",
      "4      0.0      1.0   1.745018   1.745018  8.301657e+00  1.583789   \n",
      "4  13700.0     11.0   0.591200   0.591200  6.276414e-06  0.012898   \n",
      "\n",
      "         teff_1   massc_1    radc_1        menv_1  ...         porb  \\\n",
      "0  26391.552816  0.000000  0.000000  1.000000e-10  ...  2729.524564   \n",
      "0   5740.499427  2.329348  0.000014  1.000000e-10  ...     0.000000   \n",
      "1   8805.220125  0.000000  0.000000  1.000000e-10  ...     5.474044   \n",
      "1   2811.461327  0.838474  0.009871  1.000000e-10  ...     0.000000   \n",
      "2   6435.804772  0.000000  0.000000  1.000000e-10  ...    17.622132   \n",
      "2   3427.628356  0.513311  0.014020  1.000000e-10  ...     0.000000   \n",
      "3   7301.826634  0.000000  0.000000  1.000000e-10  ...     1.648124   \n",
      "3   6022.171938  0.000000  0.021527  1.000000e-10  ...    -1.000000   \n",
      "4   7820.097341  0.000000  0.000000  1.000000e-10  ...    11.023013   \n",
      "4   2555.264265  0.591200  0.012898  1.000000e-10  ...     0.000000   \n",
      "\n",
      "           sep       ecc           B_1  B_2  SN_1  SN_2  bin_state  \\\n",
      "0  2325.527310  0.016790  0.000000e+00  0.0   0.0   0.0          0   \n",
      "0     0.000000 -1.000000  1.637684e+11  0.0   1.0   0.0          1   \n",
      "1    20.749339  0.197660  0.000000e+00  0.0   0.0   0.0          0   \n",
      "1     0.000000 -1.000000  0.000000e+00  0.0   0.0   0.0          1   \n",
      "2    36.010274  0.131686  0.000000e+00  0.0   0.0   0.0          0   \n",
      "2     0.000000 -1.000000  0.000000e+00  0.0   0.0   0.0          1   \n",
      "3     7.746352  0.344973  0.000000e+00  0.0   0.0   0.0          0   \n",
      "3    -1.000000  0.000000  0.000000e+00  0.0   0.0   0.0          2   \n",
      "4    29.099651  0.110922  0.000000e+00  0.0   0.0   0.0          0   \n",
      "4     0.000000 -1.000000  0.000000e+00  0.0   0.0   0.0          1   \n",
      "\n",
      "   merger_type  bin_num  \n",
      "0         -001        0  \n",
      "0         0504        0  \n",
      "1         -001        1  \n",
      "1         0301        1  \n",
      "2         -001        2  \n",
      "2         0300        2  \n",
      "3         -001        3  \n",
      "3         -001        3  \n",
      "4         -001        4  \n",
      "4         0301        4  \n",
      "\n",
      "[10 rows x 39 columns]\n"
     ]
    }
   ],
   "source": [
    "BSEDict = {'xi': 1.0, 'bhflag': 1, 'neta': 0.5, 'windflag': 3, 'wdflag': 1, 'alpha1': 1.0, 'pts1': 0.001, 'pts3': 0.02, 'pts2': 0.01, 'epsnov': 0.001, 'hewind': 0.5, 'ck': 1000, 'bwind': 0.0, 'lambdaf': 0.0, 'mxns': 3.0, 'beta': -1.0, 'tflag': 1, 'acc2': 1.5, 'grflag' : 1, 'remnantflag': 4, 'ceflag': 0, 'eddfac': 1.0, 'ifflag': 0, 'bconst': 3000, 'sigma': 265.0, 'gamma': -2.0, 'pisn': 45.0, 'natal_kick_array' : [[-100.0,-100.0,-100.0,-100.0,0.0], [-100.0,-100.0,-100.0,-100.0,0.0]], 'bhsigmafrac' : 1.0, 'polar_kick_angle' : 90, 'qcrit_array' : [0.0,0.0,0.0,0.0,0.0,0.0,0.0,0.0,0.0,0.0,0.0,0.0,0.0,0.0,0.0,0.0], 'cekickflag' : 2, 'cehestarflag' : 0, 'cemergeflag' : 0, 'ecsn' : 2.25, 'ecsn_mlow' : 1.6, 'aic' : 1, 'ussn' : 0, 'sigmadiv' :-20.0, 'qcflag' : 1, 'eddlimflag' : 0, 'fprimc_array' : [2.0/21.0,2.0/21.0,2.0/21.0,2.0/21.0,2.0/21.0,2.0/21.0,2.0/21.0,2.0/21.0,2.0/21.0,2.0/21.0,2.0/21.0,2.0/21.0,2.0/21.0,2.0/21.0,2.0/21.0,2.0/21.0], 'bhspinflag' : 0, 'bhspinmag' : 0.0, 'rejuv_fac' : 1.0, 'rejuvflag' : 0, 'htpmb' : 1, 'ST_cr' : 1, 'ST_tide' : 1, 'bdecayfac' : 1, 'rembar_massloss' : 0.5, 'kickflag' : 0, 'zsun' : 0.014, 'bhms_coll_flag' : 0, 'don_lim' : -1, 'acc_lim' : -1, 'dtp' : 13700.0}\n",
    "\n",
    "bpp, bcm, initC, kick_info  = Evolve.evolve(initialbinarytable=InitialBinaries, BSEDict=BSEDict)\n",
    "\n",
    "print(bcm.iloc[:10])"
   ]
  },
  {
   "cell_type": "code",
   "execution_count": 8,
   "metadata": {},
   "outputs": [],
   "source": [
    "#print(bpp)\n",
    "#print(bcm)\n",
    "mass1 = bcm.mass_1\n",
    "m1 = np.array(mass1)\n",
    "mass2 = bcm.mass_2\n",
    "m2 = np.array(mass2)"
   ]
  },
  {
   "cell_type": "code",
   "execution_count": 9,
   "metadata": {},
   "outputs": [],
   "source": [
    "tphys = bcm.tphys\n",
    "Tphys = np.array(tphys)"
   ]
  },
  {
   "cell_type": "code",
   "execution_count": 10,
   "metadata": {},
   "outputs": [],
   "source": [
    "final_mass1 = [m1[i] for i in range(len(Tphys)) if Tphys[i] == 13700.0]\n",
    "#print(final_mass1)\n",
    "final_mass2 = [m2[i] for i in range(len(Tphys)) if Tphys[i] == 13700.0]\n",
    "#print(final_mass2)\n",
    "f_m1 = pd.DataFrame(final_mass1)\n",
    "f_m2 = pd.DataFrame(final_mass2)"
   ]
  },
  {
   "cell_type": "code",
   "execution_count": 11,
   "metadata": {},
   "outputs": [
    {
     "data": {
      "image/png": "[encoded data removed]",
      "text/plain": [
       "<Figure size 432x288 with 1 Axes>"
      ]
     },
     "metadata": {
      "needs_background": "light"
     },
     "output_type": "display_data"
    }
   ],
   "source": [
    "f_m1.plot(kind='hist', edgecolor='black', alpha=1, legend=None)\n",
    "plt.title('Final Masses of Star 1')\n",
    "plt.xlabel('Ranges of Masses')\n",
    "plt.show()"
   ]
  },
  {
   "cell_type": "code",
   "execution_count": 12,
   "metadata": {},
   "outputs": [
    {
     "data": {
      "text/plain": [
       "Text(0.5, 0, 'Range of Masses')"
      ]
     },
     "execution_count": 12,
     "metadata": {},
     "output_type": "execute_result"
    },
    {
     "data": {
      "image/png": "[encoded data removed]",
      "text/plain": [
       "<Figure size 432x288 with 1 Axes>"
      ]
     },
     "metadata": {
      "needs_background": "light"
     },
     "output_type": "display_data"
    }
   ],
   "source": [
    "f_m2.plot(kind='hist', edgecolor='black', alpha=1, legend=None)\n",
    "plt.title('Final masses of star 2')\n",
    "plt.xlabel('Range of Masses')"
   ]
  },
  {
   "cell_type": "code",
   "execution_count": 13,
   "metadata": {},
   "outputs": [],
   "source": [
    "#Getting rid of any binary systems with a period of infinity\n",
    "fperiod = bcm.porb\n",
    "fp = np.array(fperiod)\n",
    "f_period = [fp[i] for i in range(len(Tphys)) if Tphys[i] == 13700.0]\n",
    "f = [f_period[i] for i in range(len(f_period)) if f_period[i]!= np.Inf]\n",
    "fp1 = pd.DataFrame(f)"
   ]
  },
  {
   "cell_type": "code",
   "execution_count": 14,
   "metadata": {},
   "outputs": [
    {
     "data": {
      "text/plain": [
       "Text(0.5, 0, 'Periods')"
      ]
     },
     "execution_count": 14,
     "metadata": {},
     "output_type": "execute_result"
    },
    {
     "data": {
      "image/png": "[encoded data removed]",
      "text/plain": [
       "<Figure size 432x288 with 1 Axes>"
      ]
     },
     "metadata": {
      "needs_background": "light"
     },
     "output_type": "display_data"
    }
   ],
   "source": [
    "fp1.plot(kind='hist', edgecolor='black', legend=None)\n",
    "plt.title('Final Period of Stars')\n",
    "plt.xlabel('Periods')"
   ]
  },
  {
   "cell_type": "code",
   "execution_count": null,
   "metadata": {},
   "outputs": [],
   "source": []
  }
 ],
 "metadata": {
  "kernelspec": {
   "display_name": "Python 3",
   "language": "python",
   "name": "python3"
  },
  "language_info": {
   "codemirror_mode": {
    "name": "ipython",
    "version": 3
   },
   "file_extension": ".py",
   "mimetype": "text/x-python",
   "name": "python",
   "nbconvert_exporter": "python",
   "pygments_lexer": "ipython3",
   "version": "3.8.5"
  }
 },
 "nbformat": 4,
 "nbformat_minor": 4
}
