{
 "cells": [
  {
   "cell_type": "code",
   "execution_count": 1,
   "metadata": {},
   "outputs": [],
   "source": [
    "import numpy as np\n",
    "import pandas as pd\n",
    "import matplotlib.pyplot as plt\n",
    "%matplotlib inline"
   ]
  },
  {
   "cell_type": "code",
   "execution_count": 2,
   "metadata": {},
   "outputs": [],
   "source": [
    "import cosmic\n",
    "from cosmic.sample.initialbinarytable import InitialBinaryTable\n",
    "from cosmic.evolve import Evolve\n",
    "from cosmic.sample.sampler import independent"
   ]
  },
  {
   "cell_type": "markdown",
   "metadata": {},
   "source": [
    "## Start playing with the metallicity, duration, and the models"
   ]
  },
  {
   "cell_type": "code",
   "execution_count": 3,
   "metadata": {},
   "outputs": [
    {
     "name": "stdout",
     "output_type": "stream",
     "text": [
      "      kstar_1  kstar_2    mass_1    mass_2          porb       ecc  \\\n",
      "0         1.0      1.0  5.127518  4.235999     81.152034  0.821208   \n",
      "1         1.0      1.0  1.630171  1.454066      5.833061  0.208704   \n",
      "2         1.0      1.0  1.935526  1.772206      3.943594  0.309518   \n",
      "3         1.0      1.0  1.007086  0.810447  25115.622051  0.064488   \n",
      "4         1.0      1.0  8.663698  1.269254  21781.201544  0.038996   \n",
      "...       ...      ...       ...       ...           ...       ...   \n",
      "1029      1.0      1.0  1.000861  0.799051      9.169153  0.450026   \n",
      "1030      1.0      1.0  0.747850  0.712120   1772.117197  0.084852   \n",
      "1031      1.0      0.0  0.789381  0.683242    135.420240  0.320970   \n",
      "1032      1.0      1.0  1.947149  1.843637   1034.673545  0.097934   \n",
      "1033      1.0      1.0  1.018568  0.939188     23.316619  0.703866   \n",
      "\n",
      "      metallicity   tphysf   mass0_1   mass0_2  ...  tacc_1  tacc_2  epoch_1  \\\n",
      "0            0.02  13700.0  5.127518  4.235999  ...     0.0     0.0      0.0   \n",
      "1            0.02  13700.0  1.630171  1.454066  ...     0.0     0.0      0.0   \n",
      "2            0.02  13700.0  1.935526  1.772206  ...     0.0     0.0      0.0   \n",
      "3            0.02  13700.0  1.007086  0.810447  ...     0.0     0.0      0.0   \n",
      "4            0.02  13700.0  8.663698  1.269254  ...     0.0     0.0      0.0   \n",
      "...           ...      ...       ...       ...  ...     ...     ...      ...   \n",
      "1029         0.02  13700.0  1.000861  0.799051  ...     0.0     0.0      0.0   \n",
      "1030         0.02  13700.0  0.747850  0.712120  ...     0.0     0.0      0.0   \n",
      "1031         0.02  13700.0  0.789381  0.683242  ...     0.0     0.0      0.0   \n",
      "1032         0.02  13700.0  1.947149  1.843637  ...     0.0     0.0      0.0   \n",
      "1033         0.02  13700.0  1.018568  0.939188  ...     0.0     0.0      0.0   \n",
      "\n",
      "      epoch_2  tms_1  tms_2  bhspin_1  bhspin_2  tphys  binfrac  \n",
      "0         0.0    0.0    0.0       0.0       0.0    0.0      0.5  \n",
      "1         0.0    0.0    0.0       0.0       0.0    0.0      0.5  \n",
      "2         0.0    0.0    0.0       0.0       0.0    0.0      0.5  \n",
      "3         0.0    0.0    0.0       0.0       0.0    0.0      0.5  \n",
      "4         0.0    0.0    0.0       0.0       0.0    0.0      0.5  \n",
      "...       ...    ...    ...       ...       ...    ...      ...  \n",
      "1029      0.0    0.0    0.0       0.0       0.0    0.0      0.5  \n",
      "1030      0.0    0.0    0.0       0.0       0.0    0.0      0.5  \n",
      "1031      0.0    0.0    0.0       0.0       0.0    0.0      0.5  \n",
      "1032      0.0    0.0    0.0       0.0       0.0    0.0      0.5  \n",
      "1033      0.0    0.0    0.0       0.0       0.0    0.0      0.5  \n",
      "\n",
      "[1034 rows x 38 columns]\n"
     ]
    }
   ],
   "source": [
    "final_kstar1 = [10,11,12]\n",
    "final_kstar2 = [10,11,12]\n",
    "\n",
    "InitialBinaries, mass_singles, mass_binaries, n_singles, n_binaries = InitialBinaryTable.sampler('independent', final_kstar1, final_kstar2, binfrac_model=0.5, primary_model='kroupa01', ecc_model='sana12', porb_model='sana12', qmin=-1, SF_start=13700.0, SF_duration=0.0, met=0.02, size=1000)\n",
    "\n",
    "print(InitialBinaries)"
   ]
  },
  {
   "cell_type": "code",
   "execution_count": 4,
   "metadata": {},
   "outputs": [
    {
     "name": "stderr",
     "output_type": "stream",
     "text": [
      "/Users/noahbungart/opt/anaconda3/lib/python3.8/site-packages/cosmic/evolve.py:258: UserWarning: The value for dtp in initial binary table is being overwritten by the value of dtp from either the params file or the BSEDict.\n",
      "  warnings.warn(\"The value for {0} in initial binary table is being \"\n"
     ]
    },
    {
     "name": "stdout",
     "output_type": "stream",
     "text": [
      "     tphys  kstar_1   mass0_1    mass_1         lum_1     rad_1        teff_1  \\\n",
      "0      0.0      1.0  5.127518  5.127518  5.716544e+02  2.818781  16885.826095   \n",
      "0  13700.0     15.0  0.871635  0.000000  2.737956e+02  0.226824  49520.097047   \n",
      "1      0.0      1.0  1.630171  1.630171  6.165473e+00  1.535093   7373.843588   \n",
      "1  13700.0     11.0  0.685566  0.685566  8.814345e-06  0.011674   2923.922223   \n",
      "2      0.0      1.0  1.935526  1.935526  1.293799e+01  1.659328   8536.311348   \n",
      "2  13700.0     11.0  0.758055  0.758055  5.910864e-06  0.010799   2750.960771   \n",
      "3      0.0      1.0  1.007086  1.007086  6.506757e-01  0.890106   5519.375573   \n",
      "3  13700.0     11.0  0.512206  0.512206  1.656042e-03  0.014037   9871.815235   \n",
      "4      0.0      1.0  8.663698  8.663698  3.542109e+03  3.824348  22872.117475   \n",
      "4  13700.0     13.0  8.505329  1.277584  1.262142e-10  0.000014   5193.769607   \n",
      "\n",
      "    massc_1    radc_1        menv_1  ...          porb          sep       ecc  \\\n",
      "0  0.000000  0.000000  1.000000e-10  ...     81.152034   166.200054  0.821208   \n",
      "0  0.000000  0.000000  8.716348e-01  ...      0.000000     0.000000 -1.000000   \n",
      "1  0.000000  0.000000  1.000000e-10  ...      5.833061    19.842613  0.208704   \n",
      "1  0.685566  0.011674  1.000000e-10  ...      0.000000     0.000000 -1.000000   \n",
      "2  0.000000  0.000000  1.000000e-10  ...      3.943594    16.252349  0.309518   \n",
      "2  0.758055  0.010799  1.000000e-10  ...      0.000000     0.000000 -1.000000   \n",
      "3  0.000000  0.000000  3.208893e-02  ...  25115.622051  4402.931420  0.064488   \n",
      "3  0.512206  0.014037  1.000000e-10  ...  46431.134870  5971.939901  0.064126   \n",
      "4  0.000000  0.000000  1.000000e-10  ...  21781.201544  7052.870135  0.038996   \n",
      "4  1.277584  0.000014  1.000000e-10  ...     -1.000000    -1.000000 -1.000000   \n",
      "\n",
      "            B_1           B_2  SN_1  SN_2  bin_state  merger_type  bin_num  \n",
      "0  0.000000e+00  0.000000e+00   0.0   0.0          0         -001        0  \n",
      "0  0.000000e+00  3.080512e+10   0.0   2.0          1         0207        0  \n",
      "1  0.000000e+00  0.000000e+00   0.0   0.0          0         -001        1  \n",
      "1  0.000000e+00  0.000000e+00   0.0   0.0          1         0301        1  \n",
      "2  0.000000e+00  0.000000e+00   0.0   0.0          0         -001        2  \n",
      "2  0.000000e+00  0.000000e+00   0.0   0.0          1         0710        2  \n",
      "3  0.000000e+00  0.000000e+00   0.0   0.0          0         -001        3  \n",
      "3  0.000000e+00  0.000000e+00   0.0   0.0          0         -001        3  \n",
      "4  0.000000e+00  0.000000e+00   0.0   0.0          0         -001        4  \n",
      "4  3.883646e+10  0.000000e+00   1.0   0.0          2         -001        4  \n",
      "\n",
      "[10 rows x 39 columns]\n"
     ]
    }
   ],
   "source": [
    "BSEDict = {'xi': 1.0, 'bhflag': 1, 'neta': 0.5, 'windflag': 3, 'wdflag': 1, 'alpha1': 1.0, 'pts1': 0.001, 'pts3': 0.02, 'pts2': 0.01, 'epsnov': 0.001, 'hewind': 0.5, 'ck': 1000, 'bwind': 0.0, 'lambdaf': 0.0, 'mxns': 3.0, 'beta': -1.0, 'tflag': 1, 'acc2': 1.5, 'grflag' : 1, 'remnantflag': 4, 'ceflag': 0, 'eddfac': 1.0, 'ifflag': 0, 'bconst': 3000, 'sigma': 265.0, 'gamma': -2.0, 'pisn': 45.0, 'natal_kick_array' : [[-100.0,-100.0,-100.0,-100.0,0.0], [-100.0,-100.0,-100.0,-100.0,0.0]], 'bhsigmafrac' : 1.0, 'polar_kick_angle' : 90, 'qcrit_array' : [0.0,0.0,0.0,0.0,0.0,0.0,0.0,0.0,0.0,0.0,0.0,0.0,0.0,0.0,0.0,0.0], 'cekickflag' : 2, 'cehestarflag' : 0, 'cemergeflag' : 0, 'ecsn' : 2.25, 'ecsn_mlow' : 1.6, 'aic' : 1, 'ussn' : 0, 'sigmadiv' :-20.0, 'qcflag' : 1, 'eddlimflag' : 0, 'fprimc_array' : [2.0/21.0,2.0/21.0,2.0/21.0,2.0/21.0,2.0/21.0,2.0/21.0,2.0/21.0,2.0/21.0,2.0/21.0,2.0/21.0,2.0/21.0,2.0/21.0,2.0/21.0,2.0/21.0,2.0/21.0,2.0/21.0], 'bhspinflag' : 0, 'bhspinmag' : 0.0, 'rejuv_fac' : 1.0, 'rejuvflag' : 0, 'htpmb' : 1, 'ST_cr' : 1, 'ST_tide' : 1, 'bdecayfac' : 1, 'rembar_massloss' : 0.5, 'kickflag' : 0, 'zsun' : 0.014, 'bhms_coll_flag' : 0, 'don_lim' : -1, 'acc_lim' : -1, 'dtp' : 13700.0}\n",
    "\n",
    "bpp, bcm, initC, kick_info  = Evolve.evolve(initialbinarytable=InitialBinaries, BSEDict=BSEDict)\n",
    "\n",
    "print(bcm.iloc[:10])"
   ]
  },
  {
   "cell_type": "code",
   "execution_count": 5,
   "metadata": {},
   "outputs": [],
   "source": [
    "#print(bpp)\n",
    "#print(bcm)\n",
    "mass1 = bcm.mass_1\n",
    "m1 = np.array(mass1)\n",
    "mass2 = bcm.mass_2\n",
    "m2 = np.array(mass2)"
   ]
  },
  {
   "cell_type": "code",
   "execution_count": 6,
   "metadata": {},
   "outputs": [],
   "source": [
    "tphys = bcm.tphys\n",
    "Tphys = np.array(tphys)"
   ]
  },
  {
   "cell_type": "code",
   "execution_count": 16,
   "metadata": {},
   "outputs": [],
   "source": [
    "final_mass1 = [m1[i] for i in range(len(Tphys)) if Tphys[i] == 13700.0]\n",
    "#print(final_mass1)\n",
    "final_mass2 = [m2[i] for i in range(len(Tphys)) if Tphys[i] == 13700.0]\n",
    "#print(final_mass2)\n",
    "f_m1 = pd.DataFrame(final_mass1)\n",
    "f_m2 = pd.DataFrame(final_mass2)"
   ]
  },
  {
   "cell_type": "code",
   "execution_count": 19,
   "metadata": {},
   "outputs": [
    {
     "data": {
      "text/plain": [
       "(array([139., 132., 492., 197.,  59.,   8.,   1.,   1.,   2.,   3.]),\n",
       " array([0.        , 0.26419805, 0.5283961 , 0.79259416, 1.05679221,\n",
       "        1.32099026, 1.58518831, 1.84938636, 2.11358442, 2.37778247,\n",
       "        2.64198052]),\n",
       " <BarContainer object of 10 artists>)"
      ]
     },
     "execution_count": 19,
     "metadata": {},
     "output_type": "execute_result"
    },
    {
     "data": {
      "image/png": "[encoded data removed]",
      "text/plain": [
       "<Figure size 576x648 with 1 Axes>"
      ]
     },
     "metadata": {
      "needs_background": "light"
     },
     "output_type": "display_data"
    }
   ],
   "source": [
    "fig = plt.figure(figsize=(8,9))\n",
    "ax1 = fig.add_subplot(1,1,1)\n",
    "ax1.hist(final_mass1)"
   ]
  },
  {
   "cell_type": "code",
   "execution_count": 17,
   "metadata": {},
   "outputs": [
    {
     "data": {
      "image/png": "[encoded data removed]",
      "text/plain": [
       "<Figure size 432x288 with 1 Axes>"
      ]
     },
     "metadata": {
      "needs_background": "light"
     },
     "output_type": "display_data"
    }
   ],
   "source": [
    "f_m1.plot(kind='hist', edgecolor='black', alpha=1, legend=None)\n",
    "plt.title('Final Masses of Star 1')\n",
    "plt.xlabel('Ranges of Masses')\n",
    "plt.show()"
   ]
  },
  {
   "cell_type": "code",
   "execution_count": 9,
   "metadata": {},
   "outputs": [
    {
     "data": {
      "text/plain": [
       "Text(0.5, 0, 'Range of Masses')"
      ]
     },
     "execution_count": 9,
     "metadata": {},
     "output_type": "execute_result"
    },
    {
     "data": {
      "image/png": "[encoded data removed]",
      "text/plain": [
       "<Figure size 432x288 with 1 Axes>"
      ]
     },
     "metadata": {
      "needs_background": "light"
     },
     "output_type": "display_data"
    }
   ],
   "source": [
    "f_m2.plot(kind='hist', edgecolor='black', alpha=1, legend=None)\n",
    "plt.title('Final masses of star 2')\n",
    "plt.xlabel('Range of Masses')"
   ]
  },
  {
   "cell_type": "code",
   "execution_count": 10,
   "metadata": {},
   "outputs": [],
   "source": [
    "#Getting rid of any binary systems with a period of infinity\n",
    "fperiod = bcm.porb\n",
    "fp = np.array(fperiod)\n",
    "f_period = [fp[i] for i in range(len(Tphys)) if Tphys[i] == 13700.0]\n",
    "f = [f_period[i] for i in range(len(f_period)) if f_period[i]!= np.Inf]\n",
    "fp1 = pd.DataFrame(f)"
   ]
  },
  {
   "cell_type": "code",
   "execution_count": 11,
   "metadata": {},
   "outputs": [
    {
     "data": {
      "text/plain": [
       "Text(0.5, 0, 'Periods')"
      ]
     },
     "execution_count": 11,
     "metadata": {},
     "output_type": "execute_result"
    },
    {
     "data": {
      "image/png": "[encoded data removed]",
      "text/plain": [
       "<Figure size 432x288 with 1 Axes>"
      ]
     },
     "metadata": {
      "needs_background": "light"
     },
     "output_type": "display_data"
    }
   ],
   "source": [
    "fp1.plot(kind='hist', edgecolor='black', legend=None)\n",
    "plt.title('Final Period of Stars')\n",
    "plt.xlabel('Periods')"
   ]
  },
  {
   "cell_type": "markdown",
   "metadata": {},
   "source": [
    "# Change to 100,000 pop\n",
    "# "
   ]
  },
  {
   "cell_type": "code",
   "execution_count": null,
   "metadata": {},
   "outputs": [],
   "source": []
  }
 ],
 "metadata": {
  "kernelspec": {
   "display_name": "Python 3",
   "language": "python",
   "name": "python3"
  },
  "language_info": {
   "codemirror_mode": {
    "name": "ipython",
    "version": 3
   },
   "file_extension": ".py",
   "mimetype": "text/x-python",
   "name": "python",
   "nbconvert_exporter": "python",
   "pygments_lexer": "ipython3",
   "version": "3.8.5"
  }
 },
 "nbformat": 4,
 "nbformat_minor": 4
}
