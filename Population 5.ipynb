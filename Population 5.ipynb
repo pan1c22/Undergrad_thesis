{
 "cells": [
  {
   "cell_type": "code",
   "execution_count": 1,
   "metadata": {},
   "outputs": [],
   "source": [
    "import numpy as np\n",
    "import pandas as pd\n",
    "import matplotlib.pyplot as plt\n",
    "%matplotlib inline"
   ]
  },
  {
   "cell_type": "code",
   "execution_count": 2,
   "metadata": {},
   "outputs": [],
   "source": [
    "import cosmic\n",
    "from cosmic.sample.initialbinarytable import InitialBinaryTable\n",
    "from cosmic.evolve import Evolve\n",
    "from cosmic.sample.sampler import independent"
   ]
  },
  {
   "cell_type": "markdown",
   "metadata": {},
   "source": [
    "## Start playing with the metallicity, duration, and the models"
   ]
  },
  {
   "cell_type": "code",
   "execution_count": 3,
   "metadata": {},
   "outputs": [
    {
     "name": "stdout",
     "output_type": "stream",
     "text": [
      "    kstar_1  kstar_2    mass_1    mass_2           porb       ecc  \\\n",
      "0       1.0      1.0  1.894847  1.292045   31149.382807  0.066934   \n",
      "1       1.0      1.0  0.812655  0.747478       5.891670  0.716019   \n",
      "2       1.0      1.0  0.868671  0.782396      47.506131  0.147524   \n",
      "3       1.0      1.0  4.095853  2.240686      35.934038  0.119973   \n",
      "4       1.0      0.0  0.950153  0.525527  127873.495412  0.324871   \n",
      "..      ...      ...       ...       ...            ...       ...   \n",
      "95      1.0      1.0  1.816566  1.647527     130.706133  0.435064   \n",
      "96      1.0      0.0  1.265911  0.601271       2.705123  0.105497   \n",
      "97      1.0      0.0  0.931606  0.513726     143.447442  0.003229   \n",
      "98      1.0      0.0  1.823457  0.583308      60.766101  0.493279   \n",
      "99      1.0      1.0  0.954899  0.954725       3.078168  0.010508   \n",
      "\n",
      "    metallicity   tphysf   mass0_1   mass0_2  ...  tacc_1  tacc_2  epoch_1  \\\n",
      "0          0.03  13700.0  1.894847  1.292045  ...     0.0     0.0      0.0   \n",
      "1          0.03  13700.0  0.812655  0.747478  ...     0.0     0.0      0.0   \n",
      "2          0.03  13700.0  0.868671  0.782396  ...     0.0     0.0      0.0   \n",
      "3          0.03  13700.0  4.095853  2.240686  ...     0.0     0.0      0.0   \n",
      "4          0.03  13700.0  0.950153  0.525527  ...     0.0     0.0      0.0   \n",
      "..          ...      ...       ...       ...  ...     ...     ...      ...   \n",
      "95         0.03  13700.0  1.816566  1.647527  ...     0.0     0.0      0.0   \n",
      "96         0.03  13700.0  1.265911  0.601271  ...     0.0     0.0      0.0   \n",
      "97         0.03  13700.0  0.931606  0.513726  ...     0.0     0.0      0.0   \n",
      "98         0.03  13700.0  1.823457  0.583308  ...     0.0     0.0      0.0   \n",
      "99         0.03  13700.0  0.954899  0.954725  ...     0.0     0.0      0.0   \n",
      "\n",
      "    epoch_2  tms_1  tms_2  bhspin_1  bhspin_2  tphys  binfrac  \n",
      "0       0.0    0.0    0.0       0.0       0.0    0.0      0.5  \n",
      "1       0.0    0.0    0.0       0.0       0.0    0.0      0.5  \n",
      "2       0.0    0.0    0.0       0.0       0.0    0.0      0.5  \n",
      "3       0.0    0.0    0.0       0.0       0.0    0.0      0.5  \n",
      "4       0.0    0.0    0.0       0.0       0.0    0.0      0.5  \n",
      "..      ...    ...    ...       ...       ...    ...      ...  \n",
      "95      0.0    0.0    0.0       0.0       0.0    0.0      0.5  \n",
      "96      0.0    0.0    0.0       0.0       0.0    0.0      0.5  \n",
      "97      0.0    0.0    0.0       0.0       0.0    0.0      0.5  \n",
      "98      0.0    0.0    0.0       0.0       0.0    0.0      0.5  \n",
      "99      0.0    0.0    0.0       0.0       0.0    0.0      0.5  \n",
      "\n",
      "[100 rows x 38 columns]\n"
     ]
    }
   ],
   "source": [
    "final_kstar1 = [10,11,12]\n",
    "final_kstar2 = [10,11,12]\n",
    "\n",
    "InitialBinaries, mass_singles, mass_binaries, n_singles, n_binaries = InitialBinaryTable.sampler('independent', final_kstar1, final_kstar2, binfrac_model=0.5, primary_model='kroupa01', ecc_model='sana12', porb_model='sana12', qmin=-1, SF_start=13700.0, SF_duration=0.0, met=0.9, size=100)\n",
    "\n",
    "print(InitialBinaries)"
   ]
  },
  {
   "cell_type": "code",
   "execution_count": 4,
   "metadata": {},
   "outputs": [
    {
     "name": "stderr",
     "output_type": "stream",
     "text": [
      "/Users/noahbungart/opt/anaconda3/lib/python3.8/site-packages/cosmic/evolve.py:258: UserWarning: The value for dtp in initial binary table is being overwritten by the value of dtp from either the params file or the BSEDict.\n",
      "  warnings.warn(\"The value for {0} in initial binary table is being \"\n"
     ]
    },
    {
     "name": "stdout",
     "output_type": "stream",
     "text": [
      "     tphys  kstar_1   mass0_1    mass_1       lum_1     rad_1        teff_1  \\\n",
      "0      0.0      1.0  1.894847  1.894847   13.431943  1.718517   8466.958968   \n",
      "0  13700.0     11.0  0.536471  0.537927    0.000005  0.013652   2377.247606   \n",
      "1      0.0      1.0  0.812655  0.812655    0.267086  0.753718   4800.958364   \n",
      "1  13700.0      1.0  0.812655  0.812655    0.353314  0.823844   4924.783570   \n",
      "2      0.0      1.0  0.868671  0.868671    0.370264  0.792305   5081.024636   \n",
      "2  13700.0      1.0  0.868671  0.868671    0.536092  0.899454   5231.064013   \n",
      "3      0.0      1.0  4.095853  4.095853  271.566339  2.638861  14488.731391   \n",
      "3  13700.0     11.0  0.844374  0.844374    0.000004  0.009804   2569.639596   \n",
      "4      0.0      1.0  0.950153  0.950153    0.575540  0.843634   5498.084408   \n",
      "4  13700.0      1.0  0.950153  0.950153    1.054612  1.046745   5742.781307   \n",
      "\n",
      "    massc_1    radc_1        menv_1  ...           porb           sep  \\\n",
      "0  0.000000  0.000000  1.000000e-10  ...   31149.382807   6128.779020   \n",
      "0  0.537927  0.013652  1.000000e-10  ...  267170.391987  17727.723298   \n",
      "1  0.000000  0.000000  5.384394e-02  ...       5.891670     15.915905   \n",
      "1  0.000000  0.000000  5.398180e-02  ...       4.308098     12.918025   \n",
      "2  0.000000  0.000000  4.735011e-02  ...      47.506131     65.218870   \n",
      "2  0.000000  0.000000  4.742469e-02  ...      47.506270     65.218998   \n",
      "3  0.000000  0.000000  1.000000e-10  ...      35.934038     84.769566   \n",
      "3  0.844374  0.009804  1.000000e-10  ...       0.000000      0.000000   \n",
      "4  0.000000  0.000000  3.842315e-02  ...  127873.495412  12156.345093   \n",
      "4  0.000000  0.000000  3.842342e-02  ...  127873.495412  12156.345093   \n",
      "\n",
      "        ecc  B_1  B_2  SN_1  SN_2  bin_state  merger_type  bin_num  \n",
      "0  0.066934  0.0  0.0   0.0   0.0          0         -001        0  \n",
      "0  0.064888  0.0  0.0   0.0   0.0          0         -001        0  \n",
      "1  0.716019  0.0  0.0   0.0   0.0          0         -001        1  \n",
      "1  0.643350  0.0  0.0   0.0   0.0          0         -001        1  \n",
      "2  0.147524  0.0  0.0   0.0   0.0          0         -001        2  \n",
      "2  0.147525  0.0  0.0   0.0   0.0          0         -001        2  \n",
      "3  0.119973  0.0  0.0   0.0   0.0          0         -001        3  \n",
      "3 -1.000000  0.0  0.0   0.0   0.0          1         0301        3  \n",
      "4  0.324871  0.0  0.0   0.0   0.0          0         -001        4  \n",
      "4  0.324871  0.0  0.0   0.0   0.0          0         -001        4  \n",
      "\n",
      "[10 rows x 39 columns]\n"
     ]
    }
   ],
   "source": [
    "BSEDict = {'xi': 1.0, 'bhflag': 1, 'neta': 0.5, 'windflag': 3, 'wdflag': 1, 'alpha1': 1.0, 'pts1': 0.001, 'pts3': 0.02, 'pts2': 0.01, 'epsnov': 0.001, 'hewind': 0.5, 'ck': 1000, 'bwind': 0.0, 'lambdaf': 0.0, 'mxns': 3.0, 'beta': -1.0, 'tflag': 1, 'acc2': 1.5, 'grflag' : 1, 'remnantflag': 4, 'ceflag': 0, 'eddfac': 1.0, 'ifflag': 0, 'bconst': 3000, 'sigma': 265.0, 'gamma': -2.0, 'pisn': 45.0, 'natal_kick_array' : [[-100.0,-100.0,-100.0,-100.0,0.0], [-100.0,-100.0,-100.0,-100.0,0.0]], 'bhsigmafrac' : 1.0, 'polar_kick_angle' : 90, 'qcrit_array' : [0.0,0.0,0.0,0.0,0.0,0.0,0.0,0.0,0.0,0.0,0.0,0.0,0.0,0.0,0.0,0.0], 'cekickflag' : 2, 'cehestarflag' : 0, 'cemergeflag' : 0, 'ecsn' : 2.25, 'ecsn_mlow' : 1.6, 'aic' : 1, 'ussn' : 0, 'sigmadiv' :-20.0, 'qcflag' : 1, 'eddlimflag' : 0, 'fprimc_array' : [2.0/21.0,2.0/21.0,2.0/21.0,2.0/21.0,2.0/21.0,2.0/21.0,2.0/21.0,2.0/21.0,2.0/21.0,2.0/21.0,2.0/21.0,2.0/21.0,2.0/21.0,2.0/21.0,2.0/21.0,2.0/21.0], 'bhspinflag' : 0, 'bhspinmag' : 0.0, 'rejuv_fac' : 1.0, 'rejuvflag' : 0, 'htpmb' : 1, 'ST_cr' : 1, 'ST_tide' : 1, 'bdecayfac' : 1, 'rembar_massloss' : 0.5, 'kickflag' : 0, 'zsun' : 0.014, 'bhms_coll_flag' : 0, 'don_lim' : -1, 'acc_lim' : -1, 'dtp' : 13700.0}\n",
    "\n",
    "bpp, bcm, initC, kick_info  = Evolve.evolve(initialbinarytable=InitialBinaries, BSEDict=BSEDict)\n",
    "\n",
    "print(bcm.iloc[:10])"
   ]
  },
  {
   "cell_type": "code",
   "execution_count": 5,
   "metadata": {},
   "outputs": [],
   "source": [
    "#print(bpp)\n",
    "#print(bcm)\n",
    "mass1 = bcm.mass_1\n",
    "m1 = np.array(mass1)\n",
    "mass2 = bcm.mass_2\n",
    "m2 = np.array(mass2)"
   ]
  },
  {
   "cell_type": "code",
   "execution_count": 6,
   "metadata": {},
   "outputs": [],
   "source": [
    "tphys = bcm.tphys\n",
    "Tphys = np.array(tphys)"
   ]
  },
  {
   "cell_type": "code",
   "execution_count": 7,
   "metadata": {},
   "outputs": [],
   "source": [
    "final_mass1 = [m1[i] for i in range(len(Tphys)) if Tphys[i] == 13700.0]\n",
    "#print(final_mass1)\n",
    "final_mass2 = [m2[i] for i in range(len(Tphys)) if Tphys[i] == 13700.0]\n",
    "#print(final_mass2)\n",
    "f_m1 = pd.DataFrame(final_mass1)\n",
    "f_m2 = pd.DataFrame(final_mass2)"
   ]
  },
  {
   "cell_type": "code",
   "execution_count": 8,
   "metadata": {},
   "outputs": [
    {
     "data": {
      "image/png": "[encoded data removed]",
      "text/plain": [
       "<Figure size 432x288 with 1 Axes>"
      ]
     },
     "metadata": {
      "needs_background": "light"
     },
     "output_type": "display_data"
    }
   ],
   "source": [
    "f_m1.plot(kind='hist', edgecolor='black', alpha=1, legend=None)\n",
    "plt.title('Final Masses of Star 1')\n",
    "plt.xlabel('Ranges of Masses')\n",
    "plt.show()"
   ]
  },
  {
   "cell_type": "code",
   "execution_count": 9,
   "metadata": {},
   "outputs": [
    {
     "data": {
      "text/plain": [
       "Text(0.5, 0, 'Range of Masses')"
      ]
     },
     "execution_count": 9,
     "metadata": {},
     "output_type": "execute_result"
    },
    {
     "data": {
      "image/png": "[encoded data removed]",
      "text/plain": [
       "<Figure size 432x288 with 1 Axes>"
      ]
     },
     "metadata": {
      "needs_background": "light"
     },
     "output_type": "display_data"
    }
   ],
   "source": [
    "f_m2.plot(kind='hist', edgecolor='black', alpha=1, legend=None)\n",
    "plt.title('Final masses of star 2')\n",
    "plt.xlabel('Range of Masses')"
   ]
  },
  {
   "cell_type": "code",
   "execution_count": 10,
   "metadata": {},
   "outputs": [],
   "source": [
    "#Getting rid of any binary systems with a period of infinity\n",
    "fperiod = bcm.porb\n",
    "fp = np.array(fperiod)\n",
    "f_period = [fp[i] for i in range(len(Tphys)) if Tphys[i] == 13700.0]\n",
    "f = [f_period[i] for i in range(len(f_period)) if f_period[i]!= np.Inf]\n",
    "fp1 = pd.DataFrame(f)"
   ]
  },
  {
   "cell_type": "code",
   "execution_count": 11,
   "metadata": {},
   "outputs": [
    {
     "data": {
      "text/plain": [
       "Text(0.5, 0, 'Periods')"
      ]
     },
     "execution_count": 11,
     "metadata": {},
     "output_type": "execute_result"
    },
    {
     "data": {
      "image/png": "[encoded data removed]",
      "text/plain": [
       "<Figure size 432x288 with 1 Axes>"
      ]
     },
     "metadata": {
      "needs_background": "light"
     },
     "output_type": "display_data"
    }
   ],
   "source": [
    "fp1.plot(kind='hist', edgecolor='black', legend=None)\n",
    "plt.title('Final Period of Stars')\n",
    "plt.xlabel('Periods')"
   ]
  },
  {
   "cell_type": "markdown",
   "metadata": {},
   "source": [
    "# Change to 100,000 pop\n",
    "# "
   ]
  }
 ],
 "metadata": {
  "kernelspec": {
   "display_name": "Python 3",
   "language": "python",
   "name": "python3"
  },
  "language_info": {
   "codemirror_mode": {
    "name": "ipython",
    "version": 3
   },
   "file_extension": ".py",
   "mimetype": "text/x-python",
   "name": "python",
   "nbconvert_exporter": "python",
   "pygments_lexer": "ipython3",
   "version": "3.8.5"
  }
 },
 "nbformat": 4,
 "nbformat_minor": 4
}
