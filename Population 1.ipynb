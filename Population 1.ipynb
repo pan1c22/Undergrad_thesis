{
 "cells": [
  {
   "cell_type": "code",
   "execution_count": 1,
   "metadata": {},
   "outputs": [],
   "source": [
    "import cosmic"
   ]
  },
  {
   "cell_type": "code",
   "execution_count": 2,
   "metadata": {},
   "outputs": [],
   "source": [
    "from cosmic.sample.initialbinarytable import InitialBinaryTable\n",
    "from cosmic.evolve import Evolve\n",
    "from cosmic.sample.sampler import independent"
   ]
  },
  {
   "cell_type": "code",
   "execution_count": 3,
   "metadata": {},
   "outputs": [],
   "source": [
    "final_kstar1 = [11, 12]\n",
    "final_kstar2 = [10]"
   ]
  },
  {
   "cell_type": "code",
   "execution_count": 4,
   "metadata": {},
   "outputs": [
    {
     "name": "stdout",
     "output_type": "stream",
     "text": [
      "    kstar_1  kstar_2     mass_1    mass_2          porb       ecc  \\\n",
      "0       1.0      1.0   0.977431  0.896295      3.135194  0.070913   \n",
      "1       1.0      1.0  12.396773  6.533063     21.925099  0.001666   \n",
      "2       1.0      0.0   1.592248  0.664919      1.562061  0.524919   \n",
      "3       1.0      1.0   3.547630  2.755198  65354.579631  0.012109   \n",
      "4       1.0      1.0   1.202117  1.019436      1.670560  0.151852   \n",
      "..      ...      ...        ...       ...           ...       ...   \n",
      "95      1.0      1.0   1.368018  0.872721    391.042124  0.213195   \n",
      "96      1.0      1.0   3.179302  2.929890     83.119977  0.382386   \n",
      "97      1.0      1.0   1.595493  1.052176   1115.461130  0.432112   \n",
      "98      1.0      1.0   4.309302  3.866794      2.061191  0.549464   \n",
      "99      1.0      1.0   2.020913  1.034006    164.977240  0.079489   \n",
      "\n",
      "    metallicity   tphysf    mass0_1   mass0_2  ...  tacc_1  tacc_2  epoch_1  \\\n",
      "0          0.02  13700.0   0.977431  0.896295  ...     0.0     0.0      0.0   \n",
      "1          0.02  13700.0  12.396773  6.533063  ...     0.0     0.0      0.0   \n",
      "2          0.02  13700.0   1.592248  0.664919  ...     0.0     0.0      0.0   \n",
      "3          0.02  13700.0   3.547630  2.755198  ...     0.0     0.0      0.0   \n",
      "4          0.02  13700.0   1.202117  1.019436  ...     0.0     0.0      0.0   \n",
      "..          ...      ...        ...       ...  ...     ...     ...      ...   \n",
      "95         0.02  13700.0   1.368018  0.872721  ...     0.0     0.0      0.0   \n",
      "96         0.02  13700.0   3.179302  2.929890  ...     0.0     0.0      0.0   \n",
      "97         0.02  13700.0   1.595493  1.052176  ...     0.0     0.0      0.0   \n",
      "98         0.02  13700.0   4.309302  3.866794  ...     0.0     0.0      0.0   \n",
      "99         0.02  13700.0   2.020913  1.034006  ...     0.0     0.0      0.0   \n",
      "\n",
      "    epoch_2  tms_1  tms_2  bhspin_1  bhspin_2  tphys  binfrac  \n",
      "0       0.0    0.0    0.0       0.0       0.0    0.0      0.5  \n",
      "1       0.0    0.0    0.0       0.0       0.0    0.0      0.5  \n",
      "2       0.0    0.0    0.0       0.0       0.0    0.0      0.5  \n",
      "3       0.0    0.0    0.0       0.0       0.0    0.0      0.5  \n",
      "4       0.0    0.0    0.0       0.0       0.0    0.0      0.5  \n",
      "..      ...    ...    ...       ...       ...    ...      ...  \n",
      "95      0.0    0.0    0.0       0.0       0.0    0.0      0.5  \n",
      "96      0.0    0.0    0.0       0.0       0.0    0.0      0.5  \n",
      "97      0.0    0.0    0.0       0.0       0.0    0.0      0.5  \n",
      "98      0.0    0.0    0.0       0.0       0.0    0.0      0.5  \n",
      "99      0.0    0.0    0.0       0.0       0.0    0.0      0.5  \n",
      "\n",
      "[100 rows x 38 columns]\n"
     ]
    }
   ],
   "source": [
    "InitialBinaries, mass_singles, mass_binaries, n_singles, n_binaries = InitialBinaryTable.sampler('independent', final_kstar1, final_kstar2, binfrac_model=0.5, primary_model='kroupa01', ecc_model='sana12', porb_model='sana12', qmin=-1, SF_start=13700.0, SF_duration=0.0, met=0.02, size=100)\n",
    "\n",
    "print(InitialBinaries)"
   ]
  },
  {
   "cell_type": "code",
   "execution_count": 5,
   "metadata": {},
   "outputs": [
    {
     "name": "stderr",
     "output_type": "stream",
     "text": [
      "/Users/noahbungart/opt/anaconda3/lib/python3.8/site-packages/cosmic/evolve.py:258: UserWarning: The value for dtp in initial binary table is being overwritten by the value of dtp from either the params file or the BSEDict.\n",
      "  warnings.warn(\"The value for {0} in initial binary table is being \"\n"
     ]
    },
    {
     "name": "stdout",
     "output_type": "stream",
     "text": [
      "     tphys  kstar_1    mass0_1     mass_1         lum_1     rad_1  \\\n",
      "0      0.0      1.0   0.977431   0.977431  5.622003e-01  0.862431   \n",
      "0  13700.0      2.0   0.977160   0.977160  1.932513e+00  2.058128   \n",
      "1      0.0      1.0  12.396773  12.396773  1.119706e+04  4.737657   \n",
      "1  13700.0     13.0   2.504022   1.277584  1.259191e-10  0.000014   \n",
      "2      0.0      1.0   1.592248   1.592248  5.556403e+00  1.517144   \n",
      "2  13700.0     11.0   0.596033   0.596033  3.205850e-05  0.012832   \n",
      "3      0.0      1.0   3.547630   3.547630  1.458612e+02  2.287511   \n",
      "3  13700.0     11.0   0.783858   0.785240  3.071424e-06  0.010482   \n",
      "4      0.0      1.0   1.202117   1.202117  1.529006e+00  1.136765   \n",
      "4  13700.0     11.0   0.594686   0.594686  4.529113e-05  0.012851   \n",
      "\n",
      "         teff_1   massc_1    radc_1        menv_1  ...          porb  \\\n",
      "0   5406.051325  0.000000  0.000000  3.541543e-02  ...  3.135194e+00   \n",
      "0   4765.011930  0.126556  0.126777  1.258444e-01  ...  2.971540e+00   \n",
      "1  27400.834258  0.000000  0.000000  1.000000e-10  ...  2.192510e+01   \n",
      "1   5190.730445  1.277584  0.000014  1.000000e-10  ... -1.000000e+00   \n",
      "2   7226.944002  0.000000  0.000000  1.000000e-10  ...  1.562061e+00   \n",
      "2   3851.276499  0.596033  0.012832  1.000000e-10  ...  0.000000e+00   \n",
      "3  13322.107758  0.000000  0.000000  1.000000e-10  ...  6.535458e+04   \n",
      "3   2370.761832  0.785240  0.010482  1.000000e-10  ...  1.126974e+06   \n",
      "4   6046.954010  0.000000  0.000000  7.889420e-03  ...  1.670560e+00   \n",
      "4   4195.778945  0.594686  0.012851  1.000000e-10  ...  0.000000e+00   \n",
      "\n",
      "            sep       ecc           B_1           B_2  SN_1  SN_2  bin_state  \\\n",
      "0     11.109562  0.070913  0.000000e+00  0.000000e+00   0.0   0.0          0   \n",
      "0     10.719039  0.000000  0.000000e+00  0.000000e+00   0.0   0.0          0   \n",
      "1     87.827104  0.001666  0.000000e+00  0.000000e+00   0.0   0.0          0   \n",
      "1     -1.000000 -1.000000  5.990560e+10  6.706903e+10   1.0   1.0          2   \n",
      "2      7.429138  0.524919  0.000000e+00  0.000000e+00   0.0   0.0          0   \n",
      "2      0.000000 -1.000000  0.000000e+00  0.000000e+00   0.0   0.0          1   \n",
      "3  12608.044440  0.012109  0.000000e+00  0.000000e+00   0.0   0.0          0   \n",
      "3  51789.908882  0.011734  0.000000e+00  0.000000e+00   0.0   0.0          0   \n",
      "4      7.728208  0.151852  0.000000e+00  0.000000e+00   0.0   0.0          0   \n",
      "4      0.000000 -1.000000  0.000000e+00  0.000000e+00   0.0   0.0          1   \n",
      "\n",
      "   merger_type  bin_num  \n",
      "0         -001        0  \n",
      "0         -001        0  \n",
      "1         -001        1  \n",
      "1         -001        1  \n",
      "2         -001        2  \n",
      "2         0201        2  \n",
      "3         -001        3  \n",
      "3         -001        3  \n",
      "4         -001        4  \n",
      "4         0301        4  \n",
      "\n",
      "[10 rows x 39 columns]\n"
     ]
    }
   ],
   "source": [
    "BSEDict = {'xi': 1.0, 'bhflag': 1, 'neta': 0.5, 'windflag': 3, 'wdflag': 1, 'alpha1': 1.0, 'pts1': 0.001, 'pts3': 0.02, 'pts2': 0.01, 'epsnov': 0.001, 'hewind': 0.5, 'ck': 1000, 'bwind': 0.0, 'lambdaf': 0.0, 'mxns': 3.0, 'beta': -1.0, 'tflag': 1, 'acc2': 1.5, 'grflag' : 1, 'remnantflag': 4, 'ceflag': 0, 'eddfac': 1.0, 'ifflag': 0, 'bconst': 3000, 'sigma': 265.0, 'gamma': -2.0, 'pisn': 45.0, 'natal_kick_array' : [[-100.0,-100.0,-100.0,-100.0,0.0], [-100.0,-100.0,-100.0,-100.0,0.0]], 'bhsigmafrac' : 1.0, 'polar_kick_angle' : 90, 'qcrit_array' : [0.0,0.0,0.0,0.0,0.0,0.0,0.0,0.0,0.0,0.0,0.0,0.0,0.0,0.0,0.0,0.0], 'cekickflag' : 2, 'cehestarflag' : 0, 'cemergeflag' : 0, 'ecsn' : 2.25, 'ecsn_mlow' : 1.6, 'aic' : 1, 'ussn' : 0, 'sigmadiv' :-20.0, 'qcflag' : 1, 'eddlimflag' : 0, 'fprimc_array' : [2.0/21.0,2.0/21.0,2.0/21.0,2.0/21.0,2.0/21.0,2.0/21.0,2.0/21.0,2.0/21.0,2.0/21.0,2.0/21.0,2.0/21.0,2.0/21.0,2.0/21.0,2.0/21.0,2.0/21.0,2.0/21.0], 'bhspinflag' : 0, 'bhspinmag' : 0.0, 'rejuv_fac' : 1.0, 'rejuvflag' : 0, 'htpmb' : 1, 'ST_cr' : 1, 'ST_tide' : 1, 'bdecayfac' : 1, 'rembar_massloss' : 0.5, 'kickflag' : 0, 'zsun' : 0.014, 'bhms_coll_flag' : 0, 'don_lim' : -1, 'acc_lim' : -1, 'dtp' : 13700.0}\n",
    "\n",
    "bpp, bcm, initC, kick_info  = Evolve.evolve(initialbinarytable=InitialBinaries, BSEDict=BSEDict)\n",
    "\n",
    "print(bcm.iloc[:10])"
   ]
  },
  {
   "cell_type": "code",
   "execution_count": 6,
   "metadata": {},
   "outputs": [
    {
     "name": "stdout",
     "output_type": "stream",
     "text": [
      "           tphys     mass_1    mass_2  kstar_1  kstar_2        sep       porb  \\\n",
      "0       0.000000   0.977431  0.896295      1.0      1.0  11.109562   3.135194   \n",
      "0   13308.228615   0.977431  0.896295      2.0      1.0  10.809134   3.008884   \n",
      "0   13700.000000   0.977160  0.896318      2.0      1.0  10.719039   2.971540   \n",
      "1       0.000000  12.396773  6.533063      1.0      1.0  87.827104  21.925099   \n",
      "1      16.183209  11.939670  6.527534      2.0      1.0  90.027856  23.037585   \n",
      "..           ...        ...       ...      ...      ...        ...        ...   \n",
      "99  11444.053192   0.530830  1.034098     11.0      3.0   7.340636   1.842576   \n",
      "99  11444.053192   0.530775  1.292387     15.0      5.0   0.000000   0.000000   \n",
      "99  11446.813624   0.000000  0.687978     15.0      6.0   0.000000   0.000000   \n",
      "99  11446.866063   0.000000  0.687978     15.0     11.0   0.000000   0.000000   \n",
      "99  13700.000000   0.000000  0.687978     15.0     11.0   0.000000   0.000000   \n",
      "\n",
      "         ecc    RRLO_1    RRLO_2  ...  B_2  bacc_1  bacc_2  tacc_1  tacc_2  \\\n",
      "0   0.070913  0.216214  0.208229  ...  0.0     0.0     0.0     0.0     0.0   \n",
      "0   0.000000  0.390476  0.245393  ...  0.0     0.0     0.0     0.0     0.0   \n",
      "0   0.000000  0.496888  0.250447  ...  0.0     0.0     0.0     0.0     0.0   \n",
      "1   0.001666  0.124122  0.113737  ...  0.0     0.0     0.0     0.0     0.0   \n",
      "1   0.001667  0.293574  0.126906  ...  0.0     0.0     0.0     0.0     0.0   \n",
      "..       ...       ...       ...  ...  ...     ...     ...     ...     ...   \n",
      "99  0.000000  0.005804  1.000053  ...  0.0     0.0     0.0     0.0     0.0   \n",
      "99  0.000000  0.005804  1.000053  ...  0.0     0.0     0.0     0.0     0.0   \n",
      "99 -1.000000 -1.000000  0.000100  ...  0.0     0.0     0.0     0.0     0.0   \n",
      "99 -1.000000 -1.000000  0.000100  ...  0.0     0.0     0.0     0.0     0.0   \n",
      "99 -1.000000 -1.000000  0.000100  ...  0.0     0.0     0.0     0.0     0.0   \n",
      "\n",
      "        epoch_1       epoch_2  bhspin_1  bhspin_2  bin_num  \n",
      "0      0.000000      0.000000       0.0       0.0        0  \n",
      "0      0.000000      0.000000       0.0       0.0        0  \n",
      "0    -14.648539      1.364663       0.0       0.0        0  \n",
      "1      0.000000      0.000000       0.0       0.0        1  \n",
      "1     -0.859970     -0.015747       0.0       0.0        1  \n",
      "..          ...           ...       ...       ...      ...  \n",
      "99  1491.395093    -16.135468       0.0       0.0       99  \n",
      "99  1491.395093    -16.135468       0.0       0.0       99  \n",
      "99  1491.395093  11022.501954       0.0       0.0       99  \n",
      "99  1491.395093  11446.866063       0.0       0.0       99  \n",
      "99  1491.395093  11446.866063       0.0       0.0       99  \n",
      "\n",
      "[1076 rows x 44 columns]\n"
     ]
    }
   ],
   "source": [
    "print(bpp)"
   ]
  },
  {
   "cell_type": "code",
   "execution_count": 7,
   "metadata": {},
   "outputs": [
    {
     "name": "stdout",
     "output_type": "stream",
     "text": [
      "      tphys  kstar_1    mass0_1     mass_1         lum_1     rad_1  \\\n",
      "0       0.0      1.0   0.977431   0.977431  5.622003e-01  0.862431   \n",
      "0   13700.0      2.0   0.977160   0.977160  1.932513e+00  2.058128   \n",
      "1       0.0      1.0  12.396773  12.396773  1.119706e+04  4.737657   \n",
      "1   13700.0     13.0   2.504022   1.277584  1.259191e-10  0.000014   \n",
      "2       0.0      1.0   1.592248   1.592248  5.556403e+00  1.517144   \n",
      "..      ...      ...        ...        ...           ...       ...   \n",
      "97  13700.0     11.0   0.515711   0.516039  7.450734e-06  0.013979   \n",
      "98      0.0      1.0   4.309302   4.309302  3.026272e+02  2.552785   \n",
      "98  13700.0     13.0   1.426428   1.242000  1.239348e-10  0.000014   \n",
      "99      0.0      1.0   2.020913   2.020913  1.551825e+01  1.693339   \n",
      "99  13700.0     15.0   0.530775   0.000000  1.420577e-05  0.013757   \n",
      "\n",
      "          teff_1   massc_1    radc_1        menv_1  ...        porb  \\\n",
      "0    5406.051325  0.000000  0.000000  3.541543e-02  ...    3.135194   \n",
      "0    4765.011930  0.126556  0.126777  1.258444e-01  ...    2.971540   \n",
      "1   27400.834258  0.000000  0.000000  1.000000e-10  ...   21.925099   \n",
      "1    5190.730445  1.277584  0.000014  1.000000e-10  ...   -1.000000   \n",
      "2    7226.944002  0.000000  0.000000  1.000000e-10  ...    1.562061   \n",
      "..           ...       ...       ...           ...  ...         ...   \n",
      "97   2562.032991  0.516039  0.013979  1.000000e-10  ...    0.081837   \n",
      "98  15135.245278  0.000000  0.000000  1.000000e-10  ...    2.061191   \n",
      "98   5170.159585  1.242000  0.000014  1.000000e-10  ...    0.000000   \n",
      "99   8843.176950  0.000000  0.000000  1.000000e-10  ...  164.977240   \n",
      "99   3034.797094  0.000000  0.013757  1.000000e-10  ...    0.000000   \n",
      "\n",
      "           sep       ecc           B_1           B_2  SN_1  SN_2  bin_state  \\\n",
      "0    11.109562  0.070913  0.000000e+00  0.000000e+00   0.0   0.0          0   \n",
      "0    10.719039  0.000000  0.000000e+00  0.000000e+00   0.0   0.0          0   \n",
      "1    87.827104  0.001666  0.000000e+00  0.000000e+00   0.0   0.0          0   \n",
      "1    -1.000000 -1.000000  5.990560e+10  6.706903e+10   1.0   1.0          2   \n",
      "2     7.429138  0.524919  0.000000e+00  0.000000e+00   0.0   0.0          0   \n",
      "..         ...       ...           ...           ...   ...   ...        ...   \n",
      "97    0.719466  0.000000  0.000000e+00  0.000000e+00   0.0   0.0          0   \n",
      "98   13.726066  0.549464  0.000000e+00  0.000000e+00   0.0   0.0          0   \n",
      "98    0.000000 -1.000000  8.532526e+10  0.000000e+00   2.0   0.0          1   \n",
      "99  183.612048  0.079489  0.000000e+00  0.000000e+00   0.0   0.0          0   \n",
      "99    0.000000 -1.000000  0.000000e+00  0.000000e+00   0.0   0.0          1   \n",
      "\n",
      "    merger_type  bin_num  \n",
      "0          -001        0  \n",
      "0          -001        0  \n",
      "1          -001        1  \n",
      "1          -001        1  \n",
      "2          -001        2  \n",
      "..          ...      ...  \n",
      "97         -001       97  \n",
      "98         -001       98  \n",
      "98         0101       98  \n",
      "99         -001       99  \n",
      "99         0311       99  \n",
      "\n",
      "[200 rows x 39 columns]\n"
     ]
    }
   ],
   "source": [
    "print(bcm)"
   ]
  },
  {
   "cell_type": "code",
   "execution_count": 8,
   "metadata": {},
   "outputs": [],
   "source": [
    "import numpy as np\n",
    "import pandas as pd"
   ]
  },
  {
   "cell_type": "code",
   "execution_count": 9,
   "metadata": {},
   "outputs": [
    {
     "name": "stdout",
     "output_type": "stream",
     "text": [
      "<class 'pandas.core.series.Series'>\n",
      "<class 'pandas.core.series.Series'>\n"
     ]
    }
   ],
   "source": [
    "mass1 = bcm.mass_1\n",
    "print(type(mass1))\n",
    "mass1.to_frame()\n",
    "print(type(mass1))"
   ]
  },
  {
   "cell_type": "code",
   "execution_count": 10,
   "metadata": {},
   "outputs": [
    {
     "name": "stdout",
     "output_type": "stream",
     "text": [
      "<class 'numpy.ndarray'>\n"
     ]
    }
   ],
   "source": [
    "np.array(mass1)\n",
    "m1 = np.array(mass1)\n",
    "print(type(m1))"
   ]
  },
  {
   "cell_type": "code",
   "execution_count": 11,
   "metadata": {},
   "outputs": [],
   "source": [
    "mass2 = bcm.mass_2\n",
    "m2 = np.array(mass2)"
   ]
  },
  {
   "cell_type": "code",
   "execution_count": 12,
   "metadata": {},
   "outputs": [
    {
     "name": "stdout",
     "output_type": "stream",
     "text": [
      "<class 'numpy.ndarray'>\n"
     ]
    }
   ],
   "source": [
    "tphys = bcm.tphys\n",
    "Tphys = np.array(tphys)\n",
    "print(type(Tphys))"
   ]
  },
  {
   "cell_type": "code",
   "execution_count": 13,
   "metadata": {},
   "outputs": [],
   "source": [
    "final_mass1 = [m1[i] for i in range(len(Tphys)) if Tphys[i] == 13700.0]"
   ]
  },
  {
   "cell_type": "code",
   "execution_count": 14,
   "metadata": {},
   "outputs": [
    {
     "name": "stdout",
     "output_type": "stream",
     "text": [
      "[0.9771600800938198, 1.27758353409753, 0.5960327059094308, 0.7852396924629048, 0.5946855420136242, 0.5570879862701565, 0.5172284351237766, 0.0, 0.5603464342256612, 1.2266079315028893, 0.6536207176422616, 0.6641907383773332, 0.9324806203546729, 0.0, 0.9631246608972293, 0.0, 0.0, 0.8478598461342631, 0.9578069794090268, 0.8976240600481962, 0.320487798347624, 0.5942865676598093, 0.5136893221113099, 0.0, 0.5923524928132433, 0.6661330560203385, 0.7149879972799873, 0.0, 0.5201002956613351, 0.624694446535368, 1.27758353409753, 0.5678920618731297, 0.6957089673304441, 0.0, 0.57960750383213, 0.5152143817447629, 0.9279117983471684, 0.6501733277784039, 0.5122873582627898, 0.0, 0.0, 0.9299692182282561, 0.6138109498966194, 0.8331202030222009, 0.7718762920976583, 0.5127092106556649, 0.518472274913765, 0.6774309662590694, 0.0, 0.556121769325499, 0.910528233472444, 0.5446676087868384, 0.593781533170058, 0.0, 0.9208095045925055, 0.516575243369378, 0.5160564605220489, 0.8482550066262108, 0.5442447986844121, 0.0, 0.5222407050419765, 0.36999028330090267, 0.5745051747289573, 0.5724963863281811, 0.8538556257056372, 0.5302644837021443, 0.1755272746875363, 0.5255645074658657, 0.0, 0.0, 0.7440601026027795, 0.5404703038468491, 0.6780627727113121, 0.8364560930307036, 0.6861843876881573, 0.8918783389738069, 0.5356422610039578, 0.8959887935284339, 0.4159580206959469, 0.8485360320539006, 0.9613286214683354, 0.7435711336759618, 0.5114024669551751, 0.5191986791397359, 0.8050388736226838, 0.5656812717883882, 2.2315856218289527, 0.17151591114341008, 0.5696340411349112, 0.0, 0.6846485763065188, 0.7409557083922321, 0.0, 0.8769398863465131, 0.4016638902328911, 0.4067717370505669, 0.7367245448916407, 0.5160390216931285, 1.242, 0.0]\n"
     ]
    }
   ],
   "source": [
    "print(final_mass1)"
   ]
  },
  {
   "cell_type": "code",
   "execution_count": 15,
   "metadata": {},
   "outputs": [],
   "source": [
    "final_mass2 = [m2[i] for i in range(len(Tphys)) if Tphys[i] == 13700.0]"
   ]
  },
  {
   "cell_type": "code",
   "execution_count": 16,
   "metadata": {},
   "outputs": [],
   "source": [
    "f_m1 = pd.DataFrame(final_mass1)\n",
    "f_m2 = pd.DataFrame(final_mass2)"
   ]
  },
  {
   "cell_type": "code",
   "execution_count": 17,
   "metadata": {},
   "outputs": [],
   "source": [
    "import matplotlib.pyplot as plt"
   ]
  },
  {
   "cell_type": "code",
   "execution_count": 18,
   "metadata": {},
   "outputs": [
    {
     "data": {
      "image/png": "[encoded data removed]",
      "text/plain": [
       "<Figure size 432x288 with 1 Axes>"
      ]
     },
     "metadata": {
      "needs_background": "light"
     },
     "output_type": "display_data"
    }
   ],
   "source": [
    "f_m1.plot(kind='hist', edgecolor='black', alpha=1, legend=None)\n",
    "plt.title('Final Masses of Star 1')\n",
    "plt.xlabel('Ranges of Masses')\n",
    "plt.show()"
   ]
  },
  {
   "cell_type": "code",
   "execution_count": 19,
   "metadata": {},
   "outputs": [
    {
     "data": {
      "text/plain": [
       "Text(0.5, 0, 'Range of Masses')"
      ]
     },
     "execution_count": 19,
     "metadata": {},
     "output_type": "execute_result"
    },
    {
     "data": {
      "image/png": "[encoded data removed]",
      "text/plain": [
       "<Figure size 432x288 with 1 Axes>"
      ]
     },
     "metadata": {
      "needs_background": "light"
     },
     "output_type": "display_data"
    }
   ],
   "source": [
    "f_m2.plot(kind='hist', edgecolor='black', alpha=1, legend=None)\n",
    "plt.title('Final masses of star 2')\n",
    "plt.xlabel('Range of Masses')"
   ]
  },
  {
   "cell_type": "code",
   "execution_count": 46,
   "metadata": {},
   "outputs": [],
   "source": [
    "fperiod = bcm.porb\n",
    "fp = np.array(fperiod)\n",
    "f_period = [fp[i] for i in range(len(Tphys)) if Tphys[i] == 13700.0]\n",
    "f = [f_period[i] for i in range(len(f_period)) if f_period[i]!= np.Inf]\n",
    "fp1 = pd.DataFrame(f)"
   ]
  },
  {
   "cell_type": "code",
   "execution_count": 47,
   "metadata": {},
   "outputs": [
    {
     "name": "stdout",
     "output_type": "stream",
     "text": [
      "               0\n",
      "0   2.971540e+00\n",
      "1  -1.000000e+00\n",
      "2   0.000000e+00\n",
      "3   1.126974e+06\n",
      "4   0.000000e+00\n",
      "5   2.265793e+05\n",
      "6   1.482647e+03\n",
      "7   0.000000e+00\n",
      "8   3.373125e+05\n",
      "9   5.465072e+05\n",
      "10  0.000000e+00\n",
      "11  2.379733e+00\n",
      "12  7.102021e-02\n",
      "13  6.361233e+00\n",
      "14  0.000000e+00\n",
      "15  0.000000e+00\n",
      "16  2.868147e+01\n",
      "17  2.319232e+00\n",
      "18  4.527457e+01\n",
      "19  2.078342e+00\n",
      "20  0.000000e+00\n",
      "21  0.000000e+00\n",
      "22 -1.000000e+00\n",
      "23  1.357766e+04\n",
      "24  7.376378e+05\n",
      "25  0.000000e+00\n",
      "26  0.000000e+00\n",
      "27  1.895699e+05\n",
      "28  0.000000e+00\n",
      "29  0.000000e+00\n",
      "30  0.000000e+00\n",
      "31  9.349101e+05\n",
      "32  0.000000e+00\n",
      "33  0.000000e+00\n",
      "34  6.804375e+03\n",
      "35  9.287263e+01\n",
      "36  1.008662e+00\n",
      "37  7.496605e+04\n",
      "38  0.000000e+00\n",
      "39  1.692923e+04\n",
      "40  0.000000e+00\n",
      "41  5.496352e+01\n",
      "42  0.000000e+00\n",
      "43  0.000000e+00\n",
      "44  0.000000e+00\n",
      "45  5.814252e+04\n",
      "46  0.000000e+00\n",
      "47  3.845087e+00\n",
      "48  4.492241e+05\n",
      "49  0.000000e+00\n",
      "50  0.000000e+00\n",
      "51  2.133789e+01\n",
      "52  8.921780e+04\n",
      "53  1.472790e+04\n",
      "54  1.438553e+00\n",
      "55  0.000000e+00\n",
      "56  1.762771e-02\n",
      "57  1.591791e+05\n",
      "58  6.249854e+00\n",
      "59  6.379616e-01\n",
      "60  0.000000e+00\n",
      "61  6.407226e-01\n",
      "62  0.000000e+00\n",
      "63  8.484624e+00\n",
      "64  0.000000e+00\n",
      "65  0.000000e+00\n",
      "66  0.000000e+00\n",
      "67  9.530708e+04\n",
      "68  0.000000e+00\n",
      "69  0.000000e+00\n",
      "70  1.077269e+05\n",
      "71  0.000000e+00\n",
      "72  0.000000e+00\n",
      "73  0.000000e+00\n",
      "74  1.653160e+00\n",
      "75  2.414753e+01\n",
      "76  0.000000e+00\n",
      "77  9.859390e+04\n",
      "78  0.000000e+00\n",
      "79  0.000000e+00\n",
      "80  3.190049e+01\n",
      "81  1.005907e+01\n",
      "82  1.395513e+04\n",
      "83  0.000000e+00\n",
      "84  8.975290e+00\n",
      "85  2.416803e+05\n",
      "86 -1.000000e+00\n",
      "87  0.000000e+00\n",
      "88  0.000000e+00\n",
      "89  0.000000e+00\n",
      "90  3.793392e+03\n",
      "91  1.792521e+01\n",
      "92  6.926583e+00\n",
      "93  0.000000e+00\n",
      "94  8.183693e-02\n",
      "95  0.000000e+00\n",
      "96  0.000000e+00\n"
     ]
    }
   ],
   "source": [
    "pd.set_option(\"display.max_rows\", None, \"display.max_columns\", None)\n",
    "print(fp1)"
   ]
  },
  {
   "cell_type": "markdown",
   "metadata": {},
   "source": [
    "## Make log plot and zoom in around the 0's\n",
    "## Dont plot massless remnants"
   ]
  },
  {
   "cell_type": "code",
   "execution_count": 48,
   "metadata": {},
   "outputs": [
    {
     "data": {
      "text/plain": [
       "Text(0.5, 0, 'Periods')"
      ]
     },
     "execution_count": 48,
     "metadata": {},
     "output_type": "execute_result"
    },
    {
     "data": {
      "image/png": "[encoded data removed]",
      "text/plain": [
       "<Figure size 432x288 with 1 Axes>"
      ]
     },
     "metadata": {
      "needs_background": "light"
     },
     "output_type": "display_data"
    }
   ],
   "source": [
    "fp1.plot(kind='hist', edgecolor='black', legend=None)\n",
    "plt.title('Final Period of Stars')\n",
    "plt.xlabel('Periods')"
   ]
  },
  {
   "cell_type": "markdown",
   "metadata": {},
   "source": [
    "^Had to take out stars with periods of infinity"
   ]
  },
  {
   "cell_type": "code",
   "execution_count": null,
   "metadata": {},
   "outputs": [],
   "source": []
  }
 ],
 "metadata": {
  "kernelspec": {
   "display_name": "Python 3",
   "language": "python",
   "name": "python3"
  },
  "language_info": {
   "codemirror_mode": {
    "name": "ipython",
    "version": 3
   },
   "file_extension": ".py",
   "mimetype": "text/x-python",
   "name": "python",
   "nbconvert_exporter": "python",
   "pygments_lexer": "ipython3",
   "version": "3.8.5"
  }
 },
 "nbformat": 4,
 "nbformat_minor": 4
}
