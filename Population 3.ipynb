{
 "cells": [
  {
   "cell_type": "code",
   "execution_count": 1,
   "metadata": {},
   "outputs": [],
   "source": [
    "import numpy as np\n",
    "import pandas as pd\n",
    "import matplotlib.pyplot as plt\n",
    "%matplotlib inline"
   ]
  },
  {
   "cell_type": "code",
   "execution_count": 2,
   "metadata": {},
   "outputs": [],
   "source": [
    "import cosmic\n",
    "from cosmic.sample.initialbinarytable import InitialBinaryTable\n",
    "from cosmic.evolve import Evolve\n",
    "from cosmic.sample.sampler import independent"
   ]
  },
  {
   "cell_type": "code",
   "execution_count": 3,
   "metadata": {},
   "outputs": [
    {
     "name": "stdout",
     "output_type": "stream",
     "text": [
      "     kstar_1  kstar_2    mass_1    mass_2          porb       ecc  \\\n",
      "0        1.0      1.0  1.511363  1.351969     32.381024  0.780454   \n",
      "1        1.0      1.0  8.294931  2.154769      3.316926  0.447316   \n",
      "2        1.0      1.0  1.998895  1.629206     14.870903  0.415077   \n",
      "3        1.0      1.0  2.499803  1.713137    219.149857  0.205768   \n",
      "4        1.0      1.0  1.770687  1.757420      1.478571  0.530473   \n",
      "..       ...      ...       ...       ...           ...       ...   \n",
      "96       1.0      1.0  1.095927  0.978478     16.597514  0.614730   \n",
      "97       1.0      1.0  1.694390  1.020210  32491.831507  0.155393   \n",
      "98       1.0      1.0  1.825729  1.482745  20263.949914  0.711887   \n",
      "99       1.0      1.0  4.718772  4.699860     38.458065  0.372836   \n",
      "100      1.0      1.0  1.883927  0.980493     32.334170  0.554454   \n",
      "\n",
      "     metallicity   tphysf   mass0_1   mass0_2  ...  tacc_1  tacc_2  epoch_1  \\\n",
      "0           0.02  13700.0  1.511363  1.351969  ...     0.0     0.0      0.0   \n",
      "1           0.02  13700.0  8.294931  2.154769  ...     0.0     0.0      0.0   \n",
      "2           0.02  13700.0  1.998895  1.629206  ...     0.0     0.0      0.0   \n",
      "3           0.02  13700.0  2.499803  1.713137  ...     0.0     0.0      0.0   \n",
      "4           0.02  13700.0  1.770687  1.757420  ...     0.0     0.0      0.0   \n",
      "..           ...      ...       ...       ...  ...     ...     ...      ...   \n",
      "96          0.02  13700.0  1.095927  0.978478  ...     0.0     0.0      0.0   \n",
      "97          0.02  13700.0  1.694390  1.020210  ...     0.0     0.0      0.0   \n",
      "98          0.02  13700.0  1.825729  1.482745  ...     0.0     0.0      0.0   \n",
      "99          0.02  13700.0  4.718772  4.699860  ...     0.0     0.0      0.0   \n",
      "100         0.02  13700.0  1.883927  0.980493  ...     0.0     0.0      0.0   \n",
      "\n",
      "     epoch_2  tms_1  tms_2  bhspin_1  bhspin_2  tphys  binfrac  \n",
      "0        0.0    0.0    0.0       0.0       0.0    0.0      0.5  \n",
      "1        0.0    0.0    0.0       0.0       0.0    0.0      0.5  \n",
      "2        0.0    0.0    0.0       0.0       0.0    0.0      0.5  \n",
      "3        0.0    0.0    0.0       0.0       0.0    0.0      0.5  \n",
      "4        0.0    0.0    0.0       0.0       0.0    0.0      0.5  \n",
      "..       ...    ...    ...       ...       ...    ...      ...  \n",
      "96       0.0    0.0    0.0       0.0       0.0    0.0      0.5  \n",
      "97       0.0    0.0    0.0       0.0       0.0    0.0      0.5  \n",
      "98       0.0    0.0    0.0       0.0       0.0    0.0      0.5  \n",
      "99       0.0    0.0    0.0       0.0       0.0    0.0      0.5  \n",
      "100      0.0    0.0    0.0       0.0       0.0    0.0      0.5  \n",
      "\n",
      "[101 rows x 38 columns]\n"
     ]
    }
   ],
   "source": [
    "final_kstar1 = [10]\n",
    "final_kstar2 = [11, 12]\n",
    "\n",
    "InitialBinaries, mass_singles, mass_binaries, n_singles, n_binaries = InitialBinaryTable.sampler('independent', final_kstar1, final_kstar2, binfrac_model=0.5, primary_model='kroupa01', ecc_model='sana12', porb_model='sana12', qmin=-1, SF_start=13700.0, SF_duration=0.0, met=0.02, size=100)\n",
    "\n",
    "print(InitialBinaries)"
   ]
  },
  {
   "cell_type": "code",
   "execution_count": 4,
   "metadata": {},
   "outputs": [
    {
     "name": "stderr",
     "output_type": "stream",
     "text": [
      "/Users/noahbungart/opt/anaconda3/lib/python3.8/site-packages/cosmic/evolve.py:258: UserWarning: The value for dtp in initial binary table is being overwritten by the value of dtp from either the params file or the BSEDict.\n",
      "  warnings.warn(\"The value for {0} in initial binary table is being \"\n"
     ]
    },
    {
     "name": "stdout",
     "output_type": "stream",
     "text": [
      "     tphys  kstar_1   mass0_1    mass_1        lum_1     rad_1        teff_1  \\\n",
      "0      0.0      1.0  1.511363  1.511363     4.403462  1.472498   6921.349650   \n",
      "0  13700.0     11.0  0.665094  0.665094     0.000013  0.011930   3197.970818   \n",
      "1      0.0      1.0  8.294931  8.294931  3062.743646  3.727446  22340.432873   \n",
      "1  13700.0     15.0  8.199499  0.000000  6364.557485  7.667922  18701.344614   \n",
      "2      0.0      1.0  1.998895  1.998895    14.820801  1.684539   8764.900717   \n",
      "2  13700.0     11.0  0.732597  0.732597     0.000005  0.011101   2584.487665   \n",
      "3      0.0      1.0  2.499803  2.499803    37.142604  1.886862  10419.998086   \n",
      "3  13700.0     15.0  0.572554  0.000000     0.000332  0.013156   6824.409712   \n",
      "4      0.0      1.0  1.770687  1.770687     8.843089  1.594091   7918.884571   \n",
      "4  13700.0     11.0  0.780398  0.780398     0.000003  0.010538   2362.152903   \n",
      "\n",
      "    massc_1    radc_1        menv_1  ...        porb         sep       ecc  \\\n",
      "0  0.000000  0.000000  1.000000e-10  ...   32.381024   60.688002  0.780454   \n",
      "0  0.665094  0.011930  1.000000e-10  ...    0.000000    0.000000 -1.000000   \n",
      "1  0.000000  0.000000  1.000000e-10  ...    3.316926   20.455512  0.447316   \n",
      "1  0.000000  0.000000  1.000000e-10  ...    0.000000    0.000000 -1.000000   \n",
      "2  0.000000  0.000000  1.000000e-10  ...   14.870903   39.090380  0.415077   \n",
      "2  0.732597  0.011101  1.000000e-10  ...    0.000000    0.000000 -1.000000   \n",
      "3  0.000000  0.000000  1.000000e-10  ...  219.149857  246.968241  0.205768   \n",
      "3  0.000000  0.013156  1.000000e-10  ...    0.000000    0.000000 -1.000000   \n",
      "4  0.000000  0.000000  1.000000e-10  ...    1.478571    8.311779  0.530473   \n",
      "4  0.780398  0.010538  1.000000e-10  ...    0.000000    0.000000 -1.000000   \n",
      "\n",
      "   B_1  B_2  SN_1  SN_2  bin_state  merger_type  bin_num  \n",
      "0  0.0  0.0   0.0   0.0          0         -001        0  \n",
      "0  0.0  0.0   0.0   0.0          1         0301        0  \n",
      "1  0.0  0.0   0.0   0.0          0         -001        1  \n",
      "1  0.0  0.0   0.0   0.0          1         0101        1  \n",
      "2  0.0  0.0   0.0   0.0          0         -001        2  \n",
      "2  0.0  0.0   0.0   0.0          1         0301        2  \n",
      "3  0.0  0.0   0.0   0.0          0         -001        3  \n",
      "3  0.0  0.0   0.0   0.0          1         0311        3  \n",
      "4  0.0  0.0   0.0   0.0          0         -001        4  \n",
      "4  0.0  0.0   0.0   0.0          1         0101        4  \n",
      "\n",
      "[10 rows x 39 columns]\n"
     ]
    }
   ],
   "source": [
    "BSEDict = {'xi': 1.0, 'bhflag': 1, 'neta': 0.5, 'windflag': 3, 'wdflag': 1, 'alpha1': 1.0, 'pts1': 0.001, 'pts3': 0.02, 'pts2': 0.01, 'epsnov': 0.001, 'hewind': 0.5, 'ck': 1000, 'bwind': 0.0, 'lambdaf': 0.0, 'mxns': 3.0, 'beta': -1.0, 'tflag': 1, 'acc2': 1.5, 'grflag' : 1, 'remnantflag': 4, 'ceflag': 0, 'eddfac': 1.0, 'ifflag': 0, 'bconst': 3000, 'sigma': 265.0, 'gamma': -2.0, 'pisn': 45.0, 'natal_kick_array' : [[-100.0,-100.0,-100.0,-100.0,0.0], [-100.0,-100.0,-100.0,-100.0,0.0]], 'bhsigmafrac' : 1.0, 'polar_kick_angle' : 90, 'qcrit_array' : [0.0,0.0,0.0,0.0,0.0,0.0,0.0,0.0,0.0,0.0,0.0,0.0,0.0,0.0,0.0,0.0], 'cekickflag' : 2, 'cehestarflag' : 0, 'cemergeflag' : 0, 'ecsn' : 2.25, 'ecsn_mlow' : 1.6, 'aic' : 1, 'ussn' : 0, 'sigmadiv' :-20.0, 'qcflag' : 1, 'eddlimflag' : 0, 'fprimc_array' : [2.0/21.0,2.0/21.0,2.0/21.0,2.0/21.0,2.0/21.0,2.0/21.0,2.0/21.0,2.0/21.0,2.0/21.0,2.0/21.0,2.0/21.0,2.0/21.0,2.0/21.0,2.0/21.0,2.0/21.0,2.0/21.0], 'bhspinflag' : 0, 'bhspinmag' : 0.0, 'rejuv_fac' : 1.0, 'rejuvflag' : 0, 'htpmb' : 1, 'ST_cr' : 1, 'ST_tide' : 1, 'bdecayfac' : 1, 'rembar_massloss' : 0.5, 'kickflag' : 0, 'zsun' : 0.014, 'bhms_coll_flag' : 0, 'don_lim' : -1, 'acc_lim' : -1, 'dtp' : 13700.0}\n",
    "\n",
    "bpp, bcm, initC, kick_info  = Evolve.evolve(initialbinarytable=InitialBinaries, BSEDict=BSEDict)\n",
    "\n",
    "print(bcm.iloc[:10])"
   ]
  },
  {
   "cell_type": "code",
   "execution_count": 5,
   "metadata": {},
   "outputs": [],
   "source": [
    "#print(bpp)\n",
    "#print(bcm)\n",
    "mass1 = bcm.mass_1\n",
    "m1 = np.array(mass1)\n",
    "mass2 = bcm.mass_2\n",
    "m2 = np.array(mass2)"
   ]
  },
  {
   "cell_type": "code",
   "execution_count": 6,
   "metadata": {},
   "outputs": [],
   "source": [
    "tphys = bcm.tphys\n",
    "Tphys = np.array(tphys)"
   ]
  },
  {
   "cell_type": "code",
   "execution_count": 7,
   "metadata": {},
   "outputs": [],
   "source": [
    "final_mass1 = [m1[i] for i in range(len(Tphys)) if Tphys[i] == 13700.0]\n",
    "#print(final_mass1)\n",
    "final_mass2 = [m2[i] for i in range(len(Tphys)) if Tphys[i] == 13700.0]\n",
    "#print(final_mass2)\n",
    "f_m1 = pd.DataFrame(final_mass1)\n",
    "f_m2 = pd.DataFrame(final_mass2)"
   ]
  },
  {
   "cell_type": "code",
   "execution_count": 8,
   "metadata": {},
   "outputs": [
    {
     "data": {
      "image/png": "[encoded data removed]",
      "text/plain": [
       "<Figure size 432x288 with 1 Axes>"
      ]
     },
     "metadata": {
      "needs_background": "light"
     },
     "output_type": "display_data"
    }
   ],
   "source": [
    "f_m1.plot(kind='hist', edgecolor='black', alpha=1, legend=None)\n",
    "plt.title('Final Masses of Star 1')\n",
    "plt.xlabel('Ranges of Masses')\n",
    "plt.show()"
   ]
  },
  {
   "cell_type": "code",
   "execution_count": 9,
   "metadata": {},
   "outputs": [
    {
     "data": {
      "text/plain": [
       "Text(0.5, 0, 'Range of Masses')"
      ]
     },
     "execution_count": 9,
     "metadata": {},
     "output_type": "execute_result"
    },
    {
     "data": {
      "image/png": "[encoded data removed]",
      "text/plain": [
       "<Figure size 432x288 with 1 Axes>"
      ]
     },
     "metadata": {
      "needs_background": "light"
     },
     "output_type": "display_data"
    }
   ],
   "source": [
    "f_m2.plot(kind='hist', edgecolor='black', alpha=1, legend=None)\n",
    "plt.title('Final masses of star 2')\n",
    "plt.xlabel('Range of Masses')"
   ]
  },
  {
   "cell_type": "code",
   "execution_count": 10,
   "metadata": {},
   "outputs": [],
   "source": [
    "#Getting rid of any binary systems with a period of infinity\n",
    "fperiod = bcm.porb\n",
    "fp = np.array(fperiod)\n",
    "f_period = [fp[i] for i in range(len(Tphys)) if Tphys[i] == 13700.0]\n",
    "f = [f_period[i] for i in range(len(f_period)) if f_period[i]!= np.Inf]\n",
    "fp1 = pd.DataFrame(f)"
   ]
  },
  {
   "cell_type": "code",
   "execution_count": 11,
   "metadata": {},
   "outputs": [
    {
     "data": {
      "text/plain": [
       "Text(0.5, 0, 'Periods')"
      ]
     },
     "execution_count": 11,
     "metadata": {},
     "output_type": "execute_result"
    },
    {
     "data": {
      "image/png": "[encoded data removed]",
      "text/plain": [
       "<Figure size 432x288 with 1 Axes>"
      ]
     },
     "metadata": {
      "needs_background": "light"
     },
     "output_type": "display_data"
    }
   ],
   "source": [
    "fp1.plot(kind='hist', edgecolor='black', legend=None)\n",
    "plt.title('Final Period of Stars')\n",
    "plt.xlabel('Periods')"
   ]
  },
  {
   "cell_type": "code",
   "execution_count": 15,
   "metadata": {},
   "outputs": [
    {
     "name": "stdout",
     "output_type": "stream",
     "text": [
      "0       1.0\n",
      "0      15.0\n",
      "1       1.0\n",
      "1      11.0\n",
      "2       1.0\n",
      "       ... \n",
      "98     11.0\n",
      "99      1.0\n",
      "99     13.0\n",
      "100     1.0\n",
      "100    15.0\n",
      "Name: kstar_2, Length: 202, dtype: float64\n"
     ]
    }
   ],
   "source": [
    "print(bcm['kstar_2'])"
   ]
  },
  {
   "cell_type": "code",
   "execution_count": 17,
   "metadata": {},
   "outputs": [
    {
     "ename": "SyntaxError",
     "evalue": "invalid syntax (<ipython-input-17-5245b59b3555>, line 3)",
     "output_type": "error",
     "traceback": [
      "\u001b[0;36m  File \u001b[0;32m\"<ipython-input-17-5245b59b3555>\"\u001b[0;36m, line \u001b[0;32m3\u001b[0m\n\u001b[0;31m    if (bcm['kstar_1'][i] = 11 or 12 or 13) or (bcm['kstar_2'][i] = 11 or 12 or 13)\u001b[0m\n\u001b[0m                          ^\u001b[0m\n\u001b[0;31mSyntaxError\u001b[0m\u001b[0;31m:\u001b[0m invalid syntax\n"
     ]
    }
   ],
   "source": [
    "wd = 0\n",
    "for i in range(length(bcm)):\n",
    "    if (bcm['kstar_1'][i] = 11 or 12 or 13) or (bcm['kstar_2'][i] = 11 or 12 or 13)\n",
    "    wd = wd + 1"
   ]
  },
  {
   "cell_type": "code",
   "execution_count": null,
   "metadata": {},
   "outputs": [],
   "source": []
  }
 ],
 "metadata": {
  "kernelspec": {
   "display_name": "Python 3",
   "language": "python",
   "name": "python3"
  },
  "language_info": {
   "codemirror_mode": {
    "name": "ipython",
    "version": 3
   },
   "file_extension": ".py",
   "mimetype": "text/x-python",
   "name": "python",
   "nbconvert_exporter": "python",
   "pygments_lexer": "ipython3",
   "version": "3.8.5"
  }
 },
 "nbformat": 4,
 "nbformat_minor": 4
}
