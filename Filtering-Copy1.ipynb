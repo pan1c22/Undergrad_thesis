{
 "cells": [
  {
   "cell_type": "markdown",
   "metadata": {},
   "source": [
    "## Import Default packages"
   ]
  },
  {
   "cell_type": "code",
   "execution_count": 1,
   "metadata": {},
   "outputs": [],
   "source": [
    "import numpy as np\n",
    "import pandas as pd\n",
    "import matplotlib.pyplot as plt\n",
    "%matplotlib inline"
   ]
  },
  {
   "cell_type": "markdown",
   "metadata": {},
   "source": [
    "## Import COSMIC Packages"
   ]
  },
  {
   "cell_type": "code",
   "execution_count": 2,
   "metadata": {},
   "outputs": [],
   "source": [
    "import cosmic\n",
    "from cosmic.sample.initialbinarytable import InitialBinaryTable\n",
    "from cosmic.evolve import Evolve\n",
    "from cosmic.sample.sampler import independent"
   ]
  },
  {
   "cell_type": "markdown",
   "metadata": {},
   "source": [
    "## Set Initial Binaries parameters"
   ]
  },
  {
   "cell_type": "code",
   "execution_count": 3,
   "metadata": {},
   "outputs": [
    {
     "name": "stdout",
     "output_type": "stream",
     "text": [
      "     kstar_1  kstar_2    mass_1    mass_2          porb       ecc  \\\n",
      "0        1.0      1.0  6.700677  5.887994   2689.635263  0.786425   \n",
      "1        1.0      1.0  7.149074  5.073977     11.918486  0.159977   \n",
      "2        1.0      1.0  2.105427  1.131350     30.230572  0.021325   \n",
      "3        1.0      1.0  2.494980  1.542473      1.538139  0.077810   \n",
      "4        0.0      0.0  0.636227  0.579040      1.620503  0.006815   \n",
      "..       ...      ...       ...       ...           ...       ...   \n",
      "101      1.0      1.0  1.522728  1.147927     36.042124  0.066995   \n",
      "102      1.0      1.0  2.525579  1.526093      2.065264  0.562318   \n",
      "103      1.0      0.0  0.827623  0.666940      3.287764  0.199281   \n",
      "104      1.0      0.0  0.877276  0.555349  87710.843066  0.176500   \n",
      "105      1.0      1.0  1.079553  0.739644  28954.425822  0.885096   \n",
      "\n",
      "     metallicity   tphysf   mass0_1   mass0_2  ...  tacc_1  tacc_2  epoch_1  \\\n",
      "0           0.02  13700.0  6.700677  5.887994  ...     0.0     0.0      0.0   \n",
      "1           0.02  13700.0  7.149074  5.073977  ...     0.0     0.0      0.0   \n",
      "2           0.02  13700.0  2.105427  1.131350  ...     0.0     0.0      0.0   \n",
      "3           0.02  13700.0  2.494980  1.542473  ...     0.0     0.0      0.0   \n",
      "4           0.02  13700.0  0.636227  0.579040  ...     0.0     0.0      0.0   \n",
      "..           ...      ...       ...       ...  ...     ...     ...      ...   \n",
      "101         0.02  13700.0  1.522728  1.147927  ...     0.0     0.0      0.0   \n",
      "102         0.02  13700.0  2.525579  1.526093  ...     0.0     0.0      0.0   \n",
      "103         0.02  13700.0  0.827623  0.666940  ...     0.0     0.0      0.0   \n",
      "104         0.02  13700.0  0.877276  0.555349  ...     0.0     0.0      0.0   \n",
      "105         0.02  13700.0  1.079553  0.739644  ...     0.0     0.0      0.0   \n",
      "\n",
      "     epoch_2  tms_1  tms_2  bhspin_1  bhspin_2  tphys  binfrac  \n",
      "0        0.0    0.0    0.0       0.0       0.0    0.0      0.5  \n",
      "1        0.0    0.0    0.0       0.0       0.0    0.0      0.5  \n",
      "2        0.0    0.0    0.0       0.0       0.0    0.0      0.5  \n",
      "3        0.0    0.0    0.0       0.0       0.0    0.0      0.5  \n",
      "4        0.0    0.0    0.0       0.0       0.0    0.0      0.5  \n",
      "..       ...    ...    ...       ...       ...    ...      ...  \n",
      "101      0.0    0.0    0.0       0.0       0.0    0.0      0.5  \n",
      "102      0.0    0.0    0.0       0.0       0.0    0.0      0.5  \n",
      "103      0.0    0.0    0.0       0.0       0.0    0.0      0.5  \n",
      "104      0.0    0.0    0.0       0.0       0.0    0.0      0.5  \n",
      "105      0.0    0.0    0.0       0.0       0.0    0.0      0.5  \n",
      "\n",
      "[106 rows x 38 columns]\n"
     ]
    }
   ],
   "source": [
    "#Setting what evolution types are allowed\n",
    "final_kstar1 = [10,11,12]\n",
    "final_kstar2 = [10,11,12]\n",
    "\n",
    "#Set the initial binary population parameters\n",
    "InitialBinaries, mass_singles, mass_binaries, n_singles, n_binaries = \\\n",
    "     InitialBinaryTable.sampler('independent', final_kstar1, final_kstar2, binfrac_model=0.5,\n",
    "                                primary_model='kroupa01', ecc_model='sana12', porb_model='sana12',\n",
    "                                qmin=-1, SF_start=13700.0, SF_duration=0.0, met=0.02, size=100)\n",
    "\n",
    "print(InitialBinaries)"
   ]
  },
  {
   "cell_type": "code",
   "execution_count": 4,
   "metadata": {},
   "outputs": [
    {
     "name": "stderr",
     "output_type": "stream",
     "text": [
      "/Users/noahbungart/opt/anaconda3/lib/python3.8/site-packages/cosmic/evolve.py:258: UserWarning: The value for dtp in initial binary table is being overwritten by the value of dtp from either the params file or the BSEDict.\n",
      "  warnings.warn(\"The value for {0} in initial binary table is being \"\n"
     ]
    },
    {
     "name": "stdout",
     "output_type": "stream",
     "text": [
      "     tphys  kstar_1   mass0_1    mass_1        lum_1     rad_1        teff_1  \\\n",
      "0      0.0      1.0  6.700677  6.700677  1476.787083  3.289618  19816.472842   \n",
      "0  13700.0     15.0  0.852860  0.000000     0.206287  0.009708  39656.561137   \n",
      "1      0.0      1.0  7.149074  7.149074  1847.711981  3.416180  20566.376397   \n",
      "1  13700.0     15.0  1.032710  0.000000     0.384103  0.007688  52057.008538   \n",
      "2      0.0      1.0  2.105427  2.105427    18.412763  1.727293   9138.319143   \n",
      "2  13700.0     11.0  0.562709  0.562709     0.000004  0.013294   2212.050837   \n",
      "3      0.0      1.0  2.494980  2.494980    36.855220  1.884922  10405.134468   \n",
      "3  13700.0     11.0  0.794267  0.794267     0.000005  0.010377   2625.993497   \n",
      "4      0.0      0.0  0.636227  0.636227     0.078384  0.592291   3986.201071   \n",
      "4  13700.0      0.0  0.636227  0.636227     0.090434  0.617132   4047.282675   \n",
      "\n",
      "    massc_1    radc_1        menv_1  ...         porb          sep       ecc  \\\n",
      "0  0.000000  0.000000  1.000000e-10  ...  2689.635263  1892.666565  0.786425   \n",
      "0  0.000000  0.009708  1.000000e-10  ...     0.000000     0.000000 -1.000000   \n",
      "1  0.000000  0.000000  1.000000e-10  ...    11.918486    50.562183  0.159977   \n",
      "1  0.000000  0.007688  1.000000e-10  ...     0.000000     0.000000 -1.000000   \n",
      "2  0.000000  0.000000  1.000000e-10  ...    30.230572    60.388430  0.021325   \n",
      "2  0.562709  0.013294  1.000000e-10  ...     0.000000     0.000000 -1.000000   \n",
      "3  0.000000  0.000000  1.000000e-10  ...     1.538139     8.925888  0.077810   \n",
      "3  0.794267  0.010377  1.000000e-10  ...     0.000000     0.000000 -1.000000   \n",
      "4  0.000000  0.000000  8.542288e-02  ...     1.620503     6.193589  0.006815   \n",
      "4  0.000000  0.000000  8.542559e-02  ...     1.603502     6.150193  0.006740   \n",
      "\n",
      "   B_1           B_2  SN_1  SN_2  bin_state  merger_type  bin_num  \n",
      "0  0.0  0.000000e+00   0.0   0.0          0         -001        0  \n",
      "0  0.0  0.000000e+00   0.0   0.0          1         0211        0  \n",
      "1  0.0  0.000000e+00   0.0   0.0          0         -001        1  \n",
      "1  0.0  2.269488e+11   0.0   1.0          1         0211        1  \n",
      "2  0.0  0.000000e+00   0.0   0.0          0         -001        2  \n",
      "2  0.0  0.000000e+00   0.0   0.0          1         0301        2  \n",
      "3  0.0  0.000000e+00   0.0   0.0          0         -001        3  \n",
      "3  0.0  0.000000e+00   0.0   0.0          1         0710        3  \n",
      "4  0.0  0.000000e+00   0.0   0.0          0         -001        4  \n",
      "4  0.0  0.000000e+00   0.0   0.0          0         -001        4  \n",
      "\n",
      "[10 rows x 39 columns]\n"
     ]
    }
   ],
   "source": [
    "#Set the BSEDict\n",
    "BSEDict = {'xi': 1.0, 'bhflag': 1, 'neta': 0.5, 'windflag': 3, 'wdflag': 1, 'alpha1': 1.0, 'pts1': 0.001, 'pts3': 0.02, 'pts2': 0.01, 'epsnov': 0.001, 'hewind': 0.5, 'ck': 1000, 'bwind': 0.0, 'lambdaf': 0.0, 'mxns': 3.0, 'beta': -1.0, 'tflag': 1, 'acc2': 1.5, 'grflag' : 1, 'remnantflag': 4, 'ceflag': 0, 'eddfac': 1.0, 'ifflag': 0, 'bconst': 3000, 'sigma': 265.0, 'gamma': -2.0, 'pisn': 45.0, 'natal_kick_array' : [[-100.0,-100.0,-100.0,-100.0,0.0], [-100.0,-100.0,-100.0,-100.0,0.0]], 'bhsigmafrac' : 1.0, 'polar_kick_angle' : 90, 'qcrit_array' : [0.0,0.0,0.0,0.0,0.0,0.0,0.0,0.0,0.0,0.0,0.0,0.0,0.0,0.0,0.0,0.0], 'cekickflag' : 2, 'cehestarflag' : 0, 'cemergeflag' : 0, 'ecsn' : 2.25, 'ecsn_mlow' : 1.6, 'aic' : 1, 'ussn' : 0, 'sigmadiv' :-20.0, 'qcflag' : 1, 'eddlimflag' : 0, 'fprimc_array' : [2.0/21.0,2.0/21.0,2.0/21.0,2.0/21.0,2.0/21.0,2.0/21.0,2.0/21.0,2.0/21.0,2.0/21.0,2.0/21.0,2.0/21.0,2.0/21.0,2.0/21.0,2.0/21.0,2.0/21.0,2.0/21.0], 'bhspinflag' : 0, 'bhspinmag' : 0.0, 'rejuv_fac' : 1.0, 'rejuvflag' : 0, 'htpmb' : 1, 'ST_cr' : 1, 'ST_tide' : 1, 'bdecayfac' : 1, 'rembar_massloss' : 0.5, 'kickflag' : 0, 'zsun' : 0.014, 'bhms_coll_flag' : 0, 'don_lim' : -1, 'acc_lim' : -1, 'dtp' : 13700.0}\n",
    "\n",
    "#Evolve the system\n",
    "bpp, bcm, initC, kick_info  = Evolve.evolve(initialbinarytable=InitialBinaries, BSEDict=BSEDict)\n",
    "\n",
    "print(bcm.iloc[:10])"
   ]
  },
  {
   "cell_type": "code",
   "execution_count": 5,
   "metadata": {},
   "outputs": [],
   "source": [
    "#print(bpp.iloc[:10])"
   ]
  },
  {
   "cell_type": "markdown",
   "metadata": {},
   "source": [
    "## Get all parameters wanted/needed\n",
    "## (mass1, mass2, period, ecc, semi-major(a), sini, rv_variability)\n",
    "### sini is not calculated so create artificial data"
   ]
  },
  {
   "cell_type": "code",
   "execution_count": 6,
   "metadata": {},
   "outputs": [],
   "source": [
    "mass1 = bcm.mass_1[bcm.tphys == 13700.0]\n",
    "#print(mass1)\n",
    "mass2 = bcm.mass_2[bcm.tphys == 13700.0]\n",
    "#print(mass2)\n",
    "period = bcm.porb[bcm.tphys == 13700.0]\n",
    "#print(period)\n",
    "ecc = bcm.ecc[bcm.tphys == 13700.0]\n",
    "#print(ecc)\n",
    "a = bcm.sep[bcm.tphys == 13700.0]\n",
    "#print(a)"
   ]
  },
  {
   "cell_type": "code",
   "execution_count": 7,
   "metadata": {},
   "outputs": [
    {
     "name": "stdout",
     "output_type": "stream",
     "text": [
      "106\n",
      "106\n",
      "106\n",
      "106\n",
      "106\n"
     ]
    }
   ],
   "source": [
    "#Checking to make sure all initial dataframes are the \n",
    "#same length\n",
    "print(len(mass1))\n",
    "print(len(mass2))\n",
    "print(len(period))\n",
    "print(len(ecc))\n",
    "print(len(a))"
   ]
  },
  {
   "cell_type": "code",
   "execution_count": 8,
   "metadata": {},
   "outputs": [
    {
     "name": "stdout",
     "output_type": "stream",
     "text": [
      "106\n"
     ]
    }
   ],
   "source": [
    "#Create artificial sini data\n",
    "sin_i = np.random.uniform(0, 1, len(mass1))\n",
    "print(len(sin_i))"
   ]
  },
  {
   "cell_type": "code",
   "execution_count": 9,
   "metadata": {},
   "outputs": [],
   "source": [
    "#Define rv_variability function\n",
    "def rv_variable(m1, m2, a, period, ecc, sin_i):\n",
    "    \"\"\"\n",
    "    Function to calculate readial velocity variability\n",
    "    \n",
    "    m1: Mass 1\n",
    "    m2: Mass 2\n",
    "    period: Period\n",
    "    ecc: Eccentricity\n",
    "    a: amplitude\n",
    "    \"\"\"\n",
    "    var = (2*np.pi*a*m2*sin_i)/(period*(m1+m2)*(1-ecc**2)**(1/2))\n",
    "    return var"
   ]
  },
  {
   "cell_type": "markdown",
   "metadata": {},
   "source": [
    "## Problems occur past here:\n",
    "1.Periods of 0 and -1 and inf\n",
    "\n",
    "2.Semi-major axis(a) of 0 and -1\n",
    "\n",
    "3.Eccentricity of -1\n",
    "\n",
    "4.Might be hidden 'inf' values\n",
    "\n",
    "5.Check to make sure all rv_var values are positive and non-zero"
   ]
  },
  {
   "cell_type": "code",
   "execution_count": 10,
   "metadata": {},
   "outputs": [
    {
     "name": "stdout",
     "output_type": "stream",
     "text": [
      "0     -1.000000e+00\n",
      "1     -1.000000e+00\n",
      "2     -1.000000e+00\n",
      "3     -1.000000e+00\n",
      "4      6.739786e-03\n",
      "5     -1.000000e+00\n",
      "6      0.000000e+00\n",
      "7      2.044424e-01\n",
      "8      2.944761e-01\n",
      "9      1.078579e-01\n",
      "10    -1.000000e+00\n",
      "11    -1.000000e+00\n",
      "12    -1.000000e+00\n",
      "13     0.000000e+00\n",
      "14     2.748864e-02\n",
      "15     0.000000e+00\n",
      "16    -1.000000e+00\n",
      "17     1.596562e-02\n",
      "18     0.000000e+00\n",
      "19    -1.000000e+00\n",
      "20     1.313759e-01\n",
      "21    -1.000000e+00\n",
      "22     0.000000e+00\n",
      "23     5.316353e-01\n",
      "24    -1.000000e+00\n",
      "25     7.956641e-01\n",
      "26    -1.000000e+00\n",
      "27    -1.000000e+00\n",
      "28     9.455191e-02\n",
      "29     0.000000e+00\n",
      "30    -1.000000e+00\n",
      "31    -1.000000e+00\n",
      "32     0.000000e+00\n",
      "33     1.909385e-01\n",
      "34    -1.000000e+00\n",
      "35     2.737307e-02\n",
      "36     8.212627e-01\n",
      "37    -1.000000e+00\n",
      "38    -1.000000e+00\n",
      "39    -1.000000e+00\n",
      "40     8.569133e-02\n",
      "41     0.000000e+00\n",
      "42     2.819715e-01\n",
      "43    -1.000000e+00\n",
      "44     1.225823e-03\n",
      "45     5.452839e-02\n",
      "46     0.000000e+00\n",
      "47     9.575752e-02\n",
      "48     2.335623e-02\n",
      "49    -1.000000e+00\n",
      "50    -1.000000e+00\n",
      "51    -1.000000e+00\n",
      "52     0.000000e+00\n",
      "53    -1.000000e+00\n",
      "54     0.000000e+00\n",
      "55    -1.000000e+00\n",
      "56     7.141216e-01\n",
      "57    -1.000000e+00\n",
      "58    -1.000000e+00\n",
      "59    -1.000000e+00\n",
      "60     6.568018e-01\n",
      "61    -1.000000e+00\n",
      "62    -1.000000e+00\n",
      "63    -1.000000e+00\n",
      "64     0.000000e+00\n",
      "65    -1.000000e+00\n",
      "66    -1.000000e+00\n",
      "67     0.000000e+00\n",
      "68     2.192148e-03\n",
      "69    -1.000000e+00\n",
      "70     3.139608e-01\n",
      "71     0.000000e+00\n",
      "72     1.906373e-01\n",
      "73    -1.000000e+00\n",
      "74    -1.000000e+00\n",
      "75    -1.000000e+00\n",
      "76    -1.000000e+00\n",
      "77    -1.000000e+00\n",
      "78     1.027888e-01\n",
      "79     3.480796e-01\n",
      "80    -1.000000e+00\n",
      "81     1.079398e-01\n",
      "82     1.011053e-01\n",
      "83     8.998086e-01\n",
      "84     2.397779e-02\n",
      "85     0.000000e+00\n",
      "86     1.797018e-01\n",
      "87     7.285770e-01\n",
      "88     3.542388e-01\n",
      "89     0.000000e+00\n",
      "90     3.416157e-03\n",
      "91    -1.000000e+00\n",
      "92     0.000000e+00\n",
      "93    -1.000000e+00\n",
      "94     1.074172e-01\n",
      "95    -1.000000e+00\n",
      "96    -1.000000e+00\n",
      "97     1.182217e-02\n",
      "98     0.000000e+00\n",
      "99     1.647676e-01\n",
      "100    0.000000e+00\n",
      "101   -1.000000e+00\n",
      "102   -1.000000e+00\n",
      "103    8.756421e-08\n",
      "104    1.764998e-01\n",
      "105    1.141945e-01\n",
      "Name: ecc, dtype: float64\n"
     ]
    }
   ],
   "source": [
    "#Here you can manually check\n",
    "#What values you'd want to remove\n",
    "pd.set_option(\"display.max_rows\", None, \"display.max_columns\", None)\n",
    "print(ecc)"
   ]
  },
  {
   "cell_type": "code",
   "execution_count": 11,
   "metadata": {},
   "outputs": [
    {
     "name": "stdout",
     "output_type": "stream",
     "text": [
      "53\n"
     ]
    }
   ],
   "source": [
    "p = period[period != 0]\n",
    "p = p[p != -1]\n",
    "p = p[p != np.inf]\n",
    "print(len(p))"
   ]
  },
  {
   "cell_type": "code",
   "execution_count": 12,
   "metadata": {},
   "outputs": [
    {
     "name": "stdout",
     "output_type": "stream",
     "text": [
      "55\n"
     ]
    }
   ],
   "source": [
    "semi = a[a != 0]\n",
    "semi = semi[semi != -1]\n",
    "print(len(semi))"
   ]
  },
  {
   "cell_type": "code",
   "execution_count": 13,
   "metadata": {},
   "outputs": [
    {
     "name": "stdout",
     "output_type": "stream",
     "text": [
      "59\n"
     ]
    }
   ],
   "source": [
    "e = ecc[ecc != -1]\n",
    "print(len(e))"
   ]
  },
  {
   "cell_type": "markdown",
   "metadata": {},
   "source": [
    "## Now we have new filtered dataframes:\n",
    " But they are different lengths so can't pass through function, so must make them all the same length\n",
    " Find the indecies of all unwanted values to remove"
   ]
  },
  {
   "cell_type": "markdown",
   "metadata": {},
   "source": [
    "## Possible dummy stupid simple method"
   ]
  },
  {
   "cell_type": "code",
   "execution_count": 14,
   "metadata": {},
   "outputs": [
    {
     "name": "stdout",
     "output_type": "stream",
     "text": [
      "Int64Index([  0,   1,   2,   3,  10,  11,  12,  16,  19,  21,  24,  26,  27,\n",
      "             30,  31,  34,  37,  38,  39,  43,  49,  50,  51,  53,  55,  57,\n",
      "             58,  59,  61,  62,  63,  65,  66,  74,  75,  76,  77,  80,  91,\n",
      "             93,  95,  96, 101, 102,   5,   6,  54,  67,  69,  73,  98,  32,\n",
      "             92],\n",
      "           dtype='int64')\n",
      "Int64Index([  0,   1,   2,   3,  10,  11,  12,  16,  19,  21,\n",
      "            ...\n",
      "             96, 101, 102,   5,   6,  54,  67,  69,  73,  98],\n",
      "           dtype='int64', length=104)\n",
      "Int64Index([  0,   1,   2,   3,  10,  11,  12,  16,  19,  21,\n",
      "            ...\n",
      "             75,  76,  77,  80,  91,  93,  95,  96, 101, 102],\n",
      "           dtype='int64', length=151)\n"
     ]
    }
   ],
   "source": [
    "#period indecies\n",
    "x = period.index[period == 0]\n",
    "y = period.index[period == -1]\n",
    "z = period.index[period == np.inf]\n",
    "\n",
    "#Update del_arr\n",
    "del_arr = x\n",
    "del_arr = del_arr.append(y)\n",
    "del_arr = del_arr.append(z)\n",
    "print(del_arr)\n",
    "\n",
    "#Semi major indecies\n",
    "x_2 = a.index[a == 0]\n",
    "y_2 = a.index[a == -1]\n",
    "\n",
    "#Update del_arr\n",
    "del_arr = del_arr.append(x_2)\n",
    "del_arr = del_arr.append(y_2)\n",
    "print(del_arr)\n",
    "\n",
    "#Ecc indecies\n",
    "x_3 = ecc.index[ecc == -1]\n",
    "\n",
    "#Update del_arr\n",
    "del_arr = del_arr.append(x_3)\n",
    "print(del_arr)\n",
    "\n",
    "#Create final array and remove dupplicates\n",
    "delete_arr=[]\n",
    "for i in del_arr:\n",
    "    if i not in delete_arr:\n",
    "        delete_arr.append(i)"
   ]
  },
  {
   "cell_type": "code",
   "execution_count": 15,
   "metadata": {},
   "outputs": [
    {
     "name": "stdout",
     "output_type": "stream",
     "text": [
      "Int64Index([  0,   1,   2,   3,  10,  11,  12,  16,  19,  21,\n",
      "            ...\n",
      "             75,  76,  77,  80,  91,  93,  95,  96, 101, 102],\n",
      "           dtype='int64', length=151)\n",
      "[0, 1, 2, 3, 10, 11, 12, 16, 19, 21, 24, 26, 27, 30, 31, 34, 37, 38, 39, 43, 49, 50, 51, 53, 55, 57, 58, 59, 61, 62, 63, 65, 66, 74, 75, 76, 77, 80, 91, 93, 95, 96, 101, 102, 5, 6, 54, 67, 69, 73, 98, 32, 92]\n"
     ]
    }
   ],
   "source": [
    "print(del_arr)\n",
    "print(delete_arr)"
   ]
  },
  {
   "cell_type": "code",
   "execution_count": 22,
   "metadata": {},
   "outputs": [
    {
     "name": "stdout",
     "output_type": "stream",
     "text": [
      "               0\n",
      "0   6.739786e-03\n",
      "1   2.044424e-01\n",
      "2   2.944761e-01\n",
      "3   1.078579e-01\n",
      "4   0.000000e+00\n",
      "5   2.748864e-02\n",
      "6   0.000000e+00\n",
      "7   1.596562e-02\n",
      "8   0.000000e+00\n",
      "9   1.313759e-01\n",
      "10  0.000000e+00\n",
      "11  5.316353e-01\n",
      "12  7.956641e-01\n",
      "13  9.455191e-02\n",
      "14  0.000000e+00\n",
      "15  1.909385e-01\n",
      "16  2.737307e-02\n",
      "17  8.212627e-01\n",
      "18  8.569133e-02\n",
      "19  0.000000e+00\n",
      "20  2.819715e-01\n",
      "21  1.225823e-03\n",
      "22  5.452839e-02\n",
      "23  0.000000e+00\n",
      "24  9.575752e-02\n",
      "25  2.335623e-02\n",
      "26  0.000000e+00\n",
      "27  7.141216e-01\n",
      "28  6.568018e-01\n",
      "29  0.000000e+00\n",
      "30  2.192148e-03\n",
      "31  3.139608e-01\n",
      "32  0.000000e+00\n",
      "33  1.906373e-01\n",
      "34  1.027888e-01\n",
      "35  3.480796e-01\n",
      "36  1.079398e-01\n",
      "37  1.011053e-01\n",
      "38  8.998086e-01\n",
      "39  2.397779e-02\n",
      "40  0.000000e+00\n",
      "41  1.797018e-01\n",
      "42  7.285770e-01\n",
      "43  3.542388e-01\n",
      "44  0.000000e+00\n",
      "45  3.416157e-03\n",
      "46  1.074172e-01\n",
      "47  1.182217e-02\n",
      "48  1.647676e-01\n",
      "49  0.000000e+00\n",
      "50  8.756421e-08\n",
      "51  1.764998e-01\n",
      "52  1.141945e-01\n",
      "               0\n",
      "0   1.603502e+00\n",
      "1   1.849279e+02\n",
      "2   7.102206e+03\n",
      "3   6.530092e+01\n",
      "4   1.455263e+00\n",
      "5   1.885803e+05\n",
      "6   1.622509e+03\n",
      "7   2.015548e+01\n",
      "8   7.046925e-01\n",
      "9   1.794632e+00\n",
      "10  1.452627e+00\n",
      "11  2.649855e+03\n",
      "12  1.088639e+03\n",
      "13  7.971664e+03\n",
      "14  1.724688e+01\n",
      "15  3.800033e+01\n",
      "16  6.784699e+02\n",
      "17  1.549721e+03\n",
      "18  7.514503e+02\n",
      "19  6.229409e+03\n",
      "20  3.999942e+05\n",
      "21  1.837429e+03\n",
      "22  1.094188e+02\n",
      "23  2.077582e+01\n",
      "24  1.261804e+01\n",
      "25  1.409027e+04\n",
      "26  9.392888e+02\n",
      "27  1.701365e+01\n",
      "28  2.183374e+00\n",
      "29  4.190857e+00\n",
      "30  2.412414e+06\n",
      "31  3.353830e+00\n",
      "32  2.343133e+00\n",
      "33  5.117717e+01\n",
      "34  3.776116e+03\n",
      "35  7.189898e+00\n",
      "36  1.483765e+06\n",
      "37  1.439962e+00\n",
      "38  1.020422e+03\n",
      "39  2.598378e+00\n",
      "40  3.643072e+00\n",
      "41  2.822713e+00\n",
      "42  7.091716e+04\n",
      "43  6.823491e+00\n",
      "44  6.934165e-01\n",
      "45  1.269198e+05\n",
      "46  4.664993e+00\n",
      "47  6.117501e+04\n",
      "48  5.992289e+02\n",
      "49  7.933955e-02\n",
      "50  3.062063e+00\n",
      "51  8.771084e+04\n",
      "52  4.808107e+03\n",
      "               0\n",
      "0       6.150193\n",
      "1     142.504574\n",
      "2    1813.803356\n",
      "3      71.592279\n",
      "4       6.661910\n",
      "5   15216.895950\n",
      "6     599.522363\n",
      "7      38.274394\n",
      "8       3.165902\n",
      "9       6.624531\n",
      "10      5.521349\n",
      "11    891.471874\n",
      "12    518.833000\n",
      "13   1865.989024\n",
      "14     29.059626\n",
      "15     51.643057\n",
      "16    361.186208\n",
      "17    612.018475\n",
      "18    356.223506\n",
      "19   1624.903465\n",
      "20  24267.810531\n",
      "21    745.928186\n",
      "22    103.373143\n",
      "23     36.392680\n",
      "24     26.415564\n",
      "25   2809.567998\n",
      "26    470.325244\n",
      "27     28.986940\n",
      "28      7.292341\n",
      "29     10.569073\n",
      "30  81396.382671\n",
      "31     10.087231\n",
      "32      8.055736\n",
      "33     70.434509\n",
      "34   1168.552897\n",
      "35     16.773065\n",
      "36  63114.715837\n",
      "37      5.687919\n",
      "38    462.303848\n",
      "39      8.432627\n",
      "40     11.905494\n",
      "41      8.873605\n",
      "42   8055.003282\n",
      "43     18.192076\n",
      "44      3.601010\n",
      "45  11279.063392\n",
      "46     12.732010\n",
      "47   6747.397703\n",
      "48    332.367690\n",
      "49      0.758575\n",
      "50     10.142212\n",
      "51   9361.921118\n",
      "52   1303.660320\n"
     ]
    }
   ],
   "source": [
    "test2 = []\n",
    "for i in range(len(ecc)):\n",
    "    if ecc.index[i] not in delete_arr:\n",
    "        test2.append(ecc[i])\n",
    "test3 = []\n",
    "for i in range(len(period)):\n",
    "    if period.index[i] not in delete_arr:\n",
    "        test3.append(period[i])\n",
    "test4 = []\n",
    "for i in range(len(a)):\n",
    "    if a.index[i] not in delete_arr:\n",
    "        test4.append(a[i])\n",
    "\n",
    "test2 = pd.DataFrame(test2)\n",
    "test3 = pd.DataFrame(test3)\n",
    "test4 = pd.DataFrame(test4)\n",
    "    \n",
    "print(test2)\n",
    "print(test3)\n",
    "print(test4)"
   ]
  },
  {
   "cell_type": "code",
   "execution_count": 23,
   "metadata": {},
   "outputs": [
    {
     "name": "stdout",
     "output_type": "stream",
     "text": [
      "53 53 53\n"
     ]
    }
   ],
   "source": [
    "print(len(test2), len(test3), len(test4))"
   ]
  },
  {
   "cell_type": "code",
   "execution_count": 24,
   "metadata": {},
   "outputs": [
    {
     "data": {
      "image/png": "[encoded data removed]",
      "text/plain": [
       "<Figure size 432x288 with 1 Axes>"
      ]
     },
     "metadata": {
      "needs_background": "light"
     },
     "output_type": "display_data"
    }
   ],
   "source": [
    "test2.plot(kind='hist', edgecolor='black', alpha=1, legend=None)\n",
    "plt.title('Filtered Ecc')\n",
    "plt.xlabel('Ecc')\n",
    "plt.show()"
   ]
  },
  {
   "cell_type": "code",
   "execution_count": 25,
   "metadata": {},
   "outputs": [
    {
     "data": {
      "image/png": "[encoded data removed]",
      "text/plain": [
       "<Figure size 432x288 with 1 Axes>"
      ]
     },
     "metadata": {
      "needs_background": "light"
     },
     "output_type": "display_data"
    }
   ],
   "source": [
    "test3.plot(kind='hist', edgecolor='black', alpha=1, legend=None)\n",
    "plt.title('Filtered Period')\n",
    "plt.xlabel('Period')\n",
    "plt.show()"
   ]
  },
  {
   "cell_type": "code",
   "execution_count": 26,
   "metadata": {},
   "outputs": [
    {
     "data": {
      "image/png": "[encoded data removed]",
      "text/plain": [
       "<Figure size 432x288 with 1 Axes>"
      ]
     },
     "metadata": {
      "needs_background": "light"
     },
     "output_type": "display_data"
    }
   ],
   "source": [
    "test4.plot(kind='hist', edgecolor='black', alpha=1, legend=None)\n",
    "plt.title('Filtered Semi Major Axis')\n",
    "plt.xlabel('a')\n",
    "plt.show()"
   ]
  },
  {
   "cell_type": "code",
   "execution_count": null,
   "metadata": {},
   "outputs": [],
   "source": []
  }
 ],
 "metadata": {
  "kernelspec": {
   "display_name": "Python 3",
   "language": "python",
   "name": "python3"
  },
  "language_info": {
   "codemirror_mode": {
    "name": "ipython",
    "version": 3
   },
   "file_extension": ".py",
   "mimetype": "text/x-python",
   "name": "python",
   "nbconvert_exporter": "python",
   "pygments_lexer": "ipython3",
   "version": "3.8.5"
  }
 },
 "nbformat": 4,
 "nbformat_minor": 4
}
