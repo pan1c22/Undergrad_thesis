{
 "cells": [
  {
   "cell_type": "code",
   "execution_count": 1,
   "metadata": {},
   "outputs": [],
   "source": [
    "#Import packages\n",
    "import numpy as np\n",
    "import pandas as pd\n",
    "import matplotlib.pyplot as plt\n",
    "# %matplotlib inline\n",
    "\n",
    "#Import COSMIC and other things\n",
    "import cosmic\n",
    "from cosmic.sample.initialbinarytable import InitialBinaryTable\n",
    "from cosmic.evolve import Evolve\n",
    "from cosmic.sample.sampler import independent\n"
   ]
  },
  {
   "cell_type": "code",
   "execution_count": 2,
   "metadata": {},
   "outputs": [],
   "source": [
    "#Defining function for rv_variability\n",
    "def rv_variable(m1, m2, a, period, ecc, sin_i):\n",
    "    \"\"\"\n",
    "    Function to calculate readial velocity variability\n",
    "    \n",
    "    m1: Mass 1\n",
    "    m2: Mass 2\n",
    "    period: Period\n",
    "    ecc: Eccentricity\n",
    "    a: amplitude\n",
    "    \"\"\"\n",
    "    var = (2*np.pi*a*m2*sin_i)/(period*(m1+m2)*(1-ecc**2)**(1/2))\n",
    "    return var"
   ]
  },
  {
   "cell_type": "code",
   "execution_count": 3,
   "metadata": {},
   "outputs": [
    {
     "name": "stdout",
     "output_type": "stream",
     "text": [
      "####################### Initial Binaries Set ##########################\n"
     ]
    },
    {
     "name": "stderr",
     "output_type": "stream",
     "text": [
      "/Users/noahbungart/opt/anaconda3/lib/python3.8/site-packages/cosmic/evolve.py:258: UserWarning: The value for dtp in initial binary table is being overwritten by the value of dtp from either the params file or the BSEDict.\n",
      "  warnings.warn(\"The value for {0} in initial binary table is being \"\n"
     ]
    },
    {
     "name": "stdout",
     "output_type": "stream",
     "text": [
      "     tphys  kstar_1   mass0_1    mass_1       lum_1     rad_1        teff_1  \\\n",
      "0      0.0      1.0  2.593861  2.593861   43.069299  1.924564  10706.448493   \n",
      "0  13700.0     11.0  0.638607  0.639128    0.000003  0.012261   2199.684448   \n",
      "1      0.0      1.0  1.132933  1.132933    1.151916  1.038733   5893.493831   \n",
      "1  13700.0     11.0  0.528162  0.528162    0.000055  0.013796   4257.328092   \n",
      "2      0.0      1.0  3.389154  3.389154  122.516331  2.229746  12917.856418   \n",
      "2  13700.0     11.0  0.991244  0.991244    0.000004  0.008157   2783.009494   \n",
      "3      0.0      1.0  0.860060  0.860060    0.301067  0.773154   4884.303649   \n",
      "3  13700.0      1.0  0.860060  0.860060    0.536318  0.905172   5215.064689   \n",
      "4      0.0      1.0  1.258359  1.258359    1.897632  1.217236   6167.869631   \n",
      "4  13700.0     11.0  0.586149  0.586149    0.000004  0.012967   2336.068783   \n",
      "\n",
      "    massc_1    radc_1        menv_1  ...          porb          sep       ecc  \\\n",
      "0  0.000000  0.000000  1.000000e-10  ...  17268.152460  4329.041290  0.882634   \n",
      "0  0.639128  0.012261  1.000000e-10  ...      0.216140     1.451381  0.000000   \n",
      "1  0.000000  0.000000  1.698375e-02  ...      6.574856    18.164873  0.205705   \n",
      "1  0.528162  0.013796  1.000000e-10  ...      0.000000     0.000000 -1.000000   \n",
      "2  0.000000  0.000000  1.000000e-10  ...      1.787950    10.699594  0.741296   \n",
      "2  0.991244  0.008157  1.000000e-10  ...      0.000000     0.000000 -1.000000   \n",
      "3  0.000000  0.000000  4.831423e-02  ...  82265.419528  8878.873668  0.519207   \n",
      "3  0.000000  0.000000  4.794664e-02  ...  82265.419528  8878.873668  0.519207   \n",
      "4  0.000000  0.000000  8.049747e-05  ...      1.899996     8.026926  0.765164   \n",
      "4  0.586149  0.012967  1.000000e-10  ...      0.000000     0.000000 -1.000000   \n",
      "\n",
      "   B_1  B_2  SN_1  SN_2  bin_state  merger_type  bin_num  \n",
      "0  0.0  0.0   0.0   0.0          0         -001        0  \n",
      "0  0.0  0.0   0.0   0.0          0         -001        0  \n",
      "1  0.0  0.0   0.0   0.0          0         -001        1  \n",
      "1  0.0  0.0   0.0   0.0          1         0300        1  \n",
      "2  0.0  0.0   0.0   0.0          0         -001        2  \n",
      "2  0.0  0.0   0.0   0.0          1         0101        2  \n",
      "3  0.0  0.0   0.0   0.0          0         -001        3  \n",
      "3  0.0  0.0   0.0   0.0          0         -001        3  \n",
      "4  0.0  0.0   0.0   0.0          0         -001        4  \n",
      "4  0.0  0.0   0.0   0.0          1         0100        4  \n",
      "\n",
      "[10 rows x 39 columns]\n",
      "###################### System Evolved ################################\n",
      "59 59 59\n",
      "######################### Filtering Complete #######################\n"
     ]
    }
   ],
   "source": [
    "#Set the runID, what change is being made, and size\n",
    "param_change = 'primary_model'\n",
    "size = 100\n",
    "runID = 'salpeter55_run_1'\n",
    "\n",
    "#Set Initial binary parameters\n",
    "\n",
    "#Setting what evolution types are allowed\n",
    "final_kstar1 = [10,11,12]\n",
    "final_kstar2 = [10,11,12]\n",
    "\n",
    "#Set the initial binary population parameters\n",
    "InitialBinaries, mass_singles, mass_binaries, n_singles, n_binaries = \\\n",
    "     InitialBinaryTable.sampler('independent', final_kstar1, final_kstar2, binfrac_model=1.,\n",
    "                                primary_model='salpeter55', ecc_model='sana12', porb_model='sana12',\n",
    "                                qmin=-1, SF_start=13700.0, SF_duration=0.0, met=0.02, size=size)\n",
    "\n",
    "#Can print initial binaries here to check\n",
    "#print(InitialBinaries)\n",
    "\n",
    "print('####################### Initial Binaries Set ##########################')\n",
    "\n",
    "#Set the BSEDict\n",
    "BSEDict = {'xi': 1.0, 'bhflag': 1, 'neta': 0.5, 'windflag': 3, 'wdflag': 1, 'alpha1': 1.0, 'pts1': 0.001, 'pts3': 0.02, 'pts2': 0.01, 'epsnov': 0.001, 'hewind': 0.5, 'ck': 1000, 'bwind': 0.0, 'lambdaf': 0.0, 'mxns': 3.0, 'beta': -1.0, 'tflag': 1, 'acc2': 1.5, 'grflag' : 1, 'remnantflag': 4, 'ceflag': 0, 'eddfac': 1.0, 'ifflag': 0, 'bconst': 3000, 'sigma': 265.0, 'gamma': -2.0, 'pisn': 45.0, 'natal_kick_array' : [[-100.0,-100.0,-100.0,-100.0,0.0], [-100.0,-100.0,-100.0,-100.0,0.0]], 'bhsigmafrac' : 1.0, 'polar_kick_angle' : 90, 'qcrit_array' : [0.0,0.0,0.0,0.0,0.0,0.0,0.0,0.0,0.0,0.0,0.0,0.0,0.0,0.0,0.0,0.0], 'cekickflag' : 2, 'cehestarflag' : 0, 'cemergeflag' : 0, 'ecsn' : 2.25, 'ecsn_mlow' : 1.6, 'aic' : 1, 'ussn' : 0, 'sigmadiv' :-20.0, 'qcflag' : 1, 'eddlimflag' : 0, 'fprimc_array' : [2.0/21.0,2.0/21.0,2.0/21.0,2.0/21.0,2.0/21.0,2.0/21.0,2.0/21.0,2.0/21.0,2.0/21.0,2.0/21.0,2.0/21.0,2.0/21.0,2.0/21.0,2.0/21.0,2.0/21.0,2.0/21.0], 'bhspinflag' : 0, 'bhspinmag' : 0.0, 'rejuv_fac' : 1.0, 'rejuvflag' : 0, 'htpmb' : 1, 'ST_cr' : 1, 'ST_tide' : 1, 'bdecayfac' : 1, 'rembar_massloss' : 0.5, 'kickflag' : 0, 'zsun' : 0.014, 'bhms_coll_flag' : 0, 'don_lim' : -1, 'acc_lim' : -1, 'dtp' : 13700.0}\n",
    "\n",
    "#Evolve the system\n",
    "bpp, bcm, initC, kick_info  = Evolve.evolve(initialbinarytable=InitialBinaries, BSEDict=BSEDict)\n",
    "\n",
    "print(bcm.iloc[:10])\n",
    "\n",
    "print('###################### System Evolved ################################')\n",
    "\n",
    "#Get all parameters and create sini artificial data\n",
    "mass1 = bcm.mass_1[bcm.tphys == 13700.0]\n",
    "#print(mass1)\n",
    "mass2 = bcm.mass_2[bcm.tphys == 13700.0]\n",
    "#print(mass2)\n",
    "period = bcm.porb[bcm.tphys == 13700.0]\n",
    "#print(period)\n",
    "ecc = bcm.ecc[bcm.tphys == 13700.0]\n",
    "#print(ecc)\n",
    "a = bcm.sep[bcm.tphys == 13700.0]\n",
    "#print(a)\n",
    "\n",
    "#Checking to make sure all initial dataframes are the \n",
    "#same length\n",
    "#print(len(mass1))\n",
    "#print(len(mass2))\n",
    "#print(len(period))\n",
    "#print(len(ecc))\n",
    "#print(len(a))\n",
    "\n",
    "#Create artificial sini data\n",
    "sin_i = np.random.uniform(0, 1, len(mass1))\n",
    "sin_i = pd.DataFrame(sin_i)\n",
    "#print(len(sin_i))\n",
    "\n",
    "#Here you can manually check\n",
    "#What values you'd want to remove\n",
    "#pd.set_option(\"display.max_rows\", None, \"display.max_columns\", None)\n",
    "#print(ecc)\n",
    "\n",
    "p = period[period != 0]\n",
    "p = p[p != -1]\n",
    "p = p[p != np.inf]\n",
    "#print(len(p))\n",
    "\n",
    "semi = a[a != 0]\n",
    "semi = semi[semi != -1]\n",
    "#print(len(semi))\n",
    "\n",
    "e = ecc[ecc != -1]\n",
    "#print(len(e))\n",
    "\n",
    "#Start the filtering!\n",
    "#Can check the del_arr as it goes by uncommenting the print lines\n",
    "\n",
    "#period indecies\n",
    "x = period.index[period == 0]\n",
    "y = period.index[period == -1]\n",
    "z = period.index[period == np.inf]\n",
    "\n",
    "#Update del_arr\n",
    "del_arr = x\n",
    "del_arr = del_arr.append(y)\n",
    "del_arr = del_arr.append(z)\n",
    "#print(del_arr)\n",
    "\n",
    "#Semi major indecies\n",
    "x_2 = a.index[a == 0]\n",
    "y_2 = a.index[a == -1]\n",
    "\n",
    "#Update del_arr\n",
    "del_arr = del_arr.append(x_2)\n",
    "del_arr = del_arr.append(y_2)\n",
    "#print(del_arr)\n",
    "\n",
    "#Ecc indecies\n",
    "x_3 = ecc.index[ecc == -1]\n",
    "\n",
    "#Update del_arr\n",
    "del_arr = del_arr.append(x_3)\n",
    "#print(del_arr)\n",
    "\n",
    "#Create final array and remove duplicates\n",
    "delete_arr = np.unique(del_arr)\n",
    "\n",
    "ecc_f = []\n",
    "for i in range(len(ecc)):\n",
    "    if ecc.index[i] not in delete_arr:\n",
    "        ecc_f.append(ecc[ecc.index[i]])\n",
    "period_f = []\n",
    "for i in range(len(period)):\n",
    "    if period.index[i] not in delete_arr:\n",
    "        period_f.append(period[period.index[i]])\n",
    "a_f = []\n",
    "for i in range(len(a)):\n",
    "    if a.index[i] not in delete_arr:\n",
    "        a_f.append(a[a.index[i]])\n",
    "\n",
    "#Checking the new filtered ones\n",
    "#print(ecc_f)\n",
    "#print(period_f)\n",
    "#print(a_f)\n",
    "\n",
    "#Check they are all the same length\n",
    "print(len(ecc_f), len(period_f), len(a_f))\n",
    "\n",
    "#Update the masses\n",
    "m1 = []\n",
    "for i in range(len(mass1)):\n",
    "    if mass1.index[i] not in delete_arr:\n",
    "        m1.append(mass1[mass1.index[i]])\n",
    "m2 = []\n",
    "for i in range(len(mass2)):\n",
    "    if mass2.index[i] not in delete_arr:\n",
    "        m2.append(mass2[mass2.index[i]])\n",
    "        \n",
    "sini = np.random.uniform(0, 1, len(m1))\n",
    "\n",
    "print('######################### Filtering Complete #######################')\n"
   ]
  },
  {
   "cell_type": "code",
   "execution_count": 4,
   "metadata": {},
   "outputs": [
    {
     "name": "stdout",
     "output_type": "stream",
     "text": [
      "##################### Start plotting #########################\n"
     ]
    }
   ],
   "source": [
    "#Make the dataframes arrays in order to use rv funciton\n",
    "m1 = np.array(m1)\n",
    "m2 = np.array(m2)\n",
    "ecc_f = np.array(ecc_f)\n",
    "period_f = np.array(period_f)\n",
    "a_f = np.array(a_f)\n",
    "sini = np.array(sini)\n",
    "\n",
    "rv = rv_variable(m1, m2, a_f, period_f, ecc_f, sini)\n",
    "\n",
    "#Can check rv's below if wanted\n",
    "#print(rv)\n",
    "#print(len(rv))\n",
    "\n",
    "print('##################### Start plotting #########################')"
   ]
  },
  {
   "cell_type": "code",
   "execution_count": 8,
   "metadata": {},
   "outputs": [
    {
     "data": {
      "text/plain": [
       "(0.0, 30.0)"
      ]
     },
     "execution_count": 8,
     "metadata": {},
     "output_type": "execute_result"
    },
    {
     "data": {
      "image/png": "[encoded data removed]",
      "text/plain": [
       "<Figure size 432x288 with 1 Axes>"
      ]
     },
     "metadata": {
      "needs_background": "light"
     },
     "output_type": "display_data"
    }
   ],
   "source": [
    "rv = pd.DataFrame(rv)\n",
    "\n",
    "count, edges = np.histogram(rv, bins=50)\n",
    "\n",
    "rv.plot(kind='hist', bins=50, edgecolor='black', alpha=1, legend=None)\n",
    "plt.title('Filtered RVs')\n",
    "plt.xlabel('RV_Variability')\n",
    "plt.ylabel('Number')\n",
    "plt.xlim(0,30)\n",
    "#plt.savefig(path3 + 'Filtered_rv_' + runID + '.png')\n",
    "#plt.show()\n"
   ]
  },
  {
   "cell_type": "code",
   "execution_count": 9,
   "metadata": {},
   "outputs": [
    {
     "name": "stdout",
     "output_type": "stream",
     "text": [
      "[28  6  1  2  0  1  0  1  2  1  2  3  0  0  1  1  1  2  0  2  2  0  0  0\n",
      "  0  0  0  2  0  0  0  0  0  0  0  0  0  0  0  0  0  0  0  0  0  0  0  0\n",
      "  0  1]\n",
      "[5.49598410e-03 3.81227064e-01 7.56958143e-01 1.13268922e+00\n",
      " 1.50842030e+00 1.88415138e+00 2.25988246e+00 2.63561354e+00\n",
      " 3.01134462e+00 3.38707570e+00 3.76280678e+00 4.13853786e+00\n",
      " 4.51426894e+00 4.89000002e+00 5.26573110e+00 5.64146218e+00\n",
      " 6.01719326e+00 6.39292434e+00 6.76865542e+00 7.14438650e+00\n",
      " 7.52011758e+00 7.89584866e+00 8.27157974e+00 8.64731082e+00\n",
      " 9.02304190e+00 9.39877298e+00 9.77450406e+00 1.01502351e+01\n",
      " 1.05259662e+01 1.09016973e+01 1.12774284e+01 1.16531595e+01\n",
      " 1.20288905e+01 1.24046216e+01 1.27803527e+01 1.31560838e+01\n",
      " 1.35318149e+01 1.39075459e+01 1.42832770e+01 1.46590081e+01\n",
      " 1.50347392e+01 1.54104703e+01 1.57862013e+01 1.61619324e+01\n",
      " 1.65376635e+01 1.69133946e+01 1.72891256e+01 1.76648567e+01\n",
      " 1.80405878e+01 1.84163189e+01 1.87920500e+01]\n"
     ]
    }
   ],
   "source": [
    "print(count)\n",
    "print(edges)"
   ]
  }
 ],
 "metadata": {
  "kernelspec": {
   "display_name": "Python 3",
   "language": "python",
   "name": "python3"
  },
  "language_info": {
   "codemirror_mode": {
    "name": "ipython",
    "version": 3
   },
   "file_extension": ".py",
   "mimetype": "text/x-python",
   "name": "python",
   "nbconvert_exporter": "python",
   "pygments_lexer": "ipython3",
   "version": "3.8.5"
  }
 },
 "nbformat": 4,
 "nbformat_minor": 4
}
