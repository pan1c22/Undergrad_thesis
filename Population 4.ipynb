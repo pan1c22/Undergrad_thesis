{
 "cells": [
  {
   "cell_type": "code",
   "execution_count": 1,
   "metadata": {},
   "outputs": [],
   "source": [
    "import numpy as np\n",
    "import pandas as pd\n",
    "import matplotlib.pyplot as plt\n",
    "%matplotlib inline"
   ]
  },
  {
   "cell_type": "code",
   "execution_count": 2,
   "metadata": {},
   "outputs": [],
   "source": [
    "import cosmic\n",
    "from cosmic.sample.initialbinarytable import InitialBinaryTable\n",
    "from cosmic.evolve import Evolve\n",
    "from cosmic.sample.sampler import independent"
   ]
  },
  {
   "cell_type": "markdown",
   "metadata": {},
   "source": [
    "## Start playing with the metallicity, duration, and the models"
   ]
  },
  {
   "cell_type": "code",
   "execution_count": 3,
   "metadata": {},
   "outputs": [
    {
     "name": "stdout",
     "output_type": "stream",
     "text": [
      "     kstar_1  kstar_2     mass_1    mass_2           porb       ecc  \\\n",
      "0        1.0      1.0   2.322691  2.310369  147644.020317  0.008985   \n",
      "1        1.0      1.0   1.140366  0.783224       9.718680  0.496635   \n",
      "2        1.0      1.0   1.782976  1.701072   11787.281846  0.329923   \n",
      "3        1.0      1.0   1.997234  1.549822       5.564065  0.629110   \n",
      "4        1.0      0.0   2.122529  0.564518    4578.958932  0.897940   \n",
      "..       ...      ...        ...       ...            ...       ...   \n",
      "97       1.0      1.0   3.193019  2.091424   96725.037043  0.011019   \n",
      "98       1.0      0.0   0.928906  0.667619      62.810940  0.692335   \n",
      "99       1.0      1.0   4.296046  2.785519       4.021690  0.161350   \n",
      "100      1.0      0.0   0.901470  0.508845       1.856201  0.172696   \n",
      "101      1.0      1.0  10.545483  4.911966     245.799263  0.006455   \n",
      "\n",
      "     metallicity   tphysf    mass0_1   mass0_2  ...  tacc_1  tacc_2  epoch_1  \\\n",
      "0           0.03  13700.0   2.322691  2.310369  ...     0.0     0.0      0.0   \n",
      "1           0.03  13700.0   1.140366  0.783224  ...     0.0     0.0      0.0   \n",
      "2           0.03  13700.0   1.782976  1.701072  ...     0.0     0.0      0.0   \n",
      "3           0.03  13700.0   1.997234  1.549822  ...     0.0     0.0      0.0   \n",
      "4           0.03  13700.0   2.122529  0.564518  ...     0.0     0.0      0.0   \n",
      "..           ...      ...        ...       ...  ...     ...     ...      ...   \n",
      "97          0.03  13700.0   3.193019  2.091424  ...     0.0     0.0      0.0   \n",
      "98          0.03  13700.0   0.928906  0.667619  ...     0.0     0.0      0.0   \n",
      "99          0.03  13700.0   4.296046  2.785519  ...     0.0     0.0      0.0   \n",
      "100         0.03  13700.0   0.901470  0.508845  ...     0.0     0.0      0.0   \n",
      "101         0.03  13700.0  10.545483  4.911966  ...     0.0     0.0      0.0   \n",
      "\n",
      "     epoch_2  tms_1  tms_2  bhspin_1  bhspin_2  tphys  binfrac  \n",
      "0        0.0    0.0    0.0       0.0       0.0    0.0      0.5  \n",
      "1        0.0    0.0    0.0       0.0       0.0    0.0      0.5  \n",
      "2        0.0    0.0    0.0       0.0       0.0    0.0      0.5  \n",
      "3        0.0    0.0    0.0       0.0       0.0    0.0      0.5  \n",
      "4        0.0    0.0    0.0       0.0       0.0    0.0      0.5  \n",
      "..       ...    ...    ...       ...       ...    ...      ...  \n",
      "97       0.0    0.0    0.0       0.0       0.0    0.0      0.5  \n",
      "98       0.0    0.0    0.0       0.0       0.0    0.0      0.5  \n",
      "99       0.0    0.0    0.0       0.0       0.0    0.0      0.5  \n",
      "100      0.0    0.0    0.0       0.0       0.0    0.0      0.5  \n",
      "101      0.0    0.0    0.0       0.0       0.0    0.0      0.5  \n",
      "\n",
      "[102 rows x 38 columns]\n"
     ]
    }
   ],
   "source": [
    "final_kstar1 = [11, 12]\n",
    "final_kstar2 = [10]\n",
    "\n",
    "InitialBinaries, mass_singles, mass_binaries, n_singles, n_binaries = InitialBinaryTable.sampler('independent', final_kstar1, final_kstar2, binfrac_model=0.5, primary_model='kroupa01', ecc_model='sana12', porb_model='sana12', qmin=-1, SF_start=13700.0, SF_duration=0.0, met=0.5, size=100)\n",
    "\n",
    "print(InitialBinaries)"
   ]
  },
  {
   "cell_type": "code",
   "execution_count": 4,
   "metadata": {},
   "outputs": [
    {
     "name": "stderr",
     "output_type": "stream",
     "text": [
      "/Users/noahbungart/opt/anaconda3/lib/python3.8/site-packages/cosmic/evolve.py:258: UserWarning: The value for dtp in initial binary table is being overwritten by the value of dtp from either the params file or the BSEDict.\n",
      "  warnings.warn(\"The value for {0} in initial binary table is being \"\n"
     ]
    },
    {
     "name": "stdout",
     "output_type": "stream",
     "text": [
      "     tphys  kstar_1   mass0_1    mass_1      lum_1     rad_1       teff_1  \\\n",
      "0      0.0      1.0  2.322691  2.322691  30.930687  1.920035  9867.620055   \n",
      "0  13700.0     11.0  0.576031  0.576394   0.000004  0.013102  2252.356833   \n",
      "1      0.0      1.0  1.140366  1.140366   1.393188  1.028696  6210.527252   \n",
      "1  13700.0     11.0  0.514725  0.514725   0.000078  0.013999  4600.373994   \n",
      "2      0.0      1.0  1.782976  1.782976  10.392392  1.661359  8076.379115   \n",
      "2  13700.0     11.0  0.528655  0.540419   0.000006  0.013615  2499.848878   \n",
      "3      0.0      1.0  1.997234  1.997234  16.721213  1.768539  8816.155088   \n",
      "3  13700.0     11.0  0.836117  0.836117   0.000009  0.009898  3198.544804   \n",
      "4      0.0      1.0  2.122529  2.122529  21.474287  1.827949  9231.393058   \n",
      "4  13700.0     11.0  0.531827  0.531827   0.000004  0.013742  2247.466245   \n",
      "\n",
      "    massc_1    radc_1        menv_1  ...          porb           sep  \\\n",
      "0  0.000000  0.000000  1.000000e-10  ...  1.476440e+05  19590.783081   \n",
      "0  0.576394  0.013102  1.000000e-10  ...  2.367113e+06  78326.360013   \n",
      "1  0.000000  0.000000  1.000000e-10  ...  9.718680e+00     23.826536   \n",
      "1  0.514725  0.013999  1.000000e-10  ...  0.000000e+00      0.000000   \n",
      "2  0.000000  0.000000  1.000000e-10  ...  1.178728e+04   3303.104877   \n",
      "2  0.540419  0.013615  1.000000e-10  ...  8.366217e+04   8241.017679   \n",
      "3  0.000000  0.000000  1.000000e-10  ...  5.564065e+00     20.145096   \n",
      "3  0.836117  0.009898  1.000000e-10  ...  0.000000e+00      0.000000   \n",
      "4  0.000000  0.000000  1.000000e-10  ...  4.578959e+03   1612.704570   \n",
      "4  0.531827  0.013742  1.000000e-10  ...  2.232132e+00      7.409366   \n",
      "\n",
      "        ecc  B_1  B_2  SN_1  SN_2  bin_state  merger_type  bin_num  \n",
      "0  0.008985  0.0  0.0   0.0   0.0          0         -001        0  \n",
      "0  0.008895  0.0  0.0   0.0   0.0          0         -001        0  \n",
      "1  0.496635  0.0  0.0   0.0   0.0          0         -001        1  \n",
      "1 -1.000000  0.0  0.0   0.0   0.0          1         0301        1  \n",
      "2  0.329923  0.0  0.0   0.0   0.0          0         -001        2  \n",
      "2  0.276148  0.0  0.0   0.0   0.0          0         -001        2  \n",
      "3  0.629110  0.0  0.0   0.0   0.0          0         -001        3  \n",
      "3 -1.000000  0.0  0.0   0.0   0.0          1         0303        3  \n",
      "4  0.897940  0.0  0.0   0.0   0.0          0         -001        4  \n",
      "4  0.000000  0.0  0.0   0.0   0.0          0         -001        4  \n",
      "\n",
      "[10 rows x 39 columns]\n"
     ]
    }
   ],
   "source": [
    "BSEDict = {'xi': 1.0, 'bhflag': 1, 'neta': 0.5, 'windflag': 3, 'wdflag': 1, 'alpha1': 1.0, 'pts1': 0.001, 'pts3': 0.02, 'pts2': 0.01, 'epsnov': 0.001, 'hewind': 0.5, 'ck': 1000, 'bwind': 0.0, 'lambdaf': 0.0, 'mxns': 3.0, 'beta': -1.0, 'tflag': 1, 'acc2': 1.5, 'grflag' : 1, 'remnantflag': 4, 'ceflag': 0, 'eddfac': 1.0, 'ifflag': 0, 'bconst': 3000, 'sigma': 265.0, 'gamma': -2.0, 'pisn': 45.0, 'natal_kick_array' : [[-100.0,-100.0,-100.0,-100.0,0.0], [-100.0,-100.0,-100.0,-100.0,0.0]], 'bhsigmafrac' : 1.0, 'polar_kick_angle' : 90, 'qcrit_array' : [0.0,0.0,0.0,0.0,0.0,0.0,0.0,0.0,0.0,0.0,0.0,0.0,0.0,0.0,0.0,0.0], 'cekickflag' : 2, 'cehestarflag' : 0, 'cemergeflag' : 0, 'ecsn' : 2.25, 'ecsn_mlow' : 1.6, 'aic' : 1, 'ussn' : 0, 'sigmadiv' :-20.0, 'qcflag' : 1, 'eddlimflag' : 0, 'fprimc_array' : [2.0/21.0,2.0/21.0,2.0/21.0,2.0/21.0,2.0/21.0,2.0/21.0,2.0/21.0,2.0/21.0,2.0/21.0,2.0/21.0,2.0/21.0,2.0/21.0,2.0/21.0,2.0/21.0,2.0/21.0,2.0/21.0], 'bhspinflag' : 0, 'bhspinmag' : 0.0, 'rejuv_fac' : 1.0, 'rejuvflag' : 0, 'htpmb' : 1, 'ST_cr' : 1, 'ST_tide' : 1, 'bdecayfac' : 1, 'rembar_massloss' : 0.5, 'kickflag' : 0, 'zsun' : 0.014, 'bhms_coll_flag' : 0, 'don_lim' : -1, 'acc_lim' : -1, 'dtp' : 13700.0}\n",
    "\n",
    "bpp, bcm, initC, kick_info  = Evolve.evolve(initialbinarytable=InitialBinaries, BSEDict=BSEDict)\n",
    "\n",
    "print(bcm.iloc[:10])"
   ]
  },
  {
   "cell_type": "code",
   "execution_count": 5,
   "metadata": {},
   "outputs": [],
   "source": [
    "#print(bpp)\n",
    "#print(bcm)\n",
    "mass1 = bcm.mass_1\n",
    "m1 = np.array(mass1)\n",
    "mass2 = bcm.mass_2\n",
    "m2 = np.array(mass2)"
   ]
  },
  {
   "cell_type": "code",
   "execution_count": 6,
   "metadata": {},
   "outputs": [],
   "source": [
    "tphys = bcm.tphys\n",
    "Tphys = np.array(tphys)"
   ]
  },
  {
   "cell_type": "code",
   "execution_count": 7,
   "metadata": {},
   "outputs": [],
   "source": [
    "final_mass1 = [m1[i] for i in range(len(Tphys)) if Tphys[i] == 13700.0]\n",
    "#print(final_mass1)\n",
    "final_mass2 = [m2[i] for i in range(len(Tphys)) if Tphys[i] == 13700.0]\n",
    "#print(final_mass2)\n",
    "f_m1 = pd.DataFrame(final_mass1)\n",
    "f_m2 = pd.DataFrame(final_mass2)"
   ]
  },
  {
   "cell_type": "code",
   "execution_count": 8,
   "metadata": {},
   "outputs": [
    {
     "data": {
      "image/png": "[encoded data removed]",
      "text/plain": [
       "<Figure size 432x288 with 1 Axes>"
      ]
     },
     "metadata": {
      "needs_background": "light"
     },
     "output_type": "display_data"
    }
   ],
   "source": [
    "f_m1.plot(kind='hist', edgecolor='black', alpha=1, legend=None)\n",
    "plt.title('Final Masses of Star 1')\n",
    "plt.xlabel('Ranges of Masses')\n",
    "plt.show()"
   ]
  },
  {
   "cell_type": "code",
   "execution_count": 9,
   "metadata": {},
   "outputs": [
    {
     "data": {
      "text/plain": [
       "Text(0.5, 0, 'Range of Masses')"
      ]
     },
     "execution_count": 9,
     "metadata": {},
     "output_type": "execute_result"
    },
    {
     "data": {
      "image/png": "[encoded data removed]",
      "text/plain": [
       "<Figure size 432x288 with 1 Axes>"
      ]
     },
     "metadata": {
      "needs_background": "light"
     },
     "output_type": "display_data"
    }
   ],
   "source": [
    "f_m2.plot(kind='hist', edgecolor='black', alpha=1, legend=None)\n",
    "plt.title('Final masses of star 2')\n",
    "plt.xlabel('Range of Masses')"
   ]
  },
  {
   "cell_type": "code",
   "execution_count": 26,
   "metadata": {},
   "outputs": [],
   "source": [
    "#Getting rid of any binary systems with a period of infinity\n",
    "fperiod = bcm.porb\n",
    "fp = np.array(fperiod)\n",
    "f_period = [fp[i] for i in range(len(Tphys)) if Tphys[i] == 13700.0]\n",
    "f = [f_period[i] for i in range(len(f_period)) if f_period[i]!= np.Inf]\n",
    "#f0 = [f[i] for i in range(len(f)) if f[i] != 0.0]\n",
    "#f_0 = [f0[i] for i in range(len(f0)) if f0[i] <= 1.0]\n",
    "fp1 = pd.DataFrame(f)\n",
    "#print(fp1)"
   ]
  },
  {
   "cell_type": "code",
   "execution_count": 27,
   "metadata": {},
   "outputs": [
    {
     "data": {
      "text/plain": [
       "Text(0.5, 0, 'Periods')"
      ]
     },
     "execution_count": 27,
     "metadata": {},
     "output_type": "execute_result"
    },
    {
     "data": {
      "image/png": "[encoded data removed]",
      "text/plain": [
       "<Figure size 432x288 with 1 Axes>"
      ]
     },
     "metadata": {
      "needs_background": "light"
     },
     "output_type": "display_data"
    }
   ],
   "source": [
    "fp1.plot(kind='hist', edgecolor='black', legend=None)\n",
    "plt.title('Final Period of Stars')\n",
    "plt.xlabel('Periods')"
   ]
  },
  {
   "cell_type": "code",
   "execution_count": null,
   "metadata": {},
   "outputs": [],
   "source": []
  }
 ],
 "metadata": {
  "kernelspec": {
   "display_name": "Python 3",
   "language": "python",
   "name": "python3"
  },
  "language_info": {
   "codemirror_mode": {
    "name": "ipython",
    "version": 3
   },
   "file_extension": ".py",
   "mimetype": "text/x-python",
   "name": "python",
   "nbconvert_exporter": "python",
   "pygments_lexer": "ipython3",
   "version": "3.8.5"
  }
 },
 "nbformat": 4,
 "nbformat_minor": 4
}
